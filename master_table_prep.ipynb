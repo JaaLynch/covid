{
 "cells": [
  {
   "cell_type": "markdown",
   "metadata": {},
   "source": [
    "# Create the Master Data Table"
   ]
  },
  {
   "cell_type": "markdown",
   "metadata": {},
   "source": [
    "The following data sources were used:\n",
    "\n",
    "USA Facts (Affiliated with the CDC)\n",
    "* usafacts_cdc.p created with the notebook usafacts_cdc_data_explore.ipynb \n",
    "* has NYC county level time series data, that no other source has\n",
    "* has FIPS code already on\n",
    "* comes with its own population attached\n",
    "\n",
    "Census Data (ACS Survey)\n",
    "* census_master.p created with the notebook cencus_data_explore.ipynb\n",
    "* has a wealth of fields to attach to counties\n",
    "* comes from the 'covid' area of the census FTP site\n",
    "\n",
    "Google Mobility Data\n",
    "* Apple data is not automatically downloadable\n",
    "* simple and easy to use\n",
    "\n"
   ]
  },
  {
   "cell_type": "code",
   "execution_count": 1,
   "metadata": {},
   "outputs": [],
   "source": [
    "import pandas as pd, ftplib, io, pickle, boto3, numpy as np"
   ]
  },
  {
   "cell_type": "markdown",
   "metadata": {},
   "source": [
    "# Data Pipepline"
   ]
  },
  {
   "cell_type": "markdown",
   "metadata": {},
   "source": [
    "## Download and Aggregate Census Data"
   ]
  },
  {
   "cell_type": "code",
   "execution_count": 2,
   "metadata": {},
   "outputs": [],
   "source": [
    "def getCensusData():\n",
    "    ftp = ftplib.FTP('ftp2.census.gov')\n",
    "    print(ftp.login())\n",
    "    ftp.cwd('programs-surveys/acs/data/covid_19/Data_Profiles_for_HHS/050-County_By_State')\n",
    "    \n",
    "    files = ftp.nlst()\n",
    "    \n",
    "    # Load and transform files\n",
    "    data = pd.DataFrame()\n",
    "    data_list = []\n",
    "    for file in files:\n",
    "        download_file = io.BytesIO()\n",
    "        ftp.retrbinary(\"RETR {}\".format(file), download_file.write)\n",
    "        download_file.seek(0) # after writing go back to the start of the virtual file\n",
    "        df = pd.read_csv(download_file, encoding = \"ISO-8859-1\") # read virtual file into pandas\n",
    "\n",
    "        # Transform the df to get ready to transpose\n",
    "        df = df.drop(columns=['Line Number','Table ID'])\n",
    "        df = df[df.columns.drop(list(df.filter(regex='Percent')))]\n",
    "        df.columns = df.columns.str.rstrip(' Estimate')  \n",
    "\n",
    "        df = df.rename(columns = {'Description':'County'})\n",
    "\n",
    "        # Transpose the df so that we can aggregate files with rows for each county\n",
    "        df = df.T\n",
    "\n",
    "        # Fix the column names\n",
    "        col_names = df.iloc[0,]\n",
    "        df.columns = col_names\n",
    "\n",
    "        # Drop the row with the column names\n",
    "        df = df.drop(df.index[0])\n",
    "\n",
    "        # Add a state columns\n",
    "        df[\"State\"] = file[-6:-4].upper()\n",
    "\n",
    "        # Add the data to a list\n",
    "        data_list.append(df)\n",
    "\n",
    "    print(ftp.quit())\n",
    "    print(\"Data successfully downloaded.\")\n",
    "    return data_list"
   ]
  },
  {
   "cell_type": "code",
   "execution_count": 3,
   "metadata": {},
   "outputs": [
    {
     "name": "stdout",
     "output_type": "stream",
     "text": [
      "230-Server: ftp2.census.gov\n",
      "230-\n",
      "230-Personal Identifiable Information (PII) shall not be placed on the FTP\n",
      "230-server without prior special arrangement and in conjunction with ITSO.\n",
      "230-\n",
      "230-NOTE: The data available for anonymous FTP download on this FTP server are\n",
      "230-also available over the Web:\n",
      "230-http://www2.census.gov\n",
      "230 Login successful.\n",
      "221 Goodbye.\n",
      "Data successfully downloaded.\n"
     ]
    }
   ],
   "source": [
    "data_list = getCensusData()"
   ]
  },
  {
   "cell_type": "code",
   "execution_count": 4,
   "metadata": {},
   "outputs": [],
   "source": [
    "def createCensusMasterTable(data_list):\n",
    "    data = pd.DataFrame()\n",
    "    data_list_2 = []\n",
    "    \n",
    "    # Concatenate columns\n",
    "    for i in range(int(len(data_list)/4)):\n",
    "        df = pd.concat([data_list[i], data_list[i+52], data_list[i+2*52], data_list[i+3*52]], axis=1)\n",
    "        data_list_2.append(df)\n",
    "    \n",
    "    # Puerto Rico table title says \"Selected Social Characteristics in \"Puerto Rico\" which causes a problem with concatentate\n",
    "    data_list_2.pop(39)\n",
    "    \n",
    "    # Concatenate rows\n",
    "    data = pd.concat(data_list_2)\n",
    "    return data"
   ]
  },
  {
   "cell_type": "code",
   "execution_count": 5,
   "metadata": {},
   "outputs": [],
   "source": [
    "census_data = createCensusMasterTable(data_list)"
   ]
  },
  {
   "cell_type": "code",
   "execution_count": 6,
   "metadata": {},
   "outputs": [
    {
     "data": {
      "text/html": [
       "<div>\n",
       "<style scoped>\n",
       "    .dataframe tbody tr th:only-of-type {\n",
       "        vertical-align: middle;\n",
       "    }\n",
       "\n",
       "    .dataframe tbody tr th {\n",
       "        vertical-align: top;\n",
       "    }\n",
       "\n",
       "    .dataframe thead th {\n",
       "        text-align: right;\n",
       "    }\n",
       "</style>\n",
       "<table border=\"1\" class=\"dataframe\">\n",
       "  <thead>\n",
       "    <tr style=\"text-align: right;\">\n",
       "      <th>County</th>\n",
       "      <th>SELECTED SOCIAL CHARACTERISTICS IN THE UNITED STATES</th>\n",
       "      <th>HOUSEHOLDS BY TYPE</th>\n",
       "      <th>Total households</th>\n",
       "      <th>Family households (families)</th>\n",
       "      <th>With own children of the householder under 18 years</th>\n",
       "      <th>Married-couple family</th>\n",
       "      <th>With own children of the householder under 18 years</th>\n",
       "      <th>Male householder, no wife present, family</th>\n",
       "      <th>With own children of the householder under 18 years</th>\n",
       "      <th>Female householder, no husband present, family</th>\n",
       "      <th>...</th>\n",
       "      <th>Two races including Some other race</th>\n",
       "      <th>Two races excluding Some other race, and Three or more races</th>\n",
       "      <th>NaN</th>\n",
       "      <th>Total housing units</th>\n",
       "      <th>NaN</th>\n",
       "      <th>CITIZEN, VOTING AGE POPULATION</th>\n",
       "      <th>Citizen, 18 and over population</th>\n",
       "      <th>Male</th>\n",
       "      <th>Female</th>\n",
       "      <th>State</th>\n",
       "    </tr>\n",
       "  </thead>\n",
       "  <tbody>\n",
       "    <tr>\n",
       "      <th>Aleutians East Borough</th>\n",
       "      <td>NaN</td>\n",
       "      <td>NaN</td>\n",
       "      <td>860</td>\n",
       "      <td>538</td>\n",
       "      <td>243</td>\n",
       "      <td>346</td>\n",
       "      <td>122</td>\n",
       "      <td>79</td>\n",
       "      <td>29</td>\n",
       "      <td>113</td>\n",
       "      <td>...</td>\n",
       "      <td>0</td>\n",
       "      <td>222</td>\n",
       "      <td>NaN</td>\n",
       "      <td>1,106</td>\n",
       "      <td>NaN</td>\n",
       "      <td>NaN</td>\n",
       "      <td>2,122</td>\n",
       "      <td>1,221</td>\n",
       "      <td>901</td>\n",
       "      <td>AK</td>\n",
       "    </tr>\n",
       "    <tr>\n",
       "      <th>Aleutians West Census Ar</th>\n",
       "      <td>NaN</td>\n",
       "      <td>NaN</td>\n",
       "      <td>1,176</td>\n",
       "      <td>716</td>\n",
       "      <td>407</td>\n",
       "      <td>510</td>\n",
       "      <td>288</td>\n",
       "      <td>87</td>\n",
       "      <td>51</td>\n",
       "      <td>119</td>\n",
       "      <td>...</td>\n",
       "      <td>7</td>\n",
       "      <td>255</td>\n",
       "      <td>NaN</td>\n",
       "      <td>1,967</td>\n",
       "      <td>NaN</td>\n",
       "      <td>NaN</td>\n",
       "      <td>3,511</td>\n",
       "      <td>2,308</td>\n",
       "      <td>1,203</td>\n",
       "      <td>AK</td>\n",
       "    </tr>\n",
       "  </tbody>\n",
       "</table>\n",
       "<p>2 rows × 659 columns</p>\n",
       "</div>"
      ],
      "text/plain": [
       "County                   SELECTED SOCIAL CHARACTERISTICS IN THE UNITED STATES  \\\n",
       "Aleutians East Borough                                                  NaN     \n",
       "Aleutians West Census Ar                                                NaN     \n",
       "\n",
       "County                   HOUSEHOLDS BY TYPE Total households  \\\n",
       "Aleutians East Borough                  NaN              860   \n",
       "Aleutians West Census Ar                NaN            1,176   \n",
       "\n",
       "County                   Family households (families)  \\\n",
       "Aleutians East Borough                            538   \n",
       "Aleutians West Census Ar                          716   \n",
       "\n",
       "County                   With own children of the householder under 18 years  \\\n",
       "Aleutians East Borough                                                  243    \n",
       "Aleutians West Census Ar                                                407    \n",
       "\n",
       "County                   Married-couple family  \\\n",
       "Aleutians East Borough                     346   \n",
       "Aleutians West Census Ar                   510   \n",
       "\n",
       "County                   With own children of the householder under 18 years  \\\n",
       "Aleutians East Borough                                                  122    \n",
       "Aleutians West Census Ar                                                288    \n",
       "\n",
       "County                   Male householder, no wife present, family  \\\n",
       "Aleutians East Borough                                          79   \n",
       "Aleutians West Census Ar                                        87   \n",
       "\n",
       "County                   With own children of the householder under 18 years  \\\n",
       "Aleutians East Borough                                                   29    \n",
       "Aleutians West Census Ar                                                 51    \n",
       "\n",
       "County                   Female householder, no husband present, family  ...  \\\n",
       "Aleutians East Borough                                              113  ...   \n",
       "Aleutians West Census Ar                                            119  ...   \n",
       "\n",
       "County                   Two races including Some other race  \\\n",
       "Aleutians East Borough                                     0   \n",
       "Aleutians West Census Ar                                   7   \n",
       "\n",
       "County                   Two races excluding Some other race, and Three or more races  \\\n",
       "Aleutians East Borough                                                  222             \n",
       "Aleutians West Census Ar                                                255             \n",
       "\n",
       "County                    NaN Total housing units  NaN  \\\n",
       "Aleutians East Borough    NaN               1,106  NaN   \n",
       "Aleutians West Census Ar  NaN               1,967  NaN   \n",
       "\n",
       "County                   CITIZEN, VOTING AGE POPULATION  \\\n",
       "Aleutians East Borough                              NaN   \n",
       "Aleutians West Census Ar                            NaN   \n",
       "\n",
       "County                   Citizen, 18 and over population   Male Female State  \n",
       "Aleutians East Borough                             2,122  1,221    901    AK  \n",
       "Aleutians West Census Ar                           3,511  2,308  1,203    AK  \n",
       "\n",
       "[2 rows x 659 columns]"
      ]
     },
     "execution_count": 6,
     "metadata": {},
     "output_type": "execute_result"
    }
   ],
   "source": [
    "census_data.head(2)"
   ]
  },
  {
   "cell_type": "markdown",
   "metadata": {},
   "source": [
    "## Helper Functions\n",
    "* Be sure to set your aws credentials in the virtual environment using \n",
    "* pipenv shell\n",
    "* aws configure\n",
    "* enter your ID and secret key"
   ]
  },
  {
   "cell_type": "code",
   "execution_count": 1075,
   "metadata": {},
   "outputs": [],
   "source": [
    "def getS3Data(bucket, file_loc, csv=True):\n",
    "    client = boto3.client('s3')\n",
    "    obj = client.get_object(Bucket=bucket, Key=file_loc)\n",
    "    if(csv):\n",
    "        data = pd.read_csv(obj['Body'] , dtype=str)\n",
    "    else:\n",
    "        data = pd.read_json(obj['Body'])\n",
    "    \n",
    "    return data"
   ]
  },
  {
   "cell_type": "code",
   "execution_count": 984,
   "metadata": {},
   "outputs": [],
   "source": [
    "def dataCleanUp(data, date_field, fips_field, case_field, death_field, suffix): \n",
    "    print(\"Shape: \", data.shape)\n",
    "    data[fips_field] = data[fips_field].astype('str').apply(lambda x: x.zfill(5))\n",
    "    data[date_field] = data[date_field].astype('datetime64')\n",
    "    data[case_field] = data[case_field].astype('float64')\n",
    "    print(\"Case control total: \", data[case_field].sum())\n",
    "    data[death_field] = data[death_field].astype('float64')\n",
    "    print(\"Death control total: \", data[death_field].sum())\n",
    "    data = data.add_suffix(suffix)\n",
    "    data['date'] = data[date_field + suffix]\n",
    "    data = data.rename(str.lower, axis='columns') \n",
    "    return data"
   ]
  },
  {
   "cell_type": "code",
   "execution_count": 877,
   "metadata": {},
   "outputs": [],
   "source": [
    "def getDataInfo(data, case_field, death_field):\n",
    "    print(\"Dataframe Shape: \", data.shape)\n",
    "    print(\"Number of States: \", len(data['state_code'].unique()))\n",
    "    print(\"Number of Counties: \", len(data['fips_code'].unique()))\n",
    "    print(\"Minimum Date: \", data['date'].min())\n",
    "    print(\"Maximum Date: \", data['date'].max())\n",
    "    print(\"Duplicate State-Fips-Date: \", \n",
    "          data.groupby(['state_code','fips_code', 'date']).size().reset_index().rename(columns={0:'count'})['count'].sum() \n",
    "          - data.shape[0])\n",
    "    print(\"Null State Code: \", data[data.state_code.isnull()].size)\n",
    "    print(\"Null County Code: \", data[data.fips_code.isnull()].size)\n",
    "    print(\"Null Dates: \", enigma_agg_data[enigma_agg_data.date.isnull()].size)\n",
    "    \n",
    "    print(\"Case Control Total: \", data[case_field].sum())\n",
    "    print(\"Death Control Total: \", data[death_field].sum())"
   ]
  },
  {
   "cell_type": "code",
   "execution_count": 10,
   "metadata": {},
   "outputs": [],
   "source": [
    "def sumDups(data, county_field, date_field, sum_field):\n",
    "    out = data[\n",
    "        data.duplicated([county_field, date_field]) & \n",
    "        (data[date_field] == data[date_field].max())\n",
    "    ][sum_field].sum()\n",
    "    return out"
   ]
  },
  {
   "cell_type": "markdown",
   "metadata": {},
   "source": [
    "## Static Data"
   ]
  },
  {
   "cell_type": "markdown",
   "metadata": {},
   "source": [
    "### County reference data"
   ]
  },
  {
   "cell_type": "code",
   "execution_count": 11,
   "metadata": {},
   "outputs": [],
   "source": [
    "county_ref_data = getS3Data('covid19-lake', 'static-datasets/csv/CountyPopulation/County_Population.csv')"
   ]
  },
  {
   "cell_type": "code",
   "execution_count": 12,
   "metadata": {},
   "outputs": [],
   "source": [
    "county_ref_data.columns = ['big_fips', 'fips', 'county', 'state', 'population_2018']"
   ]
  },
  {
   "cell_type": "code",
   "execution_count": 13,
   "metadata": {},
   "outputs": [],
   "source": [
    "county_ref_data['fips'] = county_ref_data['fips'].astype('Int64').astype('str').apply(lambda x: x.zfill(5))"
   ]
  },
  {
   "cell_type": "code",
   "execution_count": 14,
   "metadata": {},
   "outputs": [
    {
     "data": {
      "text/html": [
       "<div>\n",
       "<style scoped>\n",
       "    .dataframe tbody tr th:only-of-type {\n",
       "        vertical-align: middle;\n",
       "    }\n",
       "\n",
       "    .dataframe tbody tr th {\n",
       "        vertical-align: top;\n",
       "    }\n",
       "\n",
       "    .dataframe thead th {\n",
       "        text-align: right;\n",
       "    }\n",
       "</style>\n",
       "<table border=\"1\" class=\"dataframe\">\n",
       "  <thead>\n",
       "    <tr style=\"text-align: right;\">\n",
       "      <th></th>\n",
       "      <th>big_fips</th>\n",
       "      <th>fips</th>\n",
       "      <th>county</th>\n",
       "      <th>state</th>\n",
       "      <th>population_2018</th>\n",
       "    </tr>\n",
       "  </thead>\n",
       "  <tbody>\n",
       "    <tr>\n",
       "      <th>0</th>\n",
       "      <td>0500000US01001</td>\n",
       "      <td>01001</td>\n",
       "      <td>Autauga</td>\n",
       "      <td>Alabama</td>\n",
       "      <td>55601</td>\n",
       "    </tr>\n",
       "    <tr>\n",
       "      <th>1</th>\n",
       "      <td>0500000US01003</td>\n",
       "      <td>01003</td>\n",
       "      <td>Baldwin</td>\n",
       "      <td>Alabama</td>\n",
       "      <td>218022</td>\n",
       "    </tr>\n",
       "  </tbody>\n",
       "</table>\n",
       "</div>"
      ],
      "text/plain": [
       "         big_fips   fips   county    state  population_2018\n",
       "0  0500000US01001  01001  Autauga  Alabama            55601\n",
       "1  0500000US01003  01003  Baldwin  Alabama           218022"
      ]
     },
     "execution_count": 14,
     "metadata": {},
     "output_type": "execute_result"
    }
   ],
   "source": [
    "county_ref_data.head(2)"
   ]
  },
  {
   "cell_type": "code",
   "execution_count": 15,
   "metadata": {},
   "outputs": [
    {
     "data": {
      "text/plain": [
       "(3220, 5)"
      ]
     },
     "execution_count": 15,
     "metadata": {},
     "output_type": "execute_result"
    }
   ],
   "source": [
    "county_ref_data.shape"
   ]
  },
  {
   "cell_type": "markdown",
   "metadata": {},
   "source": [
    "### State reference data"
   ]
  },
  {
   "cell_type": "code",
   "execution_count": 16,
   "metadata": {},
   "outputs": [],
   "source": [
    "state_ref_data = getS3Data('covid19-lake', 'static-datasets/csv/state-abv/states_abv.csv')"
   ]
  },
  {
   "cell_type": "code",
   "execution_count": 17,
   "metadata": {},
   "outputs": [],
   "source": [
    "state_ref_data.columns = ['state_name','state_code']"
   ]
  },
  {
   "cell_type": "code",
   "execution_count": 312,
   "metadata": {},
   "outputs": [
    {
     "data": {
      "text/html": [
       "<div>\n",
       "<style scoped>\n",
       "    .dataframe tbody tr th:only-of-type {\n",
       "        vertical-align: middle;\n",
       "    }\n",
       "\n",
       "    .dataframe tbody tr th {\n",
       "        vertical-align: top;\n",
       "    }\n",
       "\n",
       "    .dataframe thead th {\n",
       "        text-align: right;\n",
       "    }\n",
       "</style>\n",
       "<table border=\"1\" class=\"dataframe\">\n",
       "  <thead>\n",
       "    <tr style=\"text-align: right;\">\n",
       "      <th></th>\n",
       "      <th>state_name</th>\n",
       "      <th>state_code</th>\n",
       "    </tr>\n",
       "  </thead>\n",
       "  <tbody>\n",
       "    <tr>\n",
       "      <th>0</th>\n",
       "      <td>Alabama</td>\n",
       "      <td>AL</td>\n",
       "    </tr>\n",
       "    <tr>\n",
       "      <th>1</th>\n",
       "      <td>Alaska</td>\n",
       "      <td>AK</td>\n",
       "    </tr>\n",
       "  </tbody>\n",
       "</table>\n",
       "</div>"
      ],
      "text/plain": [
       "  state_name state_code\n",
       "0    Alabama         AL\n",
       "1     Alaska         AK"
      ]
     },
     "execution_count": 312,
     "metadata": {},
     "output_type": "execute_result"
    }
   ],
   "source": [
    "state_ref_data.head(2)"
   ]
  },
  {
   "cell_type": "code",
   "execution_count": 19,
   "metadata": {},
   "outputs": [
    {
     "data": {
      "text/plain": [
       "(51, 2)"
      ]
     },
     "execution_count": 19,
     "metadata": {},
     "output_type": "execute_result"
    }
   ],
   "source": [
    "state_ref_data.shape"
   ]
  },
  {
   "cell_type": "markdown",
   "metadata": {},
   "source": [
    "### Safegraph Open Census Data\n",
    "* See notebook: safe_graph_census_data_explore.ipynb"
   ]
  },
  {
   "cell_type": "code",
   "execution_count": 20,
   "metadata": {},
   "outputs": [],
   "source": [
    "#Add these later as needed\n",
    "\n",
    "#safegraph_census_data = pickle.load(open('safegraph_census.p','rb'))\n",
    "#safegraph_census_data_fields = pickle.load(open('safegraph_metadata_fields.p','rb'))"
   ]
  },
  {
   "cell_type": "markdown",
   "metadata": {},
   "source": [
    "#### FIPS Reference Data"
   ]
  },
  {
   "cell_type": "code",
   "execution_count": 21,
   "metadata": {},
   "outputs": [],
   "source": [
    "safegraph_ref_data_fips = pickle.load(open('safegraph_ref_data_fips.p','rb'))"
   ]
  },
  {
   "cell_type": "code",
   "execution_count": 554,
   "metadata": {},
   "outputs": [],
   "source": [
    "# Create state_county concatenation for lookup on google mobility data\n",
    "safegraph_ref_data_fips['state_county'] = safegraph_ref_data_fips['state'] + safegraph_ref_data_fips['county']"
   ]
  },
  {
   "cell_type": "code",
   "execution_count": 22,
   "metadata": {},
   "outputs": [
    {
     "data": {
      "text/html": [
       "<div>\n",
       "<style scoped>\n",
       "    .dataframe tbody tr th:only-of-type {\n",
       "        vertical-align: middle;\n",
       "    }\n",
       "\n",
       "    .dataframe tbody tr th {\n",
       "        vertical-align: top;\n",
       "    }\n",
       "\n",
       "    .dataframe thead th {\n",
       "        text-align: right;\n",
       "    }\n",
       "</style>\n",
       "<table border=\"1\" class=\"dataframe\">\n",
       "  <thead>\n",
       "    <tr style=\"text-align: right;\">\n",
       "      <th></th>\n",
       "      <th>state</th>\n",
       "      <th>state_fips</th>\n",
       "      <th>county_fips</th>\n",
       "      <th>county</th>\n",
       "      <th>class_code</th>\n",
       "      <th>fips</th>\n",
       "    </tr>\n",
       "  </thead>\n",
       "  <tbody>\n",
       "    <tr>\n",
       "      <th>0</th>\n",
       "      <td>AL</td>\n",
       "      <td>01</td>\n",
       "      <td>001</td>\n",
       "      <td>Autauga County</td>\n",
       "      <td>H1</td>\n",
       "      <td>01001</td>\n",
       "    </tr>\n",
       "    <tr>\n",
       "      <th>1</th>\n",
       "      <td>AL</td>\n",
       "      <td>01</td>\n",
       "      <td>003</td>\n",
       "      <td>Baldwin County</td>\n",
       "      <td>H1</td>\n",
       "      <td>01003</td>\n",
       "    </tr>\n",
       "  </tbody>\n",
       "</table>\n",
       "</div>"
      ],
      "text/plain": [
       "  state state_fips county_fips          county class_code   fips\n",
       "0    AL         01         001  Autauga County         H1  01001\n",
       "1    AL         01         003  Baldwin County         H1  01003"
      ]
     },
     "execution_count": 22,
     "metadata": {},
     "output_type": "execute_result"
    }
   ],
   "source": [
    "safegraph_ref_data_fips.head(2)"
   ]
  },
  {
   "cell_type": "markdown",
   "metadata": {},
   "source": [
    "#### Land area"
   ]
  },
  {
   "cell_type": "code",
   "execution_count": 23,
   "metadata": {},
   "outputs": [],
   "source": [
    "safegraph_land = pickle.load(open('safegraph_land.p','rb'))"
   ]
  },
  {
   "cell_type": "code",
   "execution_count": 24,
   "metadata": {},
   "outputs": [],
   "source": [
    "safegraph_land.reset_index(level=0, inplace=True)"
   ]
  },
  {
   "cell_type": "code",
   "execution_count": 25,
   "metadata": {},
   "outputs": [
    {
     "data": {
      "text/html": [
       "<div>\n",
       "<style scoped>\n",
       "    .dataframe tbody tr th:only-of-type {\n",
       "        vertical-align: middle;\n",
       "    }\n",
       "\n",
       "    .dataframe tbody tr th {\n",
       "        vertical-align: top;\n",
       "    }\n",
       "\n",
       "    .dataframe thead th {\n",
       "        text-align: right;\n",
       "    }\n",
       "</style>\n",
       "<table border=\"1\" class=\"dataframe\">\n",
       "  <thead>\n",
       "    <tr style=\"text-align: right;\">\n",
       "      <th></th>\n",
       "      <th>fips</th>\n",
       "      <th>amount_land</th>\n",
       "      <th>amount_water</th>\n",
       "    </tr>\n",
       "  </thead>\n",
       "  <tbody>\n",
       "    <tr>\n",
       "      <th>0</th>\n",
       "      <td>01001</td>\n",
       "      <td>1539609015</td>\n",
       "      <td>25749942</td>\n",
       "    </tr>\n",
       "    <tr>\n",
       "      <th>1</th>\n",
       "      <td>01003</td>\n",
       "      <td>4117584019</td>\n",
       "      <td>1133130502</td>\n",
       "    </tr>\n",
       "  </tbody>\n",
       "</table>\n",
       "</div>"
      ],
      "text/plain": [
       "    fips  amount_land  amount_water\n",
       "0  01001   1539609015      25749942\n",
       "1  01003   4117584019    1133130502"
      ]
     },
     "execution_count": 25,
     "metadata": {},
     "output_type": "execute_result"
    }
   ],
   "source": [
    "safegraph_land.head(2)"
   ]
  },
  {
   "cell_type": "markdown",
   "metadata": {},
   "source": [
    "## COVID Cases and Deaths Timeseries Data"
   ]
  },
  {
   "cell_type": "markdown",
   "metadata": {},
   "source": [
    "### Enigma Aggregation"
   ]
  },
  {
   "cell_type": "markdown",
   "metadata": {},
   "source": [
    "#### Download data and cleanup"
   ]
  },
  {
   "cell_type": "code",
   "execution_count": 1137,
   "metadata": {},
   "outputs": [],
   "source": [
    "enigma_agg_data = getS3Data('covid19-lake', 'enigma-aggregation/csv/us_counties/enigma_covid_19_us_counties.csv')"
   ]
  },
  {
   "cell_type": "code",
   "execution_count": 1138,
   "metadata": {},
   "outputs": [
    {
     "name": "stdout",
     "output_type": "stream",
     "text": [
      "Shape:  (158981, 10)\n",
      "Case control total:  32826237.0\n",
      "Death control total:  1929121.0\n"
     ]
    }
   ],
   "source": [
    "enigma_agg_data = dataCleanUp(enigma_agg_data, 'date', 'county_fips', 'cases','deaths','_ea')"
   ]
  },
  {
   "cell_type": "code",
   "execution_count": 1139,
   "metadata": {},
   "outputs": [],
   "source": [
    "# Change a few fips codes\n",
    "enigma_agg_data['fips_code'] = enigma_agg_data['county_fips_ea']\n",
    "enigma_agg_data.loc[enigma_agg_data['fips_code'] == '0<NA>', 'fips_code'] = '00000'"
   ]
  },
  {
   "cell_type": "code",
   "execution_count": 1140,
   "metadata": {},
   "outputs": [],
   "source": [
    "# Attach 2 digit state code from state fips code\n",
    "tmp_state = safegraph_ref_data_fips.groupby(['state_fips','state']).size().reset_index().rename(columns={0:'count'})\n",
    "enigma_agg_data['state_fips_ea'] = enigma_agg_data['state_fips_ea'].astype('str').apply(lambda x: x.zfill(2))\n",
    "\n",
    "lefton = ['state_fips_ea']\n",
    "righton = ['state_fips']\n",
    "\n",
    "enigma_agg_data = pd.merge(enigma_agg_data, tmp_state[['state_fips','state']], how='left', left_on=lefton, right_on=righton)\n",
    "\n",
    "enigma_agg_data['state_code'] = enigma_agg_data['state']\n",
    "enigma_agg_data['state_name'] = enigma_agg_data['state_name_ea']\n",
    "\n",
    "enigma_agg_data = enigma_agg_data.drop(columns=['state', 'state_fips'])"
   ]
  },
  {
   "cell_type": "markdown",
   "metadata": {},
   "source": [
    "#### Checks"
   ]
  },
  {
   "cell_type": "code",
   "execution_count": 1141,
   "metadata": {},
   "outputs": [
    {
     "name": "stdout",
     "output_type": "stream",
     "text": [
      "Dataframe Shape:  (158981, 14)\n",
      "Number of States:  55\n",
      "Number of Counties:  2918\n",
      "Minimum Date:  2020-01-21 00:00:00\n",
      "Maximum Date:  2020-05-19 00:00:00\n",
      "Duplicate State-Fips-Date:  0\n",
      "Null State Code:  0\n",
      "Null County Code:  0\n",
      "Null Dates:  0\n",
      "Case Control Total:  32826237.0\n",
      "Death Control Total:  1929121.0\n"
     ]
    }
   ],
   "source": [
    "getDataInfo(enigma_agg_data, 'cases_ea', 'deaths_ea')"
   ]
  },
  {
   "cell_type": "markdown",
   "metadata": {},
   "source": [
    "### Enigma Johns Hopkins University"
   ]
  },
  {
   "cell_type": "markdown",
   "metadata": {},
   "source": [
    "#### Download data and basic summary"
   ]
  },
  {
   "cell_type": "code",
   "execution_count": 1079,
   "metadata": {},
   "outputs": [],
   "source": [
    "# NEED TO CHANGE FUNCTION TO , dtype=str and then add some typing logic\n",
    "### THIS SECTION NEEDS FIXING - they just removed the csv!\n",
    "#enigma_jh_data = getS3Data('covid19-lake', 'enigma-jhu-timeseries/csv/jhu_csse_covid_19_timeseries_merged.csv')"
   ]
  },
  {
   "cell_type": "code",
   "execution_count": 1082,
   "metadata": {},
   "outputs": [],
   "source": [
    "# Filter to only US\n",
    "  enigma_jh_data = enigma_jh_data[enigma_jh_data['iso2']=='US']"
   ]
  },
  {
   "cell_type": "code",
   "execution_count": 325,
   "metadata": {},
   "outputs": [],
   "source": [
    "enigma_jh_data = dataCleanUp(enigma_jh_data, 'date', 'fips', 'confirmed', 'deaths', '_ejhu')"
   ]
  },
  {
   "cell_type": "code",
   "execution_count": 328,
   "metadata": {},
   "outputs": [],
   "source": [
    "# Create clean fips_code\n",
    "enigma_jh_data['fips_code'] = enigma_jh_data['fips_ejhu']\n",
    "enigma_jh_data.loc[enigma_jh_data['admin2_ejhu'].isin(jh_unknown_fips_counties), 'fips_code'] = '00000'"
   ]
  },
  {
   "cell_type": "code",
   "execution_count": null,
   "metadata": {},
   "outputs": [],
   "source": [
    "# Add \"Out of XX\" counties to \"Unknown\"\n",
    "jh_unknown_fips_counties = ['Out of AL', 'Out of AK',\n",
    "       'Out of AZ', 'Out of AR', 'Out of CA', 'Out of CO', 'Out of CT',\n",
    "       'Out of DE', 'Out of DC', 'Out of FL', 'Out of GA', 'Out of HI',\n",
    "       'Out of ID', 'Out of IL', 'Out of IN', 'Out of IA', 'Out of KS',\n",
    "       'Out of KY', 'Out of LA', 'Out of ME', 'Out of MD', 'Out of MA',\n",
    "       'Out of MI', 'Out of MN', 'Out of MS', 'Out of MO', 'Out of MT',\n",
    "       'Out of NE', 'Out of NV', 'Out of NH', 'Out of NJ', 'Out of NM',\n",
    "       'Out of NY', 'Out of NC', 'Out of ND', 'Out of OH', 'Out of OK',\n",
    "       'Out of OR', 'Out of PA', 'Out of RI', 'Out of SC', 'Out of SD',\n",
    "       'Out of TN', 'Out of TX', 'Out of UT', 'Out of VT', 'Out of VA',\n",
    "       'Out of WA', 'Out of WV', 'Out of WI', 'Out of WY']\n",
    "enigma_jh_data.loc[enigma_jh_data['admin2_ejhu'].isin(jh_unknown_fips_counties), 'fips_code'] = '00000'"
   ]
  },
  {
   "cell_type": "code",
   "execution_count": 329,
   "metadata": {},
   "outputs": [],
   "source": [
    "enigma_jh_data.loc[enigma_jh_data['admin2_ejhu']=='Dukes and Nantucket', 'fips_code'] = 'n0001'\n",
    "enigma_jh_data.loc[enigma_jh_data['admin2_ejhu']=='Kansas City', 'fips_code'] = 'n0002'\n",
    "enigma_jh_data.loc[enigma_jh_data['admin2_ejhu']=='Michigan Department of Corrections (MDOC)', 'fips_code'] = 'n0003'\n",
    "enigma_jh_data.loc[enigma_jh_data['admin2_ejhu']=='Federal Correctional Institution (FCI)','fips_code'] = 'n0004'\n",
    "enigma_jh_data.loc[enigma_jh_data['admin2_ejhu']=='Bear River', 'fips_code'] = 'n0005'\n",
    "enigma_jh_data.loc[enigma_jh_data['admin2_ejhu']=='Central Utah', 'fips_code'] = 'n0006'\n",
    "enigma_jh_data.loc[enigma_jh_data['admin2_ejhu']=='Southeast Utah', 'fips_code'] = 'n0007'\n",
    "enigma_jh_data.loc[enigma_jh_data['admin2_ejhu']=='Southwest Utah', 'fips_code'] = 'n0008'\n",
    "enigma_jh_data.loc[enigma_jh_data['admin2_ejhu']=='TriCounty', 'fips_code'] = 'n0009'\n",
    "enigma_jh_data.loc[enigma_jh_data['admin2_ejhu']=='Weber-Morgan', 'fips_code'] = 'n0010'"
   ]
  },
  {
   "cell_type": "code",
   "execution_count": 330,
   "metadata": {},
   "outputs": [],
   "source": [
    "lefton = ['province_state_ejhu']\n",
    "righton = ['state_name']\n",
    "\n",
    "enigma_jh_data = pd.merge(\n",
    "    enigma_jh_data, state_ref_data, \n",
    "    how='left', left_on=lefton, right_on=righton)"
   ]
  },
  {
   "cell_type": "code",
   "execution_count": 348,
   "metadata": {},
   "outputs": [],
   "source": [
    "enigma_jh_data.loc[enigma_jh_data['province_state_ejhu']=='Diamond Princess', 'state_code'] = 'CA'\n",
    "enigma_jh_data.loc[enigma_jh_data['province_state_ejhu']=='Grand Princess', 'state_code'] = 'CA'\n",
    "\n",
    "enigma_jh_data.loc[enigma_jh_data['province_state_ejhu']=='Diamond Princess', 'state_name'] = 'California'\n",
    "enigma_jh_data.loc[enigma_jh_data['province_state_ejhu']=='Grand Princess', 'state_name'] = 'California'"
   ]
  },
  {
   "cell_type": "code",
   "execution_count": 375,
   "metadata": {},
   "outputs": [],
   "source": [
    "enigma_jh_data['date'] = enigma_jh_data['date_ejhu']"
   ]
  },
  {
   "cell_type": "code",
   "execution_count": 376,
   "metadata": {},
   "outputs": [
    {
     "data": {
      "text/html": [
       "<div>\n",
       "<style scoped>\n",
       "    .dataframe tbody tr th:only-of-type {\n",
       "        vertical-align: middle;\n",
       "    }\n",
       "\n",
       "    .dataframe tbody tr th {\n",
       "        vertical-align: top;\n",
       "    }\n",
       "\n",
       "    .dataframe thead th {\n",
       "        text-align: right;\n",
       "    }\n",
       "</style>\n",
       "<table border=\"1\" class=\"dataframe\">\n",
       "  <thead>\n",
       "    <tr style=\"text-align: right;\">\n",
       "      <th></th>\n",
       "      <th>uid_ejhu</th>\n",
       "      <th>fips_ejhu</th>\n",
       "      <th>iso2_ejhu</th>\n",
       "      <th>iso3_ejhu</th>\n",
       "      <th>code3_ejhu</th>\n",
       "      <th>admin2_ejhu</th>\n",
       "      <th>latitude_ejhu</th>\n",
       "      <th>longitude_ejhu</th>\n",
       "      <th>province_state_ejhu</th>\n",
       "      <th>country_region_ejhu</th>\n",
       "      <th>date_ejhu</th>\n",
       "      <th>confirmed_ejhu</th>\n",
       "      <th>deaths_ejhu</th>\n",
       "      <th>recovered_ejhu</th>\n",
       "      <th>fips_code</th>\n",
       "      <th>state_name</th>\n",
       "      <th>state_code</th>\n",
       "      <th>date</th>\n",
       "    </tr>\n",
       "  </thead>\n",
       "  <tbody>\n",
       "    <tr>\n",
       "      <th>0</th>\n",
       "      <td>84001001.0</td>\n",
       "      <td>01001</td>\n",
       "      <td>US</td>\n",
       "      <td>USA</td>\n",
       "      <td>840.0</td>\n",
       "      <td>Autauga</td>\n",
       "      <td>32.539527</td>\n",
       "      <td>-86.644082</td>\n",
       "      <td>Alabama</td>\n",
       "      <td>US</td>\n",
       "      <td>2020-01-22</td>\n",
       "      <td>0</td>\n",
       "      <td>0</td>\n",
       "      <td>NaN</td>\n",
       "      <td>01001</td>\n",
       "      <td>Alabama</td>\n",
       "      <td>AL</td>\n",
       "      <td>2020-01-22</td>\n",
       "    </tr>\n",
       "    <tr>\n",
       "      <th>1</th>\n",
       "      <td>84001003.0</td>\n",
       "      <td>01003</td>\n",
       "      <td>US</td>\n",
       "      <td>USA</td>\n",
       "      <td>840.0</td>\n",
       "      <td>Baldwin</td>\n",
       "      <td>30.727750</td>\n",
       "      <td>-87.722071</td>\n",
       "      <td>Alabama</td>\n",
       "      <td>US</td>\n",
       "      <td>2020-01-22</td>\n",
       "      <td>0</td>\n",
       "      <td>0</td>\n",
       "      <td>NaN</td>\n",
       "      <td>01003</td>\n",
       "      <td>Alabama</td>\n",
       "      <td>AL</td>\n",
       "      <td>2020-01-22</td>\n",
       "    </tr>\n",
       "  </tbody>\n",
       "</table>\n",
       "</div>"
      ],
      "text/plain": [
       "     uid_ejhu fips_ejhu iso2_ejhu iso3_ejhu  code3_ejhu admin2_ejhu  \\\n",
       "0  84001001.0     01001        US       USA       840.0     Autauga   \n",
       "1  84001003.0     01003        US       USA       840.0     Baldwin   \n",
       "\n",
       "   latitude_ejhu  longitude_ejhu province_state_ejhu country_region_ejhu  \\\n",
       "0      32.539527      -86.644082             Alabama                  US   \n",
       "1      30.727750      -87.722071             Alabama                  US   \n",
       "\n",
       "   date_ejhu  confirmed_ejhu  deaths_ejhu  recovered_ejhu fips_code  \\\n",
       "0 2020-01-22               0            0             NaN     01001   \n",
       "1 2020-01-22               0            0             NaN     01003   \n",
       "\n",
       "  state_name state_code       date  \n",
       "0    Alabama         AL 2020-01-22  \n",
       "1    Alabama         AL 2020-01-22  "
      ]
     },
     "execution_count": 376,
     "metadata": {},
     "output_type": "execute_result"
    }
   ],
   "source": [
    "enigma_jh_data.head(2)"
   ]
  },
  {
   "cell_type": "markdown",
   "metadata": {},
   "source": [
    "#### Checks"
   ]
  },
  {
   "cell_type": "code",
   "execution_count": 1085,
   "metadata": {},
   "outputs": [
    {
     "name": "stdout",
     "output_type": "stream",
     "text": [
      "Dataframe Shape:  (377696, 18)\n",
      "Number of States:  51\n",
      "Number of Counties:  3206\n",
      "Minimum Date:  2020-01-22 00:00:00\n",
      "Maximum Date:  2020-05-16 00:00:00\n",
      "Duplicate State-Fips-Date:  0\n",
      "Null State Code:  0\n",
      "Null County Code:  0\n",
      "Null Dates:  0\n",
      "Case Control Total:  41132706\n",
      "Death Control Total:  2271471\n"
     ]
    }
   ],
   "source": [
    "getDataInfo(enigma_jh_data, 'confirmed_ejhu', 'deaths_ejhu')"
   ]
  },
  {
   "cell_type": "code",
   "execution_count": 1086,
   "metadata": {},
   "outputs": [],
   "source": [
    "pickle.dump(enigma_jh_data, open('enigma_jh_data_20200517.p','wb'))"
   ]
  },
  {
   "cell_type": "markdown",
   "metadata": {},
   "source": [
    "### Enigma New York Times"
   ]
  },
  {
   "cell_type": "markdown",
   "metadata": {},
   "source": [
    "#### Download data and clean data"
   ]
  },
  {
   "cell_type": "code",
   "execution_count": 1201,
   "metadata": {},
   "outputs": [],
   "source": [
    "enigma_nyt_data = getS3Data('covid19-lake', 'enigma-nytimes-data-in-usa/csv/us_county/us_county.csv')"
   ]
  },
  {
   "cell_type": "code",
   "execution_count": 1202,
   "metadata": {},
   "outputs": [
    {
     "name": "stdout",
     "output_type": "stream",
     "text": [
      "Shape:  (129747, 6)\n",
      "Case control total:  31616769.0\n",
      "Death control total:  1652495.0\n"
     ]
    }
   ],
   "source": [
    "enigma_nyt_data = dataCleanUp(enigma_nyt_data, 'date', 'fips', 'cases','deaths','_enyt')"
   ]
  },
  {
   "cell_type": "code",
   "execution_count": 1203,
   "metadata": {},
   "outputs": [],
   "source": [
    "# Fix Fips codes\n",
    "enigma_nyt_data['fips_code'] = enigma_nyt_data['fips_enyt']\n",
    "enigma_nyt_data.loc[enigma_nyt_data['county_enyt']=='New York City', 'fips_code'] = 'NYC000'\n",
    "enigma_nyt_data.loc[enigma_nyt_data['county_enyt']=='New York City', 'fips_code'] = 'KC0000'\n",
    "enigma_nyt_data.loc[enigma_nyt_data['county_enyt']=='Unknown', 'fips_code'] = '00000'"
   ]
  },
  {
   "cell_type": "code",
   "execution_count": 1204,
   "metadata": {},
   "outputs": [],
   "source": [
    "# Add state\n",
    "lefton = ['state_enyt']\n",
    "righton = ['state_name']\n",
    "\n",
    "enigma_nyt_data = pd.merge(\n",
    "    enigma_nyt_data, state_ref_data, \n",
    "    how='left', left_on=lefton, right_on=righton)"
   ]
  },
  {
   "cell_type": "code",
   "execution_count": 1205,
   "metadata": {},
   "outputs": [],
   "source": [
    "# Fix for extra states\n",
    "enigma_nyt_data.loc[enigma_nyt_data['state_enyt']=='Puerto Rico', 'state_code'] = 'PR'\n",
    "enigma_nyt_data.loc[enigma_nyt_data['state_enyt']=='Virgin Islands', 'state_code'] = 'VI'\n",
    "enigma_nyt_data.loc[enigma_nyt_data['state_enyt']=='Guam', 'state_code'] = 'GU'\n",
    "enigma_nyt_data.loc[enigma_nyt_data['state_enyt']=='Northern Mariana Islands', 'state_code'] = 'MP'\n",
    "\n",
    "enigma_nyt_data.loc[enigma_nyt_data['state_enyt']=='Puerto Rico', 'state_name'] = 'Puerto Rico'\n",
    "enigma_nyt_data.loc[enigma_nyt_data['state_enyt']=='Virgin Islands', 'state_name'] = 'Virgin Islands'\n",
    "enigma_nyt_data.loc[enigma_nyt_data['state_enyt']=='Guam', 'state_name'] = 'Guam'\n",
    "enigma_nyt_data.loc[enigma_nyt_data['state_enyt']=='Northern Mariana Islands', 'state_name'] = 'Northern Mariana Islands'"
   ]
  },
  {
   "cell_type": "code",
   "execution_count": 1206,
   "metadata": {},
   "outputs": [
    {
     "data": {
      "text/html": [
       "<div>\n",
       "<style scoped>\n",
       "    .dataframe tbody tr th:only-of-type {\n",
       "        vertical-align: middle;\n",
       "    }\n",
       "\n",
       "    .dataframe tbody tr th {\n",
       "        vertical-align: top;\n",
       "    }\n",
       "\n",
       "    .dataframe thead th {\n",
       "        text-align: right;\n",
       "    }\n",
       "</style>\n",
       "<table border=\"1\" class=\"dataframe\">\n",
       "  <thead>\n",
       "    <tr style=\"text-align: right;\">\n",
       "      <th></th>\n",
       "      <th>date_enyt</th>\n",
       "      <th>county_enyt</th>\n",
       "      <th>state_enyt</th>\n",
       "      <th>fips_enyt</th>\n",
       "      <th>cases_enyt</th>\n",
       "      <th>deaths_enyt</th>\n",
       "      <th>date</th>\n",
       "      <th>fips_code</th>\n",
       "      <th>state_name</th>\n",
       "      <th>state_code</th>\n",
       "    </tr>\n",
       "  </thead>\n",
       "  <tbody>\n",
       "    <tr>\n",
       "      <th>0</th>\n",
       "      <td>2020-01-21</td>\n",
       "      <td>Snohomish</td>\n",
       "      <td>Washington</td>\n",
       "      <td>53061</td>\n",
       "      <td>1.0</td>\n",
       "      <td>0.0</td>\n",
       "      <td>2020-01-21</td>\n",
       "      <td>53061</td>\n",
       "      <td>Washington</td>\n",
       "      <td>WA</td>\n",
       "    </tr>\n",
       "    <tr>\n",
       "      <th>1</th>\n",
       "      <td>2020-01-22</td>\n",
       "      <td>Snohomish</td>\n",
       "      <td>Washington</td>\n",
       "      <td>53061</td>\n",
       "      <td>1.0</td>\n",
       "      <td>0.0</td>\n",
       "      <td>2020-01-22</td>\n",
       "      <td>53061</td>\n",
       "      <td>Washington</td>\n",
       "      <td>WA</td>\n",
       "    </tr>\n",
       "  </tbody>\n",
       "</table>\n",
       "</div>"
      ],
      "text/plain": [
       "   date_enyt county_enyt  state_enyt fips_enyt  cases_enyt  deaths_enyt  \\\n",
       "0 2020-01-21   Snohomish  Washington     53061         1.0          0.0   \n",
       "1 2020-01-22   Snohomish  Washington     53061         1.0          0.0   \n",
       "\n",
       "        date fips_code  state_name state_code  \n",
       "0 2020-01-21     53061  Washington         WA  \n",
       "1 2020-01-22     53061  Washington         WA  "
      ]
     },
     "execution_count": 1206,
     "metadata": {},
     "output_type": "execute_result"
    }
   ],
   "source": [
    "enigma_nyt_data.head(2)"
   ]
  },
  {
   "cell_type": "markdown",
   "metadata": {},
   "source": [
    "#### Checks"
   ]
  },
  {
   "cell_type": "code",
   "execution_count": 1207,
   "metadata": {},
   "outputs": [
    {
     "name": "stdout",
     "output_type": "stream",
     "text": [
      "Dataframe Shape:  (129747, 10)\n",
      "Number of States:  55\n",
      "Number of Counties:  2885\n",
      "Minimum Date:  2020-01-21 00:00:00\n",
      "Maximum Date:  2020-05-09 00:00:00\n",
      "Duplicate State-Fips-Date:  0\n",
      "Null State Code:  0\n",
      "Null County Code:  0\n",
      "Null Dates:  0\n",
      "Case Control Total:  31616769.0\n",
      "Death Control Total:  1652495.0\n"
     ]
    }
   ],
   "source": [
    "getDataInfo(enigma_nyt_data, 'cases_enyt', 'deaths_enyt')"
   ]
  },
  {
   "cell_type": "markdown",
   "metadata": {},
   "source": [
    "### Rearc New York Times"
   ]
  },
  {
   "cell_type": "markdown",
   "metadata": {},
   "source": [
    "#### Download data and basic summary"
   ]
  },
  {
   "cell_type": "code",
   "execution_count": 1170,
   "metadata": {},
   "outputs": [],
   "source": [
    "rearc_nyt_data = getS3Data('covid19-lake', 'rearc-covid-19-nyt-data-in-usa/csv/us-counties/us-counties.csv')"
   ]
  },
  {
   "cell_type": "code",
   "execution_count": 1171,
   "metadata": {},
   "outputs": [
    {
     "name": "stdout",
     "output_type": "stream",
     "text": [
      "Shape:  (161930, 6)\n",
      "Case control total:  47539415.0\n",
      "Death control total:  2606722.0\n"
     ]
    }
   ],
   "source": [
    "rearc_nyt_data = dataCleanUp(rearc_nyt_data, 'date', 'fips', 'cases','deaths','_rnyt')"
   ]
  },
  {
   "cell_type": "code",
   "execution_count": 1172,
   "metadata": {},
   "outputs": [],
   "source": [
    "rearc_nyt_data['fips_code'] = rearc_nyt_data['fips_rnyt']\n",
    "rearc_nyt_data.loc[rearc_nyt_data['county_rnyt']=='New York City', 'fips_code'] = 'NYC000'\n",
    "rearc_nyt_data.loc[rearc_nyt_data['county_rnyt']=='New York City', 'fips_code'] = 'KC0000'\n",
    "rearc_nyt_data.loc[rearc_nyt_data['county_rnyt']=='Unknown', 'fips_code'] = '00000'"
   ]
  },
  {
   "cell_type": "code",
   "execution_count": 1173,
   "metadata": {},
   "outputs": [],
   "source": [
    "lefton = ['state_rnyt']\n",
    "righton = ['state_name']\n",
    "\n",
    "rearc_nyt_data = pd.merge(\n",
    "    rearc_nyt_data, state_ref_data, \n",
    "    how='left', left_on=lefton, right_on=righton)"
   ]
  },
  {
   "cell_type": "code",
   "execution_count": 1174,
   "metadata": {},
   "outputs": [],
   "source": [
    "rearc_nyt_data.loc[rearc_nyt_data['state_rnyt']=='Puerto Rico', 'state_code'] = 'PUR'\n",
    "rearc_nyt_data.loc[rearc_nyt_data['state_rnyt']=='Virgin Islands', 'state_code'] = 'VGI'\n",
    "rearc_nyt_data.loc[rearc_nyt_data['state_rnyt']=='Guam', 'state_code'] = 'GUM'\n",
    "rearc_nyt_data.loc[rearc_nyt_data['state_rnyt']=='Northern Mariana Islands', 'state_code'] = 'NMI'\n",
    "\n",
    "rearc_nyt_data.loc[rearc_nyt_data['state_rnyt']=='Puerto Rico', 'state_name'] = 'Puerto Rico'\n",
    "rearc_nyt_data.loc[rearc_nyt_data['state_rnyt']=='Virgin Islands', 'state_name'] = 'Virgin Islands'\n",
    "rearc_nyt_data.loc[rearc_nyt_data['state_rnyt']=='Guam', 'state_name'] = 'Guam'\n",
    "rearc_nyt_data.loc[rearc_nyt_data['state_rnyt']=='Northern Mariana Islands', 'state_name'] = 'Northern Mariana Islands'"
   ]
  },
  {
   "cell_type": "code",
   "execution_count": 1175,
   "metadata": {},
   "outputs": [],
   "source": [
    "rearc_nyt_data['date'] = rearc_nyt_data['date_rnyt']"
   ]
  },
  {
   "cell_type": "code",
   "execution_count": 1185,
   "metadata": {},
   "outputs": [
    {
     "data": {
      "text/html": [
       "<div>\n",
       "<style scoped>\n",
       "    .dataframe tbody tr th:only-of-type {\n",
       "        vertical-align: middle;\n",
       "    }\n",
       "\n",
       "    .dataframe tbody tr th {\n",
       "        vertical-align: top;\n",
       "    }\n",
       "\n",
       "    .dataframe thead th {\n",
       "        text-align: right;\n",
       "    }\n",
       "</style>\n",
       "<table border=\"1\" class=\"dataframe\">\n",
       "  <thead>\n",
       "    <tr style=\"text-align: right;\">\n",
       "      <th></th>\n",
       "      <th>date_rnyt</th>\n",
       "      <th>county_rnyt</th>\n",
       "      <th>state_rnyt</th>\n",
       "      <th>fips_rnyt</th>\n",
       "      <th>cases_rnyt</th>\n",
       "      <th>deaths_rnyt</th>\n",
       "      <th>date</th>\n",
       "      <th>fips_code</th>\n",
       "      <th>state_name</th>\n",
       "      <th>state_code</th>\n",
       "    </tr>\n",
       "  </thead>\n",
       "  <tbody>\n",
       "    <tr>\n",
       "      <th>0</th>\n",
       "      <td>2020-01-21</td>\n",
       "      <td>Snohomish</td>\n",
       "      <td>Washington</td>\n",
       "      <td>53061</td>\n",
       "      <td>1.0</td>\n",
       "      <td>0.0</td>\n",
       "      <td>2020-01-21</td>\n",
       "      <td>53061</td>\n",
       "      <td>Washington</td>\n",
       "      <td>WA</td>\n",
       "    </tr>\n",
       "    <tr>\n",
       "      <th>1</th>\n",
       "      <td>2020-01-22</td>\n",
       "      <td>Snohomish</td>\n",
       "      <td>Washington</td>\n",
       "      <td>53061</td>\n",
       "      <td>1.0</td>\n",
       "      <td>0.0</td>\n",
       "      <td>2020-01-22</td>\n",
       "      <td>53061</td>\n",
       "      <td>Washington</td>\n",
       "      <td>WA</td>\n",
       "    </tr>\n",
       "  </tbody>\n",
       "</table>\n",
       "</div>"
      ],
      "text/plain": [
       "   date_rnyt county_rnyt  state_rnyt fips_rnyt  cases_rnyt  deaths_rnyt  \\\n",
       "0 2020-01-21   Snohomish  Washington     53061         1.0          0.0   \n",
       "1 2020-01-22   Snohomish  Washington     53061         1.0          0.0   \n",
       "\n",
       "        date fips_code  state_name state_code  \n",
       "0 2020-01-21     53061  Washington         WA  \n",
       "1 2020-01-22     53061  Washington         WA  "
      ]
     },
     "execution_count": 1185,
     "metadata": {},
     "output_type": "execute_result"
    }
   ],
   "source": [
    "rearc_nyt_data.head(2)"
   ]
  },
  {
   "cell_type": "markdown",
   "metadata": {},
   "source": [
    "#### Checks"
   ]
  },
  {
   "cell_type": "code",
   "execution_count": 924,
   "metadata": {},
   "outputs": [
    {
     "name": "stdout",
     "output_type": "stream",
     "text": [
      "Dataframe Shape:  (158981, 10)\n",
      "Number of States:  55\n",
      "Number of Counties:  2920\n",
      "Minimum Date:  2020-01-21 00:00:00\n",
      "Maximum Date:  2020-05-19 00:00:00\n",
      "Duplicate State-Fips-Date:  0\n",
      "Null State Code:  0\n",
      "Null County Code:  0\n",
      "Null Dates:  0\n",
      "Case Control Total:  45979388.0\n",
      "Death Control Total:  2513314.0\n"
     ]
    }
   ],
   "source": [
    "getDataInfo(rearc_nyt_data, 'cases_rnyt','deaths_rnyt')"
   ]
  },
  {
   "cell_type": "markdown",
   "metadata": {},
   "source": [
    "### USA Facts (CDC Affiliate)"
   ]
  },
  {
   "cell_type": "markdown",
   "metadata": {},
   "source": [
    "#### Download data and basic summary"
   ]
  },
  {
   "cell_type": "code",
   "execution_count": 1005,
   "metadata": {},
   "outputs": [],
   "source": [
    "# Download the data\n",
    "url=\"https://usafactsstatic.blob.core.windows.net/public/data/covid-19/covid_confirmed_usafacts.csv\"\n",
    "data_confirmed = pd.read_csv(url)"
   ]
  },
  {
   "cell_type": "code",
   "execution_count": 1006,
   "metadata": {},
   "outputs": [],
   "source": [
    "url = \"https://usafactsstatic.blob.core.windows.net/public/data/covid-19/covid_deaths_usafacts.csv\"\n",
    "data_deaths = pd.read_csv(url)"
   ]
  },
  {
   "cell_type": "code",
   "execution_count": 1007,
   "metadata": {},
   "outputs": [],
   "source": [
    "url = \"https://usafactsstatic.blob.core.windows.net/public/data/covid-19/covid_county_population_usafacts.csv\"\n",
    "data_county_pop = pd.read_csv(url)"
   ]
  },
  {
   "cell_type": "code",
   "execution_count": 1008,
   "metadata": {},
   "outputs": [],
   "source": [
    "# Move the date column headers into a single column as rows\n",
    "data_confirmed = data_confirmed.melt(\n",
    "    id_vars=['countyFIPS','County Name','State','stateFIPS'], \n",
    "    var_name='Date', value_name='Confirmed')\n",
    "\n",
    "data_deaths = data_deaths.melt(\n",
    "    id_vars=['countyFIPS','County Name','State','stateFIPS'], \n",
    "    var_name='Date', value_name='Deaths')"
   ]
  },
  {
   "cell_type": "code",
   "execution_count": 1009,
   "metadata": {},
   "outputs": [],
   "source": [
    "# Join the raw tables together\n",
    "\n",
    "# Part 1\n",
    "lefton = ['countyFIPS', 'County Name', 'State', 'stateFIPS', 'Date']\n",
    "righton = ['countyFIPS', 'County Name', 'State', 'stateFIPS', 'Date']\n",
    "\n",
    "data = pd.merge(data_confirmed, data_deaths, how='left', left_on=lefton, right_on=righton)\n",
    "\n",
    "# Part 2\n",
    "lefton = ['countyFIPS', 'County Name', 'State']\n",
    "righton = ['countyFIPS', 'County Name', 'State']\n",
    "\n",
    "usafacts_cdc_data = pd.merge(data, data_county_pop, how='left', left_on=lefton, right_on=righton)"
   ]
  },
  {
   "cell_type": "code",
   "execution_count": 1010,
   "metadata": {},
   "outputs": [
    {
     "name": "stdout",
     "output_type": "stream",
     "text": [
      "Shape:  (380205, 8)\n",
      "Case control total:  45500922.0\n",
      "Death control total:  2478485.0\n"
     ]
    }
   ],
   "source": [
    "usafacts_cdc_data = dataCleanUp(usafacts_cdc_data, 'Date', 'countyFIPS', 'Confirmed','Deaths','_cdc')"
   ]
  },
  {
   "cell_type": "code",
   "execution_count": 1012,
   "metadata": {},
   "outputs": [],
   "source": [
    "# Fips code clean up\n",
    "usafacts_cdc_data['fips_code'] = usafacts_cdc_data['countyfips_cdc']\n",
    "usafacts_cdc_data.loc[(usafacts_cdc_data['county name_cdc']=='Grand Princess Cruise Ship'), 'fips_code'] = '99999'"
   ]
  },
  {
   "cell_type": "code",
   "execution_count": 1013,
   "metadata": {},
   "outputs": [],
   "source": [
    "usafacts_cdc_data['state_code'] = usafacts_cdc_data['state_cdc']"
   ]
  },
  {
   "cell_type": "code",
   "execution_count": 1014,
   "metadata": {},
   "outputs": [],
   "source": [
    "# Attach State Name\n",
    "lefton = ['state_code']\n",
    "righton = ['state_code']\n",
    "\n",
    "usafacts_cdc_data = pd.merge(\n",
    "    usafacts_cdc_data, state_ref_data, \n",
    "    how='left', left_on=lefton, right_on=righton)"
   ]
  },
  {
   "cell_type": "code",
   "execution_count": 1015,
   "metadata": {},
   "outputs": [
    {
     "data": {
      "text/html": [
       "<div>\n",
       "<style scoped>\n",
       "    .dataframe tbody tr th:only-of-type {\n",
       "        vertical-align: middle;\n",
       "    }\n",
       "\n",
       "    .dataframe tbody tr th {\n",
       "        vertical-align: top;\n",
       "    }\n",
       "\n",
       "    .dataframe thead th {\n",
       "        text-align: right;\n",
       "    }\n",
       "</style>\n",
       "<table border=\"1\" class=\"dataframe\">\n",
       "  <thead>\n",
       "    <tr style=\"text-align: right;\">\n",
       "      <th></th>\n",
       "      <th>countyfips_cdc</th>\n",
       "      <th>county name_cdc</th>\n",
       "      <th>state_cdc</th>\n",
       "      <th>statefips_cdc</th>\n",
       "      <th>date_cdc</th>\n",
       "      <th>confirmed_cdc</th>\n",
       "      <th>deaths_cdc</th>\n",
       "      <th>population_cdc</th>\n",
       "      <th>date</th>\n",
       "      <th>fips_code</th>\n",
       "      <th>state_code</th>\n",
       "      <th>state_name</th>\n",
       "    </tr>\n",
       "  </thead>\n",
       "  <tbody>\n",
       "    <tr>\n",
       "      <th>0</th>\n",
       "      <td>00000</td>\n",
       "      <td>Statewide Unallocated</td>\n",
       "      <td>AL</td>\n",
       "      <td>1</td>\n",
       "      <td>2020-01-22</td>\n",
       "      <td>0.0</td>\n",
       "      <td>0.0</td>\n",
       "      <td>0.0</td>\n",
       "      <td>2020-01-22</td>\n",
       "      <td>00000</td>\n",
       "      <td>AL</td>\n",
       "      <td>Alabama</td>\n",
       "    </tr>\n",
       "    <tr>\n",
       "      <th>1</th>\n",
       "      <td>01001</td>\n",
       "      <td>Autauga County</td>\n",
       "      <td>AL</td>\n",
       "      <td>1</td>\n",
       "      <td>2020-01-22</td>\n",
       "      <td>0.0</td>\n",
       "      <td>0.0</td>\n",
       "      <td>55869.0</td>\n",
       "      <td>2020-01-22</td>\n",
       "      <td>01001</td>\n",
       "      <td>AL</td>\n",
       "      <td>Alabama</td>\n",
       "    </tr>\n",
       "  </tbody>\n",
       "</table>\n",
       "</div>"
      ],
      "text/plain": [
       "  countyfips_cdc        county name_cdc state_cdc  statefips_cdc   date_cdc  \\\n",
       "0          00000  Statewide Unallocated        AL              1 2020-01-22   \n",
       "1          01001         Autauga County        AL              1 2020-01-22   \n",
       "\n",
       "   confirmed_cdc  deaths_cdc  population_cdc       date fips_code state_code  \\\n",
       "0            0.0         0.0             0.0 2020-01-22     00000         AL   \n",
       "1            0.0         0.0         55869.0 2020-01-22     01001         AL   \n",
       "\n",
       "  state_name  \n",
       "0    Alabama  \n",
       "1    Alabama  "
      ]
     },
     "execution_count": 1015,
     "metadata": {},
     "output_type": "execute_result"
    }
   ],
   "source": [
    "usafacts_cdc_data.head(2)"
   ]
  },
  {
   "cell_type": "markdown",
   "metadata": {},
   "source": [
    "#### Checks"
   ]
  },
  {
   "cell_type": "code",
   "execution_count": 1016,
   "metadata": {},
   "outputs": [
    {
     "name": "stdout",
     "output_type": "stream",
     "text": [
      "Dataframe Shape:  (380205, 12)\n",
      "Number of States:  51\n",
      "Number of Counties:  3146\n",
      "Minimum Date:  2020-01-22 00:00:00\n",
      "Maximum Date:  2020-05-19 00:00:00\n",
      "Duplicate State-Fips-Date:  0\n",
      "Null State Code:  0\n",
      "Null County Code:  0\n",
      "Null Dates:  0\n",
      "Case Control Total:  45500922.0\n",
      "Death Control Total:  2478485.0\n"
     ]
    }
   ],
   "source": [
    "getDataInfo(usafacts_cdc_data, 'confirmed_cdc','deaths_cdc')"
   ]
  },
  {
   "cell_type": "markdown",
   "metadata": {},
   "source": [
    "### Google Mobility Data"
   ]
  },
  {
   "cell_type": "markdown",
   "metadata": {},
   "source": [
    "#### Download data and basic summary"
   ]
  },
  {
   "cell_type": "code",
   "execution_count": 1054,
   "metadata": {},
   "outputs": [],
   "source": [
    "url = \"https://www.gstatic.com/covid19/mobility/Global_Mobility_Report.csv?cachebust=57b4ac4fc4052\"\n",
    "data = pd.read_csv(url, dtype=str)"
   ]
  },
  {
   "cell_type": "code",
   "execution_count": 1055,
   "metadata": {},
   "outputs": [],
   "source": [
    "data = data[data['country_region_code'] == 'US']\n",
    "#data = data[data.sub_region_2.notnull()] #Think about this filter in join - may want two tables, state, and county level\n",
    "data['date'] = data['date'].astype('datetime64')"
   ]
  },
  {
   "cell_type": "code",
   "execution_count": 1056,
   "metadata": {},
   "outputs": [],
   "source": [
    "google_data = data"
   ]
  },
  {
   "cell_type": "code",
   "execution_count": 1057,
   "metadata": {},
   "outputs": [
    {
     "data": {
      "text/html": [
       "<div>\n",
       "<style scoped>\n",
       "    .dataframe tbody tr th:only-of-type {\n",
       "        vertical-align: middle;\n",
       "    }\n",
       "\n",
       "    .dataframe tbody tr th {\n",
       "        vertical-align: top;\n",
       "    }\n",
       "\n",
       "    .dataframe thead th {\n",
       "        text-align: right;\n",
       "    }\n",
       "</style>\n",
       "<table border=\"1\" class=\"dataframe\">\n",
       "  <thead>\n",
       "    <tr style=\"text-align: right;\">\n",
       "      <th></th>\n",
       "      <th>country_region_code</th>\n",
       "      <th>country_region</th>\n",
       "      <th>sub_region_1</th>\n",
       "      <th>sub_region_2</th>\n",
       "      <th>date</th>\n",
       "      <th>retail_and_recreation_percent_change_from_baseline</th>\n",
       "      <th>grocery_and_pharmacy_percent_change_from_baseline</th>\n",
       "      <th>parks_percent_change_from_baseline</th>\n",
       "      <th>transit_stations_percent_change_from_baseline</th>\n",
       "      <th>workplaces_percent_change_from_baseline</th>\n",
       "      <th>residential_percent_change_from_baseline</th>\n",
       "    </tr>\n",
       "  </thead>\n",
       "  <tbody>\n",
       "    <tr>\n",
       "      <th>108182</th>\n",
       "      <td>US</td>\n",
       "      <td>United States</td>\n",
       "      <td>NaN</td>\n",
       "      <td>NaN</td>\n",
       "      <td>2020-02-15</td>\n",
       "      <td>6</td>\n",
       "      <td>2</td>\n",
       "      <td>15</td>\n",
       "      <td>3</td>\n",
       "      <td>2</td>\n",
       "      <td>-1</td>\n",
       "    </tr>\n",
       "    <tr>\n",
       "      <th>108183</th>\n",
       "      <td>US</td>\n",
       "      <td>United States</td>\n",
       "      <td>NaN</td>\n",
       "      <td>NaN</td>\n",
       "      <td>2020-02-16</td>\n",
       "      <td>7</td>\n",
       "      <td>1</td>\n",
       "      <td>16</td>\n",
       "      <td>2</td>\n",
       "      <td>0</td>\n",
       "      <td>-1</td>\n",
       "    </tr>\n",
       "  </tbody>\n",
       "</table>\n",
       "</div>"
      ],
      "text/plain": [
       "       country_region_code country_region sub_region_1 sub_region_2  \\\n",
       "108182                  US  United States          NaN          NaN   \n",
       "108183                  US  United States          NaN          NaN   \n",
       "\n",
       "             date retail_and_recreation_percent_change_from_baseline  \\\n",
       "108182 2020-02-15                                                  6   \n",
       "108183 2020-02-16                                                  7   \n",
       "\n",
       "       grocery_and_pharmacy_percent_change_from_baseline  \\\n",
       "108182                                                 2   \n",
       "108183                                                 1   \n",
       "\n",
       "       parks_percent_change_from_baseline  \\\n",
       "108182                                 15   \n",
       "108183                                 16   \n",
       "\n",
       "       transit_stations_percent_change_from_baseline  \\\n",
       "108182                                             3   \n",
       "108183                                             2   \n",
       "\n",
       "       workplaces_percent_change_from_baseline  \\\n",
       "108182                                       2   \n",
       "108183                                       0   \n",
       "\n",
       "       residential_percent_change_from_baseline  \n",
       "108182                                       -1  \n",
       "108183                                       -1  "
      ]
     },
     "execution_count": 1057,
     "metadata": {},
     "output_type": "execute_result"
    }
   ],
   "source": [
    "google_data.head(2)"
   ]
  },
  {
   "cell_type": "markdown",
   "metadata": {},
   "source": [
    "#### State Level Table"
   ]
  },
  {
   "cell_type": "code",
   "execution_count": 1058,
   "metadata": {},
   "outputs": [],
   "source": [
    "google_state_data = google_data[\n",
    "    (google_data['sub_region_1'].notnull()) &\n",
    "    (~google_data['sub_region_2'].notnull())\n",
    "]\n",
    "google_state_data = google_state_data.add_suffix(\"_goog_st\")"
   ]
  },
  {
   "cell_type": "code",
   "execution_count": 1059,
   "metadata": {},
   "outputs": [],
   "source": [
    "lefton = ['sub_region_1_goog_st']\n",
    "righton = ['state_name']\n",
    "\n",
    "google_state_data = pd.merge(\n",
    "    google_state_data, state_ref_data, \n",
    "    how='left', left_on=lefton, right_on=righton)"
   ]
  },
  {
   "cell_type": "code",
   "execution_count": 1060,
   "metadata": {},
   "outputs": [
    {
     "data": {
      "text/html": [
       "<div>\n",
       "<style scoped>\n",
       "    .dataframe tbody tr th:only-of-type {\n",
       "        vertical-align: middle;\n",
       "    }\n",
       "\n",
       "    .dataframe tbody tr th {\n",
       "        vertical-align: top;\n",
       "    }\n",
       "\n",
       "    .dataframe thead th {\n",
       "        text-align: right;\n",
       "    }\n",
       "</style>\n",
       "<table border=\"1\" class=\"dataframe\">\n",
       "  <thead>\n",
       "    <tr style=\"text-align: right;\">\n",
       "      <th></th>\n",
       "      <th>country_region_code_goog_st</th>\n",
       "      <th>country_region_goog_st</th>\n",
       "      <th>sub_region_1_goog_st</th>\n",
       "      <th>sub_region_2_goog_st</th>\n",
       "      <th>date_goog_st</th>\n",
       "      <th>retail_and_recreation_percent_change_from_baseline_goog_st</th>\n",
       "      <th>grocery_and_pharmacy_percent_change_from_baseline_goog_st</th>\n",
       "      <th>parks_percent_change_from_baseline_goog_st</th>\n",
       "      <th>transit_stations_percent_change_from_baseline_goog_st</th>\n",
       "      <th>workplaces_percent_change_from_baseline_goog_st</th>\n",
       "      <th>residential_percent_change_from_baseline_goog_st</th>\n",
       "      <th>state_name</th>\n",
       "      <th>state_code</th>\n",
       "    </tr>\n",
       "  </thead>\n",
       "  <tbody>\n",
       "    <tr>\n",
       "      <th>0</th>\n",
       "      <td>US</td>\n",
       "      <td>United States</td>\n",
       "      <td>Alabama</td>\n",
       "      <td>NaN</td>\n",
       "      <td>2020-02-15</td>\n",
       "      <td>5</td>\n",
       "      <td>2</td>\n",
       "      <td>39</td>\n",
       "      <td>7</td>\n",
       "      <td>2</td>\n",
       "      <td>-1</td>\n",
       "      <td>Alabama</td>\n",
       "      <td>AL</td>\n",
       "    </tr>\n",
       "    <tr>\n",
       "      <th>1</th>\n",
       "      <td>US</td>\n",
       "      <td>United States</td>\n",
       "      <td>Alabama</td>\n",
       "      <td>NaN</td>\n",
       "      <td>2020-02-16</td>\n",
       "      <td>0</td>\n",
       "      <td>-2</td>\n",
       "      <td>-7</td>\n",
       "      <td>3</td>\n",
       "      <td>-1</td>\n",
       "      <td>1</td>\n",
       "      <td>Alabama</td>\n",
       "      <td>AL</td>\n",
       "    </tr>\n",
       "  </tbody>\n",
       "</table>\n",
       "</div>"
      ],
      "text/plain": [
       "  country_region_code_goog_st country_region_goog_st sub_region_1_goog_st  \\\n",
       "0                          US          United States              Alabama   \n",
       "1                          US          United States              Alabama   \n",
       "\n",
       "  sub_region_2_goog_st date_goog_st  \\\n",
       "0                  NaN   2020-02-15   \n",
       "1                  NaN   2020-02-16   \n",
       "\n",
       "  retail_and_recreation_percent_change_from_baseline_goog_st  \\\n",
       "0                                                  5           \n",
       "1                                                  0           \n",
       "\n",
       "  grocery_and_pharmacy_percent_change_from_baseline_goog_st  \\\n",
       "0                                                  2          \n",
       "1                                                 -2          \n",
       "\n",
       "  parks_percent_change_from_baseline_goog_st  \\\n",
       "0                                         39   \n",
       "1                                         -7   \n",
       "\n",
       "  transit_stations_percent_change_from_baseline_goog_st  \\\n",
       "0                                                  7      \n",
       "1                                                  3      \n",
       "\n",
       "  workplaces_percent_change_from_baseline_goog_st  \\\n",
       "0                                               2   \n",
       "1                                              -1   \n",
       "\n",
       "  residential_percent_change_from_baseline_goog_st state_name state_code  \n",
       "0                                               -1    Alabama         AL  \n",
       "1                                                1    Alabama         AL  "
      ]
     },
     "execution_count": 1060,
     "metadata": {},
     "output_type": "execute_result"
    }
   ],
   "source": [
    "google_state_data.head(2)"
   ]
  },
  {
   "cell_type": "markdown",
   "metadata": {},
   "source": [
    "#### County Level Table"
   ]
  },
  {
   "cell_type": "code",
   "execution_count": 1061,
   "metadata": {},
   "outputs": [],
   "source": [
    "google_county_data = google_data[\n",
    "    (google_data['sub_region_1'].notnull()) &\n",
    "    (google_data['sub_region_2'].notnull())\n",
    "]\n",
    "google_county_data = google_county_data.add_suffix(\"_goog_cnty\")"
   ]
  },
  {
   "cell_type": "code",
   "execution_count": 1062,
   "metadata": {},
   "outputs": [
    {
     "data": {
      "text/html": [
       "<div>\n",
       "<style scoped>\n",
       "    .dataframe tbody tr th:only-of-type {\n",
       "        vertical-align: middle;\n",
       "    }\n",
       "\n",
       "    .dataframe tbody tr th {\n",
       "        vertical-align: top;\n",
       "    }\n",
       "\n",
       "    .dataframe thead th {\n",
       "        text-align: right;\n",
       "    }\n",
       "</style>\n",
       "<table border=\"1\" class=\"dataframe\">\n",
       "  <thead>\n",
       "    <tr style=\"text-align: right;\">\n",
       "      <th></th>\n",
       "      <th>country_region_code_goog_cnty</th>\n",
       "      <th>country_region_goog_cnty</th>\n",
       "      <th>sub_region_1_goog_cnty</th>\n",
       "      <th>sub_region_2_goog_cnty</th>\n",
       "      <th>date_goog_cnty</th>\n",
       "      <th>retail_and_recreation_percent_change_from_baseline_goog_cnty</th>\n",
       "      <th>grocery_and_pharmacy_percent_change_from_baseline_goog_cnty</th>\n",
       "      <th>parks_percent_change_from_baseline_goog_cnty</th>\n",
       "      <th>transit_stations_percent_change_from_baseline_goog_cnty</th>\n",
       "      <th>workplaces_percent_change_from_baseline_goog_cnty</th>\n",
       "      <th>residential_percent_change_from_baseline_goog_cnty</th>\n",
       "    </tr>\n",
       "  </thead>\n",
       "  <tbody>\n",
       "    <tr>\n",
       "      <th>108360</th>\n",
       "      <td>US</td>\n",
       "      <td>United States</td>\n",
       "      <td>Alabama</td>\n",
       "      <td>Autauga County</td>\n",
       "      <td>2020-02-15</td>\n",
       "      <td>5</td>\n",
       "      <td>7</td>\n",
       "      <td>NaN</td>\n",
       "      <td>NaN</td>\n",
       "      <td>-4</td>\n",
       "      <td>NaN</td>\n",
       "    </tr>\n",
       "    <tr>\n",
       "      <th>108361</th>\n",
       "      <td>US</td>\n",
       "      <td>United States</td>\n",
       "      <td>Alabama</td>\n",
       "      <td>Autauga County</td>\n",
       "      <td>2020-02-16</td>\n",
       "      <td>0</td>\n",
       "      <td>1</td>\n",
       "      <td>-23</td>\n",
       "      <td>NaN</td>\n",
       "      <td>-4</td>\n",
       "      <td>NaN</td>\n",
       "    </tr>\n",
       "  </tbody>\n",
       "</table>\n",
       "</div>"
      ],
      "text/plain": [
       "       country_region_code_goog_cnty country_region_goog_cnty  \\\n",
       "108360                            US            United States   \n",
       "108361                            US            United States   \n",
       "\n",
       "       sub_region_1_goog_cnty sub_region_2_goog_cnty date_goog_cnty  \\\n",
       "108360                Alabama         Autauga County     2020-02-15   \n",
       "108361                Alabama         Autauga County     2020-02-16   \n",
       "\n",
       "       retail_and_recreation_percent_change_from_baseline_goog_cnty  \\\n",
       "108360                                                  5             \n",
       "108361                                                  0             \n",
       "\n",
       "       grocery_and_pharmacy_percent_change_from_baseline_goog_cnty  \\\n",
       "108360                                                  7            \n",
       "108361                                                  1            \n",
       "\n",
       "       parks_percent_change_from_baseline_goog_cnty  \\\n",
       "108360                                          NaN   \n",
       "108361                                          -23   \n",
       "\n",
       "       transit_stations_percent_change_from_baseline_goog_cnty  \\\n",
       "108360                                                NaN        \n",
       "108361                                                NaN        \n",
       "\n",
       "       workplaces_percent_change_from_baseline_goog_cnty  \\\n",
       "108360                                                -4   \n",
       "108361                                                -4   \n",
       "\n",
       "       residential_percent_change_from_baseline_goog_cnty  \n",
       "108360                                                NaN  \n",
       "108361                                                NaN  "
      ]
     },
     "execution_count": 1062,
     "metadata": {},
     "output_type": "execute_result"
    }
   ],
   "source": [
    "google_county_data.head(2)"
   ]
  },
  {
   "cell_type": "markdown",
   "metadata": {},
   "source": [
    "#### County Data"
   ]
  },
  {
   "cell_type": "code",
   "execution_count": 1063,
   "metadata": {},
   "outputs": [],
   "source": [
    "# Add state code\n",
    "lefton = ['sub_region_1_goog_cnty']\n",
    "righton = ['state_name']\n",
    "\n",
    "google_county_data = pd.merge(\n",
    "    google_county_data, state_ref_data, \n",
    "    how='left', left_on=lefton, right_on=righton)"
   ]
  },
  {
   "cell_type": "code",
   "execution_count": 1064,
   "metadata": {},
   "outputs": [],
   "source": [
    "# Create state_county concatenation\n",
    "google_county_data['state_county'] = google_county_data['state_code'] + google_county_data['sub_region_2_goog_cnty']"
   ]
  },
  {
   "cell_type": "code",
   "execution_count": 1065,
   "metadata": {},
   "outputs": [],
   "source": [
    "# Manual name fixes\n",
    "google_county_data.loc[google_county_data['state_county']=='AKAnchorage', 'state_county'] = 'AKAnchorage Municipality'\n",
    "google_county_data.loc[google_county_data['state_county']=='AKBethel', 'state_county'] = 'AKBethel Census Area'\n",
    "google_county_data.loc[google_county_data['state_county']=='AKFairbanks North Star', 'state_county'] = 'AKFairbanks North Star Borough'\n",
    "google_county_data.loc[google_county_data['state_county']=='AKJuneau', 'state_county'] = 'AKJuneau City and Borough'\n",
    "google_county_data.loc[google_county_data['state_county']=='AKKetchikan Gateway', 'state_county'] = 'AKKetchikan Gateway Borough'\n",
    "google_county_data.loc[google_county_data['state_county']=='AKKodiak Island', 'state_county'] = 'AKKodiak Island Borough'\n",
    "google_county_data.loc[google_county_data['state_county']=='AKMatanuska-Susitna', 'state_county'] = 'AKMatanuska-Susitna Borough'\n",
    "google_county_data.loc[google_county_data['state_county']=='AKNorth Slope', 'state_county'] = 'AKNorth Slope Borough'\n",
    "google_county_data.loc[google_county_data['state_county']=='AKSitka', 'state_county'] = 'AKSitka City and Borough'\n",
    "google_county_data.loc[google_county_data['state_county']=='AKSoutheast Fairbanks', 'state_county'] = 'AKSoutheast Fairbanks Census Area'\n",
    "google_county_data.loc[google_county_data['state_county']=='AKValdez-Cordova', 'state_county'] = 'AKValdez-Cordova Census Area'\n",
    "google_county_data.loc[google_county_data['state_county']=='MDBaltimore', 'state_county'] = 'MDBaltimore city'\n",
    "\n",
    "google_county_data.loc[google_county_data['state_county']=='MOSt. Louis', 'state_county'] = 'MOSt. Louis city'\n",
    "google_county_data.loc[google_county_data['state_county']=='NMDoña Ana County', 'state_county'] = 'NMDona Ana County'\n",
    "google_county_data.loc[google_county_data['state_county']=='VAAlexandria', 'state_county'] = 'VAAlexandria city'\n",
    "google_county_data.loc[google_county_data['state_county']=='VABristol', 'state_county'] = 'VABristol city'\n",
    "google_county_data.loc[google_county_data['state_county']=='VABuena Vista', 'state_county'] = 'VABuena Vista city'\n",
    "google_county_data.loc[google_county_data['state_county']=='VACharlottesville', 'state_county'] = 'VACharlottesville city'\n",
    "google_county_data.loc[google_county_data['state_county']=='VAChesapeake', 'state_county'] = 'VAChesapeake city'\n",
    "google_county_data.loc[google_county_data['state_county']=='VAColonial Heights', 'state_county'] = 'VAColonial Heights city'\n",
    "google_county_data.loc[google_county_data['state_county']=='VACovington', 'state_county'] = 'VACovington city'\n",
    "\n",
    "google_county_data.loc[google_county_data['state_county']=='VADanville', 'state_county'] = 'VADanville city'\n",
    "google_county_data.loc[google_county_data['state_county']=='VAEmporia', 'state_county'] = 'VAEmporia city'\n",
    "google_county_data.loc[google_county_data['state_county']=='VAFairfax', 'state_county'] = 'VAFairfax city'\n",
    "google_county_data.loc[google_county_data['state_county']=='VAFalls Church', 'state_county'] = 'VAFalls Church city'\n",
    "google_county_data.loc[google_county_data['state_county']=='VAFranklin', 'state_county'] = 'VAFranklin city'\n",
    "google_county_data.loc[google_county_data['state_county']=='VAFredericksburg', 'state_county'] = 'VAFredericksburg city'\n",
    "google_county_data.loc[google_county_data['state_county']=='VAGalax', 'state_county'] = 'VAGalax city'\n",
    "google_county_data.loc[google_county_data['state_county']=='VAHampton', 'state_county'] = 'VAHampton city'\n",
    "google_county_data.loc[google_county_data['state_county']=='VAHarrisonburg', 'state_county'] = 'VAHarrisonburg city'\n",
    "google_county_data.loc[google_county_data['state_county']=='VAHopewell', 'state_county'] = 'VAHopewell city'\n",
    "\n",
    "google_county_data.loc[google_county_data['state_county']=='VALexington', 'state_county'] = 'VALexington city'\n",
    "google_county_data.loc[google_county_data['state_county']=='VALynchburg', 'state_county'] = 'VALynchburg city'\n",
    "google_county_data.loc[google_county_data['state_county']=='VAManassas', 'state_county'] = 'VAManassas city'\n",
    "google_county_data.loc[google_county_data['state_county']=='VAManassas Park', 'state_county'] = 'VAManassas Park city'\n",
    "google_county_data.loc[google_county_data['state_county']=='VAMartinsville', 'state_county'] = 'VAMartinsville city'\n",
    "google_county_data.loc[google_county_data['state_county']=='VANewport News', 'state_county'] = 'VANewport News city'\n",
    "google_county_data.loc[google_county_data['state_county']=='VANorfolk', 'state_county'] = 'VANorfolk city'\n",
    "google_county_data.loc[google_county_data['state_county']=='VANorton', 'state_county'] = 'VANorton city'\n",
    "google_county_data.loc[google_county_data['state_county']=='VAPetersburg', 'state_county'] = 'VAPetersburg city'\n",
    "google_county_data.loc[google_county_data['state_county']=='VAPoquoson', 'state_county'] = 'VAPoquoson city'\n",
    "google_county_data.loc[google_county_data['state_county']=='VAPortsmouth', 'state_county'] = 'VAPortsmouth city'\n",
    "google_county_data.loc[google_county_data['state_county']=='VARadford', 'state_county'] = 'VARadford city'\n",
    "google_county_data.loc[google_county_data['state_county']=='VARichmond', 'state_county'] = 'VARichmond city'\n",
    "google_county_data.loc[google_county_data['state_county']=='VARoanoke', 'state_county'] = 'VARoanoke city'\n",
    "\n",
    "google_county_data.loc[google_county_data['state_county']=='VASalem', 'state_county'] = 'VASalem city'\n",
    "google_county_data.loc[google_county_data['state_county']=='VAStaunton', 'state_county'] = 'VAStaunton city'\n",
    "google_county_data.loc[google_county_data['state_county']=='VASuffolk', 'state_county'] = 'VASuffolk city'\n",
    "google_county_data.loc[google_county_data['state_county']=='VAVirginia Beach', 'state_county'] = 'VAVirginia Beach city'\n",
    "google_county_data.loc[google_county_data['state_county']=='VAWaynesboro', 'state_county'] = 'VAWaynesboro city'\n",
    "google_county_data.loc[google_county_data['state_county']=='VAWilliamsburg', 'state_county'] = 'VAWilliamsburg city'\n",
    "google_county_data.loc[google_county_data['state_county']=='VAWinchester', 'state_county'] = 'VAWinchester city'"
   ]
  },
  {
   "cell_type": "code",
   "execution_count": 1066,
   "metadata": {},
   "outputs": [],
   "source": [
    "# Attach FIPS code\n",
    "lefton = ['state_county']\n",
    "righton = ['state_county']\n",
    "\n",
    "google_county_data = pd.merge(\n",
    "    google_county_data, safegraph_ref_data_fips, \n",
    "    how='left', left_on=lefton, right_on=righton)"
   ]
  },
  {
   "cell_type": "code",
   "execution_count": 1069,
   "metadata": {},
   "outputs": [],
   "source": [
    "google_county_data['fips_code'] = google_county_data['fips']\n",
    "google_county_data['date'] = google_county_data['date_goog_cnty']"
   ]
  },
  {
   "cell_type": "code",
   "execution_count": 1070,
   "metadata": {},
   "outputs": [
    {
     "data": {
      "text/html": [
       "<div>\n",
       "<style scoped>\n",
       "    .dataframe tbody tr th:only-of-type {\n",
       "        vertical-align: middle;\n",
       "    }\n",
       "\n",
       "    .dataframe tbody tr th {\n",
       "        vertical-align: top;\n",
       "    }\n",
       "\n",
       "    .dataframe thead th {\n",
       "        text-align: right;\n",
       "    }\n",
       "</style>\n",
       "<table border=\"1\" class=\"dataframe\">\n",
       "  <thead>\n",
       "    <tr style=\"text-align: right;\">\n",
       "      <th></th>\n",
       "      <th>country_region_code_goog_cnty</th>\n",
       "      <th>country_region_goog_cnty</th>\n",
       "      <th>sub_region_1_goog_cnty</th>\n",
       "      <th>sub_region_2_goog_cnty</th>\n",
       "      <th>date_goog_cnty</th>\n",
       "      <th>retail_and_recreation_percent_change_from_baseline_goog_cnty</th>\n",
       "      <th>grocery_and_pharmacy_percent_change_from_baseline_goog_cnty</th>\n",
       "      <th>parks_percent_change_from_baseline_goog_cnty</th>\n",
       "      <th>transit_stations_percent_change_from_baseline_goog_cnty</th>\n",
       "      <th>workplaces_percent_change_from_baseline_goog_cnty</th>\n",
       "      <th>...</th>\n",
       "      <th>state_code</th>\n",
       "      <th>state_county</th>\n",
       "      <th>state</th>\n",
       "      <th>state_fips</th>\n",
       "      <th>county_fips</th>\n",
       "      <th>county</th>\n",
       "      <th>class_code</th>\n",
       "      <th>fips</th>\n",
       "      <th>fips_code</th>\n",
       "      <th>date</th>\n",
       "    </tr>\n",
       "  </thead>\n",
       "  <tbody>\n",
       "    <tr>\n",
       "      <th>0</th>\n",
       "      <td>US</td>\n",
       "      <td>United States</td>\n",
       "      <td>Alabama</td>\n",
       "      <td>Autauga County</td>\n",
       "      <td>2020-02-15</td>\n",
       "      <td>5</td>\n",
       "      <td>7</td>\n",
       "      <td>NaN</td>\n",
       "      <td>NaN</td>\n",
       "      <td>-4</td>\n",
       "      <td>...</td>\n",
       "      <td>AL</td>\n",
       "      <td>ALAutauga County</td>\n",
       "      <td>AL</td>\n",
       "      <td>01</td>\n",
       "      <td>001</td>\n",
       "      <td>Autauga County</td>\n",
       "      <td>H1</td>\n",
       "      <td>01001</td>\n",
       "      <td>01001</td>\n",
       "      <td>2020-02-15</td>\n",
       "    </tr>\n",
       "    <tr>\n",
       "      <th>1</th>\n",
       "      <td>US</td>\n",
       "      <td>United States</td>\n",
       "      <td>Alabama</td>\n",
       "      <td>Autauga County</td>\n",
       "      <td>2020-02-16</td>\n",
       "      <td>0</td>\n",
       "      <td>1</td>\n",
       "      <td>-23</td>\n",
       "      <td>NaN</td>\n",
       "      <td>-4</td>\n",
       "      <td>...</td>\n",
       "      <td>AL</td>\n",
       "      <td>ALAutauga County</td>\n",
       "      <td>AL</td>\n",
       "      <td>01</td>\n",
       "      <td>001</td>\n",
       "      <td>Autauga County</td>\n",
       "      <td>H1</td>\n",
       "      <td>01001</td>\n",
       "      <td>01001</td>\n",
       "      <td>2020-02-16</td>\n",
       "    </tr>\n",
       "  </tbody>\n",
       "</table>\n",
       "<p>2 rows × 22 columns</p>\n",
       "</div>"
      ],
      "text/plain": [
       "  country_region_code_goog_cnty country_region_goog_cnty  \\\n",
       "0                            US            United States   \n",
       "1                            US            United States   \n",
       "\n",
       "  sub_region_1_goog_cnty sub_region_2_goog_cnty date_goog_cnty  \\\n",
       "0                Alabama         Autauga County     2020-02-15   \n",
       "1                Alabama         Autauga County     2020-02-16   \n",
       "\n",
       "  retail_and_recreation_percent_change_from_baseline_goog_cnty  \\\n",
       "0                                                  5             \n",
       "1                                                  0             \n",
       "\n",
       "  grocery_and_pharmacy_percent_change_from_baseline_goog_cnty  \\\n",
       "0                                                  7            \n",
       "1                                                  1            \n",
       "\n",
       "  parks_percent_change_from_baseline_goog_cnty  \\\n",
       "0                                          NaN   \n",
       "1                                          -23   \n",
       "\n",
       "  transit_stations_percent_change_from_baseline_goog_cnty  \\\n",
       "0                                                NaN        \n",
       "1                                                NaN        \n",
       "\n",
       "  workplaces_percent_change_from_baseline_goog_cnty  ... state_code  \\\n",
       "0                                                -4  ...         AL   \n",
       "1                                                -4  ...         AL   \n",
       "\n",
       "       state_county state state_fips county_fips          county class_code  \\\n",
       "0  ALAutauga County    AL         01         001  Autauga County         H1   \n",
       "1  ALAutauga County    AL         01         001  Autauga County         H1   \n",
       "\n",
       "    fips fips_code       date  \n",
       "0  01001     01001 2020-02-15  \n",
       "1  01001     01001 2020-02-16  \n",
       "\n",
       "[2 rows x 22 columns]"
      ]
     },
     "execution_count": 1070,
     "metadata": {},
     "output_type": "execute_result"
    }
   ],
   "source": [
    "google_county_data.head(2)"
   ]
  },
  {
   "cell_type": "code",
   "execution_count": 1051,
   "metadata": {},
   "outputs": [
    {
     "data": {
      "text/plain": [
       "[]"
      ]
     },
     "execution_count": 1051,
     "metadata": {},
     "output_type": "execute_result"
    }
   ],
   "source": [
    "# List counties which did not get a fips code\n",
    "list(google_county_data[google_county_data.fips.isnull()]['state_county'].unique())"
   ]
  },
  {
   "cell_type": "markdown",
   "metadata": {},
   "source": [
    "#### Duplicate State - Date Combinations"
   ]
  },
  {
   "cell_type": "code",
   "execution_count": 1052,
   "metadata": {},
   "outputs": [
    {
     "data": {
      "text/plain": [
       "0"
      ]
     },
     "execution_count": 1052,
     "metadata": {},
     "output_type": "execute_result"
    }
   ],
   "source": [
    "google_state_data[google_state_data.duplicated(['sub_region_1_goog_st','sub_region_2_goog_st', 'date_goog_st'])].size"
   ]
  },
  {
   "cell_type": "markdown",
   "metadata": {},
   "source": [
    "#### Duplicate County - Date Combinations"
   ]
  },
  {
   "cell_type": "code",
   "execution_count": 1053,
   "metadata": {},
   "outputs": [
    {
     "data": {
      "text/plain": [
       "0"
      ]
     },
     "execution_count": 1053,
     "metadata": {},
     "output_type": "execute_result"
    }
   ],
   "source": [
    "google_county_data[google_county_data.duplicated(['sub_region_1_goog_cnty','sub_region_2_goog_cnty', 'date_goog_cnty'])].size"
   ]
  },
  {
   "cell_type": "markdown",
   "metadata": {},
   "source": [
    "## FIPS Code Research"
   ]
  },
  {
   "cell_type": "markdown",
   "metadata": {},
   "source": [
    "### Compare FIPS Codes (Special Attention to NYC)"
   ]
  },
  {
   "cell_type": "code",
   "execution_count": 582,
   "metadata": {},
   "outputs": [],
   "source": [
    "ref_fips = set(county_ref_data['fips'].tolist())\n",
    "safegraph_ref_fips = set(safegraph_ref_data_fips['fips'].tolist())\n",
    "safegraph_land_fips = set(safegraph_land['fips'].tolist())\n",
    "google_county_fips = set(google_county_data['fips'].tolist())\n",
    "# ADD google mobility?\n",
    "\n",
    "ea_fips = set(enigma_agg_data['county_fips_ea'].tolist())\n",
    "ejhu_fips = set(enigma_jh_data['fips_ejhu'].tolist())\n",
    "enyt_fips = set(enigma_nyt_data['fips_enyt'].tolist())\n",
    "rnyt_fips = set(rearc_nyt_data['fips_rnyt'].tolist())\n",
    "ucdc_fips = set(usafacts_cdc_data['countyFIPS_cdc'].tolist())"
   ]
  },
  {
   "cell_type": "markdown",
   "metadata": {},
   "source": [
    "#### Helper Functions"
   ]
  },
  {
   "cell_type": "code",
   "execution_count": 79,
   "metadata": {},
   "outputs": [],
   "source": [
    "def list_diff(set1, set2):\n",
    "    out = set1-set2\n",
    "    print(\"Set 1 length: \", len(set1))\n",
    "    print(\"Set 2 length: \", len(set2))\n",
    "    print(\"Length of Set 1 - Set 2: \", len(out))\n",
    "    print(\"Length of Set 2 - Set 1: \", len(set2-set1))\n",
    "    return list(out)"
   ]
  },
  {
   "cell_type": "markdown",
   "metadata": {},
   "source": [
    "#### FIPS Compare: Reference Data and Google County Data\n",
    "* Shannon County (SD) is in google county data but not in reference data"
   ]
  },
  {
   "cell_type": "code",
   "execution_count": 583,
   "metadata": {},
   "outputs": [
    {
     "name": "stdout",
     "output_type": "stream",
     "text": [
      "Set 1 length:  2828\n",
      "Set 2 length:  3220\n",
      "Length of Set 1 - Set 2:  1\n",
      "Length of Set 2 - Set 1:  393\n"
     ]
    }
   ],
   "source": [
    "comp = list_diff(google_county_fips, ref_fips)"
   ]
  },
  {
   "cell_type": "code",
   "execution_count": 584,
   "metadata": {},
   "outputs": [
    {
     "data": {
      "text/plain": [
       "['46113']"
      ]
     },
     "execution_count": 584,
     "metadata": {},
     "output_type": "execute_result"
    }
   ],
   "source": [
    "comp"
   ]
  },
  {
   "cell_type": "code",
   "execution_count": 587,
   "metadata": {},
   "outputs": [
    {
     "data": {
      "text/html": [
       "<div>\n",
       "<style scoped>\n",
       "    .dataframe tbody tr th:only-of-type {\n",
       "        vertical-align: middle;\n",
       "    }\n",
       "\n",
       "    .dataframe tbody tr th {\n",
       "        vertical-align: top;\n",
       "    }\n",
       "\n",
       "    .dataframe thead th {\n",
       "        text-align: right;\n",
       "    }\n",
       "</style>\n",
       "<table border=\"1\" class=\"dataframe\">\n",
       "  <thead>\n",
       "    <tr style=\"text-align: right;\">\n",
       "      <th></th>\n",
       "      <th>country_region_code_goog_cnty</th>\n",
       "      <th>country_region_goog_cnty</th>\n",
       "      <th>sub_region_1_goog_cnty</th>\n",
       "      <th>sub_region_2_goog_cnty</th>\n",
       "      <th>date_goog_cnty</th>\n",
       "      <th>retail_and_recreation_percent_change_from_baseline_goog_cnty</th>\n",
       "      <th>grocery_and_pharmacy_percent_change_from_baseline_goog_cnty</th>\n",
       "      <th>parks_percent_change_from_baseline_goog_cnty</th>\n",
       "      <th>transit_stations_percent_change_from_baseline_goog_cnty</th>\n",
       "      <th>workplaces_percent_change_from_baseline_goog_cnty</th>\n",
       "      <th>residential_percent_change_from_baseline_goog_cnty</th>\n",
       "      <th>state_name</th>\n",
       "      <th>state_code</th>\n",
       "      <th>state_county</th>\n",
       "      <th>state</th>\n",
       "      <th>state_fips</th>\n",
       "      <th>county_fips</th>\n",
       "      <th>county</th>\n",
       "      <th>class_code</th>\n",
       "      <th>fips</th>\n",
       "    </tr>\n",
       "  </thead>\n",
       "  <tbody>\n",
       "    <tr>\n",
       "      <th>179550</th>\n",
       "      <td>US</td>\n",
       "      <td>United States</td>\n",
       "      <td>South Dakota</td>\n",
       "      <td>Shannon County</td>\n",
       "      <td>2020-02-17</td>\n",
       "      <td>NaN</td>\n",
       "      <td>NaN</td>\n",
       "      <td>NaN</td>\n",
       "      <td>NaN</td>\n",
       "      <td>-56</td>\n",
       "      <td>NaN</td>\n",
       "      <td>South Dakota</td>\n",
       "      <td>SD</td>\n",
       "      <td>SDShannon County</td>\n",
       "      <td>SD</td>\n",
       "      <td>46</td>\n",
       "      <td>113</td>\n",
       "      <td>Shannon County</td>\n",
       "      <td>H1</td>\n",
       "      <td>46113</td>\n",
       "    </tr>\n",
       "    <tr>\n",
       "      <th>179551</th>\n",
       "      <td>US</td>\n",
       "      <td>United States</td>\n",
       "      <td>South Dakota</td>\n",
       "      <td>Shannon County</td>\n",
       "      <td>2020-02-18</td>\n",
       "      <td>NaN</td>\n",
       "      <td>NaN</td>\n",
       "      <td>NaN</td>\n",
       "      <td>NaN</td>\n",
       "      <td>-7</td>\n",
       "      <td>NaN</td>\n",
       "      <td>South Dakota</td>\n",
       "      <td>SD</td>\n",
       "      <td>SDShannon County</td>\n",
       "      <td>SD</td>\n",
       "      <td>46</td>\n",
       "      <td>113</td>\n",
       "      <td>Shannon County</td>\n",
       "      <td>H1</td>\n",
       "      <td>46113</td>\n",
       "    </tr>\n",
       "    <tr>\n",
       "      <th>179552</th>\n",
       "      <td>US</td>\n",
       "      <td>United States</td>\n",
       "      <td>South Dakota</td>\n",
       "      <td>Shannon County</td>\n",
       "      <td>2020-02-19</td>\n",
       "      <td>NaN</td>\n",
       "      <td>NaN</td>\n",
       "      <td>NaN</td>\n",
       "      <td>NaN</td>\n",
       "      <td>3</td>\n",
       "      <td>NaN</td>\n",
       "      <td>South Dakota</td>\n",
       "      <td>SD</td>\n",
       "      <td>SDShannon County</td>\n",
       "      <td>SD</td>\n",
       "      <td>46</td>\n",
       "      <td>113</td>\n",
       "      <td>Shannon County</td>\n",
       "      <td>H1</td>\n",
       "      <td>46113</td>\n",
       "    </tr>\n",
       "    <tr>\n",
       "      <th>179553</th>\n",
       "      <td>US</td>\n",
       "      <td>United States</td>\n",
       "      <td>South Dakota</td>\n",
       "      <td>Shannon County</td>\n",
       "      <td>2020-02-20</td>\n",
       "      <td>NaN</td>\n",
       "      <td>NaN</td>\n",
       "      <td>NaN</td>\n",
       "      <td>NaN</td>\n",
       "      <td>0</td>\n",
       "      <td>NaN</td>\n",
       "      <td>South Dakota</td>\n",
       "      <td>SD</td>\n",
       "      <td>SDShannon County</td>\n",
       "      <td>SD</td>\n",
       "      <td>46</td>\n",
       "      <td>113</td>\n",
       "      <td>Shannon County</td>\n",
       "      <td>H1</td>\n",
       "      <td>46113</td>\n",
       "    </tr>\n",
       "    <tr>\n",
       "      <th>179554</th>\n",
       "      <td>US</td>\n",
       "      <td>United States</td>\n",
       "      <td>South Dakota</td>\n",
       "      <td>Shannon County</td>\n",
       "      <td>2020-02-21</td>\n",
       "      <td>NaN</td>\n",
       "      <td>NaN</td>\n",
       "      <td>NaN</td>\n",
       "      <td>NaN</td>\n",
       "      <td>2</td>\n",
       "      <td>NaN</td>\n",
       "      <td>South Dakota</td>\n",
       "      <td>SD</td>\n",
       "      <td>SDShannon County</td>\n",
       "      <td>SD</td>\n",
       "      <td>46</td>\n",
       "      <td>113</td>\n",
       "      <td>Shannon County</td>\n",
       "      <td>H1</td>\n",
       "      <td>46113</td>\n",
       "    </tr>\n",
       "  </tbody>\n",
       "</table>\n",
       "</div>"
      ],
      "text/plain": [
       "       country_region_code_goog_cnty country_region_goog_cnty  \\\n",
       "179550                            US            United States   \n",
       "179551                            US            United States   \n",
       "179552                            US            United States   \n",
       "179553                            US            United States   \n",
       "179554                            US            United States   \n",
       "\n",
       "       sub_region_1_goog_cnty sub_region_2_goog_cnty date_goog_cnty  \\\n",
       "179550           South Dakota         Shannon County     2020-02-17   \n",
       "179551           South Dakota         Shannon County     2020-02-18   \n",
       "179552           South Dakota         Shannon County     2020-02-19   \n",
       "179553           South Dakota         Shannon County     2020-02-20   \n",
       "179554           South Dakota         Shannon County     2020-02-21   \n",
       "\n",
       "       retail_and_recreation_percent_change_from_baseline_goog_cnty  \\\n",
       "179550                                                NaN             \n",
       "179551                                                NaN             \n",
       "179552                                                NaN             \n",
       "179553                                                NaN             \n",
       "179554                                                NaN             \n",
       "\n",
       "       grocery_and_pharmacy_percent_change_from_baseline_goog_cnty  \\\n",
       "179550                                                NaN            \n",
       "179551                                                NaN            \n",
       "179552                                                NaN            \n",
       "179553                                                NaN            \n",
       "179554                                                NaN            \n",
       "\n",
       "       parks_percent_change_from_baseline_goog_cnty  \\\n",
       "179550                                          NaN   \n",
       "179551                                          NaN   \n",
       "179552                                          NaN   \n",
       "179553                                          NaN   \n",
       "179554                                          NaN   \n",
       "\n",
       "       transit_stations_percent_change_from_baseline_goog_cnty  \\\n",
       "179550                                                NaN        \n",
       "179551                                                NaN        \n",
       "179552                                                NaN        \n",
       "179553                                                NaN        \n",
       "179554                                                NaN        \n",
       "\n",
       "       workplaces_percent_change_from_baseline_goog_cnty  \\\n",
       "179550                                               -56   \n",
       "179551                                                -7   \n",
       "179552                                                 3   \n",
       "179553                                                 0   \n",
       "179554                                                 2   \n",
       "\n",
       "       residential_percent_change_from_baseline_goog_cnty    state_name  \\\n",
       "179550                                                NaN  South Dakota   \n",
       "179551                                                NaN  South Dakota   \n",
       "179552                                                NaN  South Dakota   \n",
       "179553                                                NaN  South Dakota   \n",
       "179554                                                NaN  South Dakota   \n",
       "\n",
       "       state_code      state_county state state_fips county_fips  \\\n",
       "179550         SD  SDShannon County    SD         46         113   \n",
       "179551         SD  SDShannon County    SD         46         113   \n",
       "179552         SD  SDShannon County    SD         46         113   \n",
       "179553         SD  SDShannon County    SD         46         113   \n",
       "179554         SD  SDShannon County    SD         46         113   \n",
       "\n",
       "                county class_code   fips  \n",
       "179550  Shannon County         H1  46113  \n",
       "179551  Shannon County         H1  46113  \n",
       "179552  Shannon County         H1  46113  \n",
       "179553  Shannon County         H1  46113  \n",
       "179554  Shannon County         H1  46113  "
      ]
     },
     "execution_count": 587,
     "metadata": {},
     "output_type": "execute_result"
    }
   ],
   "source": [
    "google_county_data[google_county_data['fips']=='46113'].head()"
   ]
  },
  {
   "cell_type": "markdown",
   "metadata": {},
   "source": [
    "#### FIPS Compare: Reference Data and Safegraph Reference Data"
   ]
  },
  {
   "cell_type": "code",
   "execution_count": 80,
   "metadata": {},
   "outputs": [
    {
     "name": "stdout",
     "output_type": "stream",
     "text": [
      "Set 1 length:  3235\n",
      "Set 2 length:  3220\n",
      "Length of Set 1 - Set 2:  17\n",
      "Length of Set 2 - Set 1:  2\n"
     ]
    }
   ],
   "source": [
    "comp = list_diff(safegraph_ref_fips, ref_fips)"
   ]
  },
  {
   "cell_type": "code",
   "execution_count": 81,
   "metadata": {},
   "outputs": [
    {
     "data": {
      "text/plain": [
       "['69085',\n",
       " '60040',\n",
       " '69110',\n",
       " '60020',\n",
       " '78030',\n",
       " '46113',\n",
       " '60030',\n",
       " '66010',\n",
       " '02270',\n",
       " '69120',\n",
       " '78020',\n",
       " '69100',\n",
       " '74300',\n",
       " '51515',\n",
       " '78010',\n",
       " '60050',\n",
       " '60010']"
      ]
     },
     "execution_count": 81,
     "metadata": {},
     "output_type": "execute_result"
    }
   ],
   "source": [
    "comp"
   ]
  },
  {
   "cell_type": "markdown",
   "metadata": {},
   "source": [
    "#### FIPS Compare: Reference Data and Safegraph Land Data"
   ]
  },
  {
   "cell_type": "code",
   "execution_count": 82,
   "metadata": {},
   "outputs": [
    {
     "name": "stdout",
     "output_type": "stream",
     "text": [
      "Set 1 length:  3220\n",
      "Set 2 length:  3220\n",
      "Length of Set 1 - Set 2:  0\n",
      "Length of Set 2 - Set 1:  0\n"
     ]
    }
   ],
   "source": [
    "comp = list_diff(safegraph_land_fips, ref_fips)"
   ]
  },
  {
   "cell_type": "code",
   "execution_count": 83,
   "metadata": {},
   "outputs": [
    {
     "data": {
      "text/plain": [
       "[]"
      ]
     },
     "execution_count": 83,
     "metadata": {},
     "output_type": "execute_result"
    }
   ],
   "source": [
    "comp"
   ]
  },
  {
   "cell_type": "markdown",
   "metadata": {},
   "source": [
    "#### FIPS Compare: Reference Data and Enigma Aggregation"
   ]
  },
  {
   "cell_type": "markdown",
   "metadata": {},
   "source": [
    "* <font color='red'>No NYC Counties</font>\n",
    "* All codes included in reference data except 1 unknown"
   ]
  },
  {
   "cell_type": "code",
   "execution_count": 84,
   "metadata": {},
   "outputs": [
    {
     "name": "stdout",
     "output_type": "stream",
     "text": [
      "Set 1 length:  2910\n",
      "Set 2 length:  3220\n",
      "Length of Set 1 - Set 2:  1\n",
      "Length of Set 2 - Set 1:  311\n"
     ]
    }
   ],
   "source": [
    "# Reference data appears to have all fip codes\n",
    "comp = list_diff(ea_fips, ref_fips)"
   ]
  },
  {
   "cell_type": "code",
   "execution_count": 85,
   "metadata": {},
   "outputs": [
    {
     "data": {
      "text/plain": [
       "['0<NA>']"
      ]
     },
     "execution_count": 85,
     "metadata": {},
     "output_type": "execute_result"
    }
   ],
   "source": [
    "comp"
   ]
  },
  {
   "cell_type": "code",
   "execution_count": 86,
   "metadata": {},
   "outputs": [
    {
     "data": {
      "text/html": [
       "<div>\n",
       "<style scoped>\n",
       "    .dataframe tbody tr th:only-of-type {\n",
       "        vertical-align: middle;\n",
       "    }\n",
       "\n",
       "    .dataframe tbody tr th {\n",
       "        vertical-align: top;\n",
       "    }\n",
       "\n",
       "    .dataframe thead th {\n",
       "        text-align: right;\n",
       "    }\n",
       "</style>\n",
       "<table border=\"1\" class=\"dataframe\">\n",
       "  <thead>\n",
       "    <tr style=\"text-align: right;\">\n",
       "      <th></th>\n",
       "      <th>state_fips_ea</th>\n",
       "      <th>state_name_ea</th>\n",
       "      <th>county_fips_ea</th>\n",
       "      <th>county_name_ea</th>\n",
       "      <th>area_name_ea</th>\n",
       "      <th>lat_ea</th>\n",
       "      <th>long_ea</th>\n",
       "      <th>date_ea</th>\n",
       "      <th>cases_ea</th>\n",
       "      <th>deaths_ea</th>\n",
       "    </tr>\n",
       "  </thead>\n",
       "  <tbody>\n",
       "    <tr>\n",
       "      <th>3067</th>\n",
       "      <td>36</td>\n",
       "      <td>NaN</td>\n",
       "      <td>0&lt;NA&gt;</td>\n",
       "      <td>NaN</td>\n",
       "      <td>NaN</td>\n",
       "      <td>NaN</td>\n",
       "      <td>NaN</td>\n",
       "      <td>2020-03-01</td>\n",
       "      <td>1.0</td>\n",
       "      <td>0.0</td>\n",
       "    </tr>\n",
       "    <tr>\n",
       "      <th>3068</th>\n",
       "      <td>44</td>\n",
       "      <td>NaN</td>\n",
       "      <td>0&lt;NA&gt;</td>\n",
       "      <td>NaN</td>\n",
       "      <td>NaN</td>\n",
       "      <td>NaN</td>\n",
       "      <td>NaN</td>\n",
       "      <td>2020-03-01</td>\n",
       "      <td>2.0</td>\n",
       "      <td>0.0</td>\n",
       "    </tr>\n",
       "  </tbody>\n",
       "</table>\n",
       "</div>"
      ],
      "text/plain": [
       "      state_fips_ea state_name_ea county_fips_ea county_name_ea  area_name_ea  \\\n",
       "3067             36           NaN          0<NA>            NaN           NaN   \n",
       "3068             44           NaN          0<NA>            NaN           NaN   \n",
       "\n",
       "      lat_ea  long_ea    date_ea  cases_ea  deaths_ea  \n",
       "3067     NaN      NaN 2020-03-01       1.0        0.0  \n",
       "3068     NaN      NaN 2020-03-01       2.0        0.0  "
      ]
     },
     "execution_count": 86,
     "metadata": {},
     "output_type": "execute_result"
    }
   ],
   "source": [
    "enigma_agg_data[enigma_agg_data['county_fips_ea']=='0<NA>'].head(2)"
   ]
  },
  {
   "cell_type": "code",
   "execution_count": 87,
   "metadata": {},
   "outputs": [
    {
     "name": "stdout",
     "output_type": "stream",
     "text": [
      "['Albany County' 'Allegany County' 'Broome County' 'Cattaraugus County'\n",
      " 'Cayuga County' 'Chautauqua County' 'Chemung County' 'Chenango County'\n",
      " 'Clinton County' 'Columbia County' 'Cortland County' 'Delaware County'\n",
      " 'Dutchess County' 'Erie County' 'Essex County' 'Franklin County'\n",
      " 'Fulton County' 'Genesee County' 'Greene County' 'Hamilton County'\n",
      " 'Herkimer County' 'Jefferson County' 'Lewis County' 'Livingston County'\n",
      " 'Madison County' 'Monroe County' 'Montgomery County' 'Nassau County'\n",
      " 'Niagara County' 'Oneida County' 'Onondaga County' 'Ontario County'\n",
      " 'Orange County' 'Orleans County' 'Oswego County' 'Otsego County'\n",
      " 'Putnam County' 'Rensselaer County' 'Rockland County'\n",
      " 'St. Lawrence County' 'Saratoga County' 'Schenectady County'\n",
      " 'Schoharie County' 'Schuyler County' 'Seneca County' 'Steuben County'\n",
      " 'Suffolk County' 'Sullivan County' 'Tioga County' 'Tompkins County'\n",
      " 'Ulster County' 'Warren County' 'Washington County' 'Wayne County'\n",
      " 'Westchester County' 'Wyoming County' 'Yates County']\n"
     ]
    }
   ],
   "source": [
    "# New York City counties do not show up\n",
    "print(enigma_agg_data[enigma_agg_data['state_name_ea']=='New York'].county_name_ea.unique())"
   ]
  },
  {
   "cell_type": "markdown",
   "metadata": {},
   "source": [
    "#### FIPS Compare: Reference Data and Enigma Johns Hopkins University\n",
    "* <font color='red'>NYC Counties show, but are zero, with New York county taking deaths for all 5 boroughs</font>"
   ]
  },
  {
   "cell_type": "code",
   "execution_count": 168,
   "metadata": {},
   "outputs": [
    {
     "name": "stdout",
     "output_type": "stream",
     "text": [
      "Set 1 length:  3247\n",
      "Set 2 length:  3220\n",
      "Length of Set 1 - Set 2:  105\n",
      "Length of Set 2 - Set 1:  78\n"
     ]
    }
   ],
   "source": [
    "# Reference data missing a few fip codes\n",
    "comp = list_diff(ejhu_fips, ref_fips)"
   ]
  },
  {
   "cell_type": "code",
   "execution_count": 173,
   "metadata": {},
   "outputs": [
    {
     "data": {
      "text/plain": [
       "['80022', '80033', '80028', '99999', '80019']"
      ]
     },
     "execution_count": 173,
     "metadata": {},
     "output_type": "execute_result"
    }
   ],
   "source": [
    "comp[0:5]"
   ]
  },
  {
   "cell_type": "code",
   "execution_count": 198,
   "metadata": {},
   "outputs": [
    {
     "data": {
      "text/html": [
       "<div>\n",
       "<style scoped>\n",
       "    .dataframe tbody tr th:only-of-type {\n",
       "        vertical-align: middle;\n",
       "    }\n",
       "\n",
       "    .dataframe tbody tr th {\n",
       "        vertical-align: top;\n",
       "    }\n",
       "\n",
       "    .dataframe thead th {\n",
       "        text-align: right;\n",
       "    }\n",
       "</style>\n",
       "<table border=\"1\" class=\"dataframe\">\n",
       "  <thead>\n",
       "    <tr style=\"text-align: right;\">\n",
       "      <th></th>\n",
       "      <th>uid_ejhu</th>\n",
       "      <th>fips_ejhu</th>\n",
       "      <th>iso2_ejhu</th>\n",
       "      <th>iso3_ejhu</th>\n",
       "      <th>code3_ejhu</th>\n",
       "      <th>admin2_ejhu</th>\n",
       "      <th>latitude_ejhu</th>\n",
       "      <th>longitude_ejhu</th>\n",
       "      <th>province_state_ejhu</th>\n",
       "      <th>country_region_ejhu</th>\n",
       "      <th>date_ejhu</th>\n",
       "      <th>confirmed_ejhu</th>\n",
       "      <th>deaths_ejhu</th>\n",
       "      <th>recovered_ejhu</th>\n",
       "    </tr>\n",
       "  </thead>\n",
       "  <tbody>\n",
       "    <tr>\n",
       "      <th>3147</th>\n",
       "      <td>84070002.0</td>\n",
       "      <td>0&lt;NA&gt;</td>\n",
       "      <td>US</td>\n",
       "      <td>USA</td>\n",
       "      <td>840.0</td>\n",
       "      <td>Dukes and Nantucket</td>\n",
       "      <td>41.406747</td>\n",
       "      <td>-70.687635</td>\n",
       "      <td>Massachusetts</td>\n",
       "      <td>US</td>\n",
       "      <td>2020-01-22</td>\n",
       "      <td>0</td>\n",
       "      <td>0</td>\n",
       "      <td>NaN</td>\n",
       "    </tr>\n",
       "    <tr>\n",
       "      <th>3148</th>\n",
       "      <td>84070003.0</td>\n",
       "      <td>0&lt;NA&gt;</td>\n",
       "      <td>US</td>\n",
       "      <td>USA</td>\n",
       "      <td>840.0</td>\n",
       "      <td>Kansas City</td>\n",
       "      <td>39.099700</td>\n",
       "      <td>-94.578600</td>\n",
       "      <td>Missouri</td>\n",
       "      <td>US</td>\n",
       "      <td>2020-01-22</td>\n",
       "      <td>0</td>\n",
       "      <td>0</td>\n",
       "      <td>NaN</td>\n",
       "    </tr>\n",
       "    <tr>\n",
       "      <th>3149</th>\n",
       "      <td>84080001.0</td>\n",
       "      <td>80001</td>\n",
       "      <td>US</td>\n",
       "      <td>USA</td>\n",
       "      <td>840.0</td>\n",
       "      <td>Out of AL</td>\n",
       "      <td>NaN</td>\n",
       "      <td>NaN</td>\n",
       "      <td>Alabama</td>\n",
       "      <td>US</td>\n",
       "      <td>2020-01-22</td>\n",
       "      <td>0</td>\n",
       "      <td>0</td>\n",
       "      <td>NaN</td>\n",
       "    </tr>\n",
       "  </tbody>\n",
       "</table>\n",
       "</div>"
      ],
      "text/plain": [
       "        uid_ejhu fips_ejhu iso2_ejhu iso3_ejhu  code3_ejhu  \\\n",
       "3147  84070002.0     0<NA>        US       USA       840.0   \n",
       "3148  84070003.0     0<NA>        US       USA       840.0   \n",
       "3149  84080001.0     80001        US       USA       840.0   \n",
       "\n",
       "              admin2_ejhu  latitude_ejhu  longitude_ejhu province_state_ejhu  \\\n",
       "3147  Dukes and Nantucket      41.406747      -70.687635       Massachusetts   \n",
       "3148          Kansas City      39.099700      -94.578600            Missouri   \n",
       "3149            Out of AL            NaN             NaN             Alabama   \n",
       "\n",
       "     country_region_ejhu  date_ejhu  confirmed_ejhu  deaths_ejhu  \\\n",
       "3147                  US 2020-01-22               0            0   \n",
       "3148                  US 2020-01-22               0            0   \n",
       "3149                  US 2020-01-22               0            0   \n",
       "\n",
       "      recovered_ejhu  \n",
       "3147             NaN  \n",
       "3148             NaN  \n",
       "3149             NaN  "
      ]
     },
     "execution_count": 198,
     "metadata": {},
     "output_type": "execute_result"
    }
   ],
   "source": [
    "enigma_jh_data[(enigma_jh_data['fips_ejhu'].isin(comp))].head(3)"
   ]
  },
  {
   "cell_type": "code",
   "execution_count": 205,
   "metadata": {},
   "outputs": [
    {
     "data": {
      "text/plain": [
       "array(['Dukes and Nantucket', 'Kansas City', 'Out of AL', 'Out of AK',\n",
       "       'Out of AZ', 'Out of AR', 'Out of CA', 'Out of CO', 'Out of CT',\n",
       "       'Out of DE', 'Out of DC', 'Out of FL', 'Out of GA', 'Out of HI',\n",
       "       'Out of ID', 'Out of IL', 'Out of IN', 'Out of IA', 'Out of KS',\n",
       "       'Out of KY', 'Out of LA', 'Out of ME', 'Out of MD', 'Out of MA',\n",
       "       'Out of MI', 'Out of MN', 'Out of MS', 'Out of MO', 'Out of MT',\n",
       "       'Out of NE', 'Out of NV', 'Out of NH', 'Out of NJ', 'Out of NM',\n",
       "       'Out of NY', 'Out of NC', 'Out of ND', 'Out of OH', 'Out of OK',\n",
       "       'Out of OR', 'Out of PA', 'Out of RI', 'Out of SC', 'Out of SD',\n",
       "       'Out of TN', 'Out of TX', 'Out of UT', 'Out of VT', 'Out of VA',\n",
       "       'Out of WA', 'Out of WV', 'Out of WI', 'Out of WY', nan,\n",
       "       'Unassigned', 'Michigan Department of Corrections (MDOC)',\n",
       "       'Federal Correctional Institution (FCI)', 'Bear River',\n",
       "       'Central Utah', 'Southeast Utah', 'Southwest Utah', 'TriCounty',\n",
       "       'Weber-Morgan'], dtype=object)"
      ]
     },
     "execution_count": 205,
     "metadata": {},
     "output_type": "execute_result"
    }
   ],
   "source": [
    "# 'Out of XX' could go to unknown with fips_code = '00000'\n",
    "# Others we should create fips_codes for to rpeserve the detail\n",
    "enigma_jh_data[(enigma_jh_data['fips_ejhu'].isin(comp))]['admin2_ejhu'].unique()"
   ]
  },
  {
   "cell_type": "code",
   "execution_count": 220,
   "metadata": {},
   "outputs": [
    {
     "data": {
      "text/html": [
       "<div>\n",
       "<style scoped>\n",
       "    .dataframe tbody tr th:only-of-type {\n",
       "        vertical-align: middle;\n",
       "    }\n",
       "\n",
       "    .dataframe tbody tr th {\n",
       "        vertical-align: top;\n",
       "    }\n",
       "\n",
       "    .dataframe thead th {\n",
       "        text-align: right;\n",
       "    }\n",
       "</style>\n",
       "<table border=\"1\" class=\"dataframe\">\n",
       "  <thead>\n",
       "    <tr style=\"text-align: right;\">\n",
       "      <th></th>\n",
       "      <th>uid_ejhu</th>\n",
       "      <th>fips_ejhu</th>\n",
       "      <th>iso2_ejhu</th>\n",
       "      <th>iso3_ejhu</th>\n",
       "      <th>code3_ejhu</th>\n",
       "      <th>admin2_ejhu</th>\n",
       "      <th>latitude_ejhu</th>\n",
       "      <th>longitude_ejhu</th>\n",
       "      <th>province_state_ejhu</th>\n",
       "      <th>country_region_ejhu</th>\n",
       "      <th>date_ejhu</th>\n",
       "      <th>confirmed_ejhu</th>\n",
       "      <th>deaths_ejhu</th>\n",
       "      <th>recovered_ejhu</th>\n",
       "    </tr>\n",
       "  </thead>\n",
       "  <tbody>\n",
       "    <tr>\n",
       "      <th>3200</th>\n",
       "      <td>84088888.0</td>\n",
       "      <td>88888</td>\n",
       "      <td>US</td>\n",
       "      <td>USA</td>\n",
       "      <td>840.0</td>\n",
       "      <td>NaN</td>\n",
       "      <td>NaN</td>\n",
       "      <td>NaN</td>\n",
       "      <td>Diamond Princess</td>\n",
       "      <td>US</td>\n",
       "      <td>2020-01-22</td>\n",
       "      <td>0</td>\n",
       "      <td>0</td>\n",
       "      <td>NaN</td>\n",
       "    </tr>\n",
       "    <tr>\n",
       "      <th>3252</th>\n",
       "      <td>84099999.0</td>\n",
       "      <td>99999</td>\n",
       "      <td>US</td>\n",
       "      <td>USA</td>\n",
       "      <td>840.0</td>\n",
       "      <td>NaN</td>\n",
       "      <td>NaN</td>\n",
       "      <td>NaN</td>\n",
       "      <td>Grand Princess</td>\n",
       "      <td>US</td>\n",
       "      <td>2020-01-22</td>\n",
       "      <td>0</td>\n",
       "      <td>0</td>\n",
       "      <td>NaN</td>\n",
       "    </tr>\n",
       "  </tbody>\n",
       "</table>\n",
       "</div>"
      ],
      "text/plain": [
       "        uid_ejhu fips_ejhu iso2_ejhu iso3_ejhu  code3_ejhu admin2_ejhu  \\\n",
       "3200  84088888.0     88888        US       USA       840.0         NaN   \n",
       "3252  84099999.0     99999        US       USA       840.0         NaN   \n",
       "\n",
       "      latitude_ejhu  longitude_ejhu province_state_ejhu country_region_ejhu  \\\n",
       "3200            NaN             NaN    Diamond Princess                  US   \n",
       "3252            NaN             NaN      Grand Princess                  US   \n",
       "\n",
       "      date_ejhu  confirmed_ejhu  deaths_ejhu  recovered_ejhu  \n",
       "3200 2020-01-22               0            0             NaN  \n",
       "3252 2020-01-22               0            0             NaN  "
      ]
     },
     "execution_count": 220,
     "metadata": {},
     "output_type": "execute_result"
    }
   ],
   "source": [
    "# Do they have state codes?\n",
    "enigma_jh_data[(enigma_jh_data['fips_ejhu'].isin(comp)) & (enigma_jh_data['admin2_ejhu'].isnull())].head(2)"
   ]
  },
  {
   "cell_type": "code",
   "execution_count": 225,
   "metadata": {},
   "outputs": [],
   "source": [
    "jh_unknown_fips_counties = ['Out of AL', 'Out of AK',\n",
    "       'Out of AZ', 'Out of AR', 'Out of CA', 'Out of CO', 'Out of CT',\n",
    "       'Out of DE', 'Out of DC', 'Out of FL', 'Out of GA', 'Out of HI',\n",
    "       'Out of ID', 'Out of IL', 'Out of IN', 'Out of IA', 'Out of KS',\n",
    "       'Out of KY', 'Out of LA', 'Out of ME', 'Out of MD', 'Out of MA',\n",
    "       'Out of MI', 'Out of MN', 'Out of MS', 'Out of MO', 'Out of MT',\n",
    "       'Out of NE', 'Out of NV', 'Out of NH', 'Out of NJ', 'Out of NM',\n",
    "       'Out of NY', 'Out of NC', 'Out of ND', 'Out of OH', 'Out of OK',\n",
    "       'Out of OR', 'Out of PA', 'Out of RI', 'Out of SC', 'Out of SD',\n",
    "       'Out of TN', 'Out of TX', 'Out of UT', 'Out of VT', 'Out of VA',\n",
    "       'Out of WA', 'Out of WV', 'Out of WI', 'Out of WY']\n",
    "# Map these states to state_code = GP or DP respectively"
   ]
  },
  {
   "cell_type": "code",
   "execution_count": 204,
   "metadata": {},
   "outputs": [
    {
     "data": {
      "text/html": [
       "<div>\n",
       "<style scoped>\n",
       "    .dataframe tbody tr th:only-of-type {\n",
       "        vertical-align: middle;\n",
       "    }\n",
       "\n",
       "    .dataframe tbody tr th {\n",
       "        vertical-align: top;\n",
       "    }\n",
       "\n",
       "    .dataframe thead th {\n",
       "        text-align: right;\n",
       "    }\n",
       "</style>\n",
       "<table border=\"1\" class=\"dataframe\">\n",
       "  <thead>\n",
       "    <tr style=\"text-align: right;\">\n",
       "      <th></th>\n",
       "      <th>uid_ejhu</th>\n",
       "      <th>fips_ejhu</th>\n",
       "      <th>iso2_ejhu</th>\n",
       "      <th>iso3_ejhu</th>\n",
       "      <th>code3_ejhu</th>\n",
       "      <th>admin2_ejhu</th>\n",
       "      <th>latitude_ejhu</th>\n",
       "      <th>longitude_ejhu</th>\n",
       "      <th>province_state_ejhu</th>\n",
       "      <th>country_region_ejhu</th>\n",
       "      <th>date_ejhu</th>\n",
       "      <th>confirmed_ejhu</th>\n",
       "      <th>deaths_ejhu</th>\n",
       "      <th>recovered_ejhu</th>\n",
       "    </tr>\n",
       "  </thead>\n",
       "  <tbody>\n",
       "    <tr>\n",
       "      <th>3200</th>\n",
       "      <td>84088888.0</td>\n",
       "      <td>88888</td>\n",
       "      <td>US</td>\n",
       "      <td>USA</td>\n",
       "      <td>840.0</td>\n",
       "      <td>NaN</td>\n",
       "      <td>NaN</td>\n",
       "      <td>NaN</td>\n",
       "      <td>Diamond Princess</td>\n",
       "      <td>US</td>\n",
       "      <td>2020-01-22</td>\n",
       "      <td>0</td>\n",
       "      <td>0</td>\n",
       "      <td>NaN</td>\n",
       "    </tr>\n",
       "    <tr>\n",
       "      <th>3252</th>\n",
       "      <td>84099999.0</td>\n",
       "      <td>99999</td>\n",
       "      <td>US</td>\n",
       "      <td>USA</td>\n",
       "      <td>840.0</td>\n",
       "      <td>NaN</td>\n",
       "      <td>NaN</td>\n",
       "      <td>NaN</td>\n",
       "      <td>Grand Princess</td>\n",
       "      <td>US</td>\n",
       "      <td>2020-01-22</td>\n",
       "      <td>0</td>\n",
       "      <td>0</td>\n",
       "      <td>NaN</td>\n",
       "    </tr>\n",
       "  </tbody>\n",
       "</table>\n",
       "</div>"
      ],
      "text/plain": [
       "        uid_ejhu fips_ejhu iso2_ejhu iso3_ejhu  code3_ejhu admin2_ejhu  \\\n",
       "3200  84088888.0     88888        US       USA       840.0         NaN   \n",
       "3252  84099999.0     99999        US       USA       840.0         NaN   \n",
       "\n",
       "      latitude_ejhu  longitude_ejhu province_state_ejhu country_region_ejhu  \\\n",
       "3200            NaN             NaN    Diamond Princess                  US   \n",
       "3252            NaN             NaN      Grand Princess                  US   \n",
       "\n",
       "      date_ejhu  confirmed_ejhu  deaths_ejhu  recovered_ejhu  \n",
       "3200 2020-01-22               0            0             NaN  \n",
       "3252 2020-01-22               0            0             NaN  "
      ]
     },
     "execution_count": 204,
     "metadata": {},
     "output_type": "execute_result"
    }
   ],
   "source": [
    "# Princess Cruise Records have that in the state, but county is null.\n",
    "# These are fine to go to fips_code = '00000'\n",
    "# Map these states to state_code = GP or DP respectively\n",
    "# Map\n",
    "enigma_jh_data[(enigma_jh_data['fips_ejhu'].isin(comp)) & enigma_jh_data['admin2_ejhu'].isnull()].head(2)"
   ]
  },
  {
   "cell_type": "code",
   "execution_count": 92,
   "metadata": {},
   "outputs": [
    {
     "data": {
      "text/html": [
       "<div>\n",
       "<style scoped>\n",
       "    .dataframe tbody tr th:only-of-type {\n",
       "        vertical-align: middle;\n",
       "    }\n",
       "\n",
       "    .dataframe tbody tr th {\n",
       "        vertical-align: top;\n",
       "    }\n",
       "\n",
       "    .dataframe thead th {\n",
       "        text-align: right;\n",
       "    }\n",
       "</style>\n",
       "<table border=\"1\" class=\"dataframe\">\n",
       "  <thead>\n",
       "    <tr style=\"text-align: right;\">\n",
       "      <th></th>\n",
       "      <th>uid_ejhu</th>\n",
       "      <th>fips_ejhu</th>\n",
       "      <th>iso2_ejhu</th>\n",
       "      <th>iso3_ejhu</th>\n",
       "      <th>code3_ejhu</th>\n",
       "      <th>admin2_ejhu</th>\n",
       "      <th>latitude_ejhu</th>\n",
       "      <th>longitude_ejhu</th>\n",
       "      <th>province_state_ejhu</th>\n",
       "      <th>country_region_ejhu</th>\n",
       "      <th>date_ejhu</th>\n",
       "      <th>confirmed_ejhu</th>\n",
       "      <th>deaths_ejhu</th>\n",
       "      <th>recovered_ejhu</th>\n",
       "    </tr>\n",
       "  </thead>\n",
       "  <tbody>\n",
       "    <tr>\n",
       "      <th>327933</th>\n",
       "      <td>84036001.0</td>\n",
       "      <td>36001</td>\n",
       "      <td>US</td>\n",
       "      <td>USA</td>\n",
       "      <td>840.0</td>\n",
       "      <td>Albany</td>\n",
       "      <td>42.600603</td>\n",
       "      <td>-73.977239</td>\n",
       "      <td>New York</td>\n",
       "      <td>US</td>\n",
       "      <td>2020-05-10</td>\n",
       "      <td>1432</td>\n",
       "      <td>59</td>\n",
       "      <td>NaN</td>\n",
       "    </tr>\n",
       "    <tr>\n",
       "      <th>327934</th>\n",
       "      <td>84036003.0</td>\n",
       "      <td>36003</td>\n",
       "      <td>US</td>\n",
       "      <td>USA</td>\n",
       "      <td>840.0</td>\n",
       "      <td>Allegany</td>\n",
       "      <td>42.257484</td>\n",
       "      <td>-78.027505</td>\n",
       "      <td>New York</td>\n",
       "      <td>US</td>\n",
       "      <td>2020-05-10</td>\n",
       "      <td>36</td>\n",
       "      <td>0</td>\n",
       "      <td>NaN</td>\n",
       "    </tr>\n",
       "    <tr>\n",
       "      <th>327935</th>\n",
       "      <td>84036005.0</td>\n",
       "      <td>36005</td>\n",
       "      <td>US</td>\n",
       "      <td>USA</td>\n",
       "      <td>840.0</td>\n",
       "      <td>Bronx</td>\n",
       "      <td>40.852093</td>\n",
       "      <td>-73.862828</td>\n",
       "      <td>New York</td>\n",
       "      <td>US</td>\n",
       "      <td>2020-05-10</td>\n",
       "      <td>0</td>\n",
       "      <td>0</td>\n",
       "      <td>NaN</td>\n",
       "    </tr>\n",
       "  </tbody>\n",
       "</table>\n",
       "</div>"
      ],
      "text/plain": [
       "          uid_ejhu fips_ejhu iso2_ejhu iso3_ejhu  code3_ejhu admin2_ejhu  \\\n",
       "327933  84036001.0     36001        US       USA       840.0      Albany   \n",
       "327934  84036003.0     36003        US       USA       840.0    Allegany   \n",
       "327935  84036005.0     36005        US       USA       840.0       Bronx   \n",
       "\n",
       "        latitude_ejhu  longitude_ejhu province_state_ejhu country_region_ejhu  \\\n",
       "327933      42.600603      -73.977239            New York                  US   \n",
       "327934      42.257484      -78.027505            New York                  US   \n",
       "327935      40.852093      -73.862828            New York                  US   \n",
       "\n",
       "        date_ejhu  confirmed_ejhu  deaths_ejhu  recovered_ejhu  \n",
       "327933 2020-05-10            1432           59             NaN  \n",
       "327934 2020-05-10              36            0             NaN  \n",
       "327935 2020-05-10               0            0             NaN  "
      ]
     },
     "execution_count": 92,
     "metadata": {},
     "output_type": "execute_result"
    }
   ],
   "source": [
    "# New York City counties show up but are zero, all deaths in 'New York' county\n",
    "enigma_jh_data[(enigma_jh_data.province_state_ejhu=='New York') & ((enigma_jh_data.date_ejhu=='2020-05-10'))].head(3)"
   ]
  },
  {
   "cell_type": "markdown",
   "metadata": {},
   "source": [
    "#### FIPS Compare: Reference Data and Enigma New York Times\n",
    "* <font color='red'>No FIPS codes for counties near NYC, but deaths in 'New York City' county</font>\n",
    "* <font color='red'>For counties near KC, some reporting existed early on, but then shifted to \"Kansas City\" similar to NYC\n",
    "* <font color='red'>No FIPS codes for 'Unknown' county, but a state exists</font>"
   ]
  },
  {
   "cell_type": "code",
   "execution_count": 93,
   "metadata": {},
   "outputs": [
    {
     "name": "stdout",
     "output_type": "stream",
     "text": [
      "Set 1 length:  2886\n",
      "Set 2 length:  3220\n",
      "Length of Set 1 - Set 2:  1\n",
      "Length of Set 2 - Set 1:  335\n"
     ]
    }
   ],
   "source": [
    "comp = list_diff(enyt_fips, ref_fips)"
   ]
  },
  {
   "cell_type": "code",
   "execution_count": 94,
   "metadata": {},
   "outputs": [
    {
     "data": {
      "text/plain": [
       "['0<NA>']"
      ]
     },
     "execution_count": 94,
     "metadata": {},
     "output_type": "execute_result"
    }
   ],
   "source": [
    "comp"
   ]
  },
  {
   "cell_type": "code",
   "execution_count": 95,
   "metadata": {},
   "outputs": [
    {
     "data": {
      "text/html": [
       "<div>\n",
       "<style scoped>\n",
       "    .dataframe tbody tr th:only-of-type {\n",
       "        vertical-align: middle;\n",
       "    }\n",
       "\n",
       "    .dataframe tbody tr th {\n",
       "        vertical-align: top;\n",
       "    }\n",
       "\n",
       "    .dataframe thead th {\n",
       "        text-align: right;\n",
       "    }\n",
       "</style>\n",
       "<table border=\"1\" class=\"dataframe\">\n",
       "  <thead>\n",
       "    <tr style=\"text-align: right;\">\n",
       "      <th></th>\n",
       "      <th>date_enyt</th>\n",
       "      <th>county_enyt</th>\n",
       "      <th>state_enyt</th>\n",
       "      <th>fips_enyt</th>\n",
       "      <th>cases_enyt</th>\n",
       "      <th>deaths_enyt</th>\n",
       "    </tr>\n",
       "  </thead>\n",
       "  <tbody>\n",
       "    <tr>\n",
       "      <th>0</th>\n",
       "      <td>2020-01-21</td>\n",
       "      <td>Snohomish</td>\n",
       "      <td>Washington</td>\n",
       "      <td>53061</td>\n",
       "      <td>1</td>\n",
       "      <td>0</td>\n",
       "    </tr>\n",
       "    <tr>\n",
       "      <th>1</th>\n",
       "      <td>2020-01-22</td>\n",
       "      <td>Snohomish</td>\n",
       "      <td>Washington</td>\n",
       "      <td>53061</td>\n",
       "      <td>1</td>\n",
       "      <td>0</td>\n",
       "    </tr>\n",
       "  </tbody>\n",
       "</table>\n",
       "</div>"
      ],
      "text/plain": [
       "   date_enyt county_enyt  state_enyt fips_enyt  cases_enyt  deaths_enyt\n",
       "0 2020-01-21   Snohomish  Washington     53061           1            0\n",
       "1 2020-01-22   Snohomish  Washington     53061           1            0"
      ]
     },
     "execution_count": 95,
     "metadata": {},
     "output_type": "execute_result"
    }
   ],
   "source": [
    "enigma_nyt_data.head(2)"
   ]
  },
  {
   "cell_type": "code",
   "execution_count": 96,
   "metadata": {},
   "outputs": [
    {
     "data": {
      "text/plain": [
       "array(['New York City', 'Unknown', 'Kansas City'], dtype=object)"
      ]
     },
     "execution_count": 96,
     "metadata": {},
     "output_type": "execute_result"
    }
   ],
   "source": [
    "enigma_nyt_data[enigma_nyt_data['fips_enyt']=='0<NA>'].county_enyt.unique()"
   ]
  },
  {
   "cell_type": "code",
   "execution_count": 291,
   "metadata": {},
   "outputs": [
    {
     "data": {
      "text/plain": [
       "array(['0<NA>'], dtype=object)"
      ]
     },
     "execution_count": 291,
     "metadata": {},
     "output_type": "execute_result"
    }
   ],
   "source": [
    "enigma_nyt_data[enigma_nyt_data['county_enyt']=='New York City']['fips_enyt'].unique()"
   ]
  },
  {
   "cell_type": "code",
   "execution_count": 295,
   "metadata": {},
   "outputs": [
    {
     "data": {
      "text/plain": [
       "array(['0<NA>'], dtype=object)"
      ]
     },
     "execution_count": 295,
     "metadata": {},
     "output_type": "execute_result"
    }
   ],
   "source": [
    "enigma_nyt_data[enigma_nyt_data['county_enyt']=='Kansas City']['fips_enyt'].unique()"
   ]
  },
  {
   "cell_type": "code",
   "execution_count": 97,
   "metadata": {},
   "outputs": [
    {
     "data": {
      "text/html": [
       "<div>\n",
       "<style scoped>\n",
       "    .dataframe tbody tr th:only-of-type {\n",
       "        vertical-align: middle;\n",
       "    }\n",
       "\n",
       "    .dataframe tbody tr th {\n",
       "        vertical-align: top;\n",
       "    }\n",
       "\n",
       "    .dataframe thead th {\n",
       "        text-align: right;\n",
       "    }\n",
       "</style>\n",
       "<table border=\"1\" class=\"dataframe\">\n",
       "  <thead>\n",
       "    <tr style=\"text-align: right;\">\n",
       "      <th></th>\n",
       "      <th>date_enyt</th>\n",
       "      <th>county_enyt</th>\n",
       "      <th>state_enyt</th>\n",
       "      <th>fips_enyt</th>\n",
       "      <th>cases_enyt</th>\n",
       "      <th>deaths_enyt</th>\n",
       "    </tr>\n",
       "  </thead>\n",
       "  <tbody>\n",
       "    <tr>\n",
       "      <th>127698</th>\n",
       "      <td>2020-05-09</td>\n",
       "      <td>Clay</td>\n",
       "      <td>Kansas</td>\n",
       "      <td>20027</td>\n",
       "      <td>4</td>\n",
       "      <td>1</td>\n",
       "    </tr>\n",
       "    <tr>\n",
       "      <th>130610</th>\n",
       "      <td>2020-05-10</td>\n",
       "      <td>Clay</td>\n",
       "      <td>Kansas</td>\n",
       "      <td>20027</td>\n",
       "      <td>4</td>\n",
       "      <td>1</td>\n",
       "    </tr>\n",
       "  </tbody>\n",
       "</table>\n",
       "</div>"
      ],
      "text/plain": [
       "        date_enyt county_enyt state_enyt fips_enyt  cases_enyt  deaths_enyt\n",
       "127698 2020-05-09        Clay     Kansas     20027           4            1\n",
       "130610 2020-05-10        Clay     Kansas     20027           4            1"
      ]
     },
     "execution_count": 97,
     "metadata": {},
     "output_type": "execute_result"
    }
   ],
   "source": [
    "enigma_nyt_data[(enigma_nyt_data['state_enyt']=='Kansas') & (enigma_nyt_data['county_enyt']=='Clay')].tail(2)"
   ]
  },
  {
   "cell_type": "code",
   "execution_count": 302,
   "metadata": {},
   "outputs": [
    {
     "data": {
      "text/plain": [
       "0"
      ]
     },
     "execution_count": 302,
     "metadata": {},
     "output_type": "execute_result"
    }
   ],
   "source": [
    "enigma_nyt_data[(enigma_nyt_data['state_enyt']=='New York') & (enigma_nyt_data['county_enyt']=='Queens')].size"
   ]
  },
  {
   "cell_type": "markdown",
   "metadata": {},
   "source": [
    "#### FIPS Compare: Reference Data and Rearc New York Times\n",
    "* <font color='red'>Same issues 'New York City', 'Kansas City' and 'Unknown' as Enigma New York Times</font>"
   ]
  },
  {
   "cell_type": "code",
   "execution_count": 99,
   "metadata": {},
   "outputs": [
    {
     "name": "stdout",
     "output_type": "stream",
     "text": [
      "Set 1 length:  2910\n",
      "Set 2 length:  3220\n",
      "Length of Set 1 - Set 2:  1\n",
      "Length of Set 2 - Set 1:  311\n"
     ]
    }
   ],
   "source": [
    "comp = list_diff(rnyt_fips, ref_fips)"
   ]
  },
  {
   "cell_type": "code",
   "execution_count": 100,
   "metadata": {},
   "outputs": [
    {
     "data": {
      "text/plain": [
       "['0<NA>']"
      ]
     },
     "execution_count": 100,
     "metadata": {},
     "output_type": "execute_result"
    }
   ],
   "source": [
    "comp"
   ]
  },
  {
   "cell_type": "code",
   "execution_count": 101,
   "metadata": {},
   "outputs": [
    {
     "data": {
      "text/plain": [
       "array(['New York City', 'Unknown', 'Kansas City'], dtype=object)"
      ]
     },
     "execution_count": 101,
     "metadata": {},
     "output_type": "execute_result"
    }
   ],
   "source": [
    "rearc_nyt_data[rearc_nyt_data['fips_rnyt']=='0<NA>'].county_rnyt.unique()"
   ]
  },
  {
   "cell_type": "markdown",
   "metadata": {},
   "source": [
    "#### FIPS Compare: Reference Data and USA Facts CDC\n",
    "* <font color='red'>New York City deaths are in the right counties</font>\n",
    "* <font color='red'>Kansas City deaths are in the right counties</font>\n",
    "* <font color='red'>FIPS = 00001 is for probable / unconfirmed new york city deaths</font>\n",
    "* <font color='red'>FIPS = 06000 is for the cruise ship</font>\n",
    "* <font color='red'>FIPS = 02270 is for Wade Hampton Census Area</font>"
   ]
  },
  {
   "cell_type": "code",
   "execution_count": 102,
   "metadata": {},
   "outputs": [
    {
     "name": "stdout",
     "output_type": "stream",
     "text": [
      "Set 1 length:  3145\n",
      "Set 2 length:  3220\n",
      "Length of Set 1 - Set 2:  3\n",
      "Length of Set 2 - Set 1:  78\n"
     ]
    }
   ],
   "source": [
    "comp = list_diff(ucdc_fips, ref_fips)"
   ]
  },
  {
   "cell_type": "code",
   "execution_count": 103,
   "metadata": {},
   "outputs": [
    {
     "data": {
      "text/plain": [
       "['02270', '00001', '06000']"
      ]
     },
     "execution_count": 103,
     "metadata": {},
     "output_type": "execute_result"
    }
   ],
   "source": [
    "comp"
   ]
  },
  {
   "cell_type": "code",
   "execution_count": 104,
   "metadata": {},
   "outputs": [
    {
     "data": {
      "text/html": [
       "<div>\n",
       "<style scoped>\n",
       "    .dataframe tbody tr th:only-of-type {\n",
       "        vertical-align: middle;\n",
       "    }\n",
       "\n",
       "    .dataframe tbody tr th {\n",
       "        vertical-align: top;\n",
       "    }\n",
       "\n",
       "    .dataframe thead th {\n",
       "        text-align: right;\n",
       "    }\n",
       "</style>\n",
       "<table border=\"1\" class=\"dataframe\">\n",
       "  <thead>\n",
       "    <tr style=\"text-align: right;\">\n",
       "      <th></th>\n",
       "      <th>countyFIPS_cdc</th>\n",
       "      <th>County Name_cdc</th>\n",
       "      <th>State_cdc</th>\n",
       "      <th>stateFIPS_cdc</th>\n",
       "      <th>Date_cdc</th>\n",
       "      <th>Confirmed_cdc</th>\n",
       "      <th>Deaths_cdc</th>\n",
       "      <th>population_cdc</th>\n",
       "    </tr>\n",
       "  </thead>\n",
       "  <tbody>\n",
       "    <tr>\n",
       "      <th>192</th>\n",
       "      <td>06000</td>\n",
       "      <td>Grand Princess Cruise Ship</td>\n",
       "      <td>CA</td>\n",
       "      <td>6</td>\n",
       "      <td>2020-01-22</td>\n",
       "      <td>0</td>\n",
       "      <td>0.0</td>\n",
       "      <td>0.0</td>\n",
       "    </tr>\n",
       "    <tr>\n",
       "      <th>3387</th>\n",
       "      <td>06000</td>\n",
       "      <td>Grand Princess Cruise Ship</td>\n",
       "      <td>CA</td>\n",
       "      <td>6</td>\n",
       "      <td>2020-01-23</td>\n",
       "      <td>0</td>\n",
       "      <td>0.0</td>\n",
       "      <td>0.0</td>\n",
       "    </tr>\n",
       "  </tbody>\n",
       "</table>\n",
       "</div>"
      ],
      "text/plain": [
       "     countyFIPS_cdc             County Name_cdc State_cdc  stateFIPS_cdc  \\\n",
       "192           06000  Grand Princess Cruise Ship        CA              6   \n",
       "3387          06000  Grand Princess Cruise Ship        CA              6   \n",
       "\n",
       "       Date_cdc  Confirmed_cdc  Deaths_cdc  population_cdc  \n",
       "192  2020-01-22              0         0.0             0.0  \n",
       "3387 2020-01-23              0         0.0             0.0  "
      ]
     },
     "execution_count": 104,
     "metadata": {},
     "output_type": "execute_result"
    }
   ],
   "source": [
    "usafacts_cdc_data[usafacts_cdc_data['countyFIPS_cdc']=='06000'].head(2)"
   ]
  },
  {
   "cell_type": "code",
   "execution_count": 105,
   "metadata": {},
   "outputs": [
    {
     "data": {
      "text/html": [
       "<div>\n",
       "<style scoped>\n",
       "    .dataframe tbody tr th:only-of-type {\n",
       "        vertical-align: middle;\n",
       "    }\n",
       "\n",
       "    .dataframe tbody tr th {\n",
       "        vertical-align: top;\n",
       "    }\n",
       "\n",
       "    .dataframe thead th {\n",
       "        text-align: right;\n",
       "    }\n",
       "</style>\n",
       "<table border=\"1\" class=\"dataframe\">\n",
       "  <thead>\n",
       "    <tr style=\"text-align: right;\">\n",
       "      <th></th>\n",
       "      <th>countyFIPS_cdc</th>\n",
       "      <th>County Name_cdc</th>\n",
       "      <th>State_cdc</th>\n",
       "      <th>stateFIPS_cdc</th>\n",
       "      <th>Date_cdc</th>\n",
       "      <th>Confirmed_cdc</th>\n",
       "      <th>Deaths_cdc</th>\n",
       "      <th>population_cdc</th>\n",
       "    </tr>\n",
       "  </thead>\n",
       "  <tbody>\n",
       "    <tr>\n",
       "      <th>95</th>\n",
       "      <td>02270</td>\n",
       "      <td>Wade Hampton Census Area</td>\n",
       "      <td>AK</td>\n",
       "      <td>2</td>\n",
       "      <td>2020-01-22</td>\n",
       "      <td>0</td>\n",
       "      <td>0.0</td>\n",
       "      <td>0.0</td>\n",
       "    </tr>\n",
       "    <tr>\n",
       "      <th>3290</th>\n",
       "      <td>02270</td>\n",
       "      <td>Wade Hampton Census Area</td>\n",
       "      <td>AK</td>\n",
       "      <td>2</td>\n",
       "      <td>2020-01-23</td>\n",
       "      <td>0</td>\n",
       "      <td>0.0</td>\n",
       "      <td>0.0</td>\n",
       "    </tr>\n",
       "  </tbody>\n",
       "</table>\n",
       "</div>"
      ],
      "text/plain": [
       "     countyFIPS_cdc           County Name_cdc State_cdc  stateFIPS_cdc  \\\n",
       "95            02270  Wade Hampton Census Area        AK              2   \n",
       "3290          02270  Wade Hampton Census Area        AK              2   \n",
       "\n",
       "       Date_cdc  Confirmed_cdc  Deaths_cdc  population_cdc  \n",
       "95   2020-01-22              0         0.0             0.0  \n",
       "3290 2020-01-23              0         0.0             0.0  "
      ]
     },
     "execution_count": 105,
     "metadata": {},
     "output_type": "execute_result"
    }
   ],
   "source": [
    "usafacts_cdc_data[usafacts_cdc_data['countyFIPS_cdc']=='02270'].head(2)"
   ]
  },
  {
   "cell_type": "code",
   "execution_count": 106,
   "metadata": {},
   "outputs": [
    {
     "data": {
      "text/html": [
       "<div>\n",
       "<style scoped>\n",
       "    .dataframe tbody tr th:only-of-type {\n",
       "        vertical-align: middle;\n",
       "    }\n",
       "\n",
       "    .dataframe tbody tr th {\n",
       "        vertical-align: top;\n",
       "    }\n",
       "\n",
       "    .dataframe thead th {\n",
       "        text-align: right;\n",
       "    }\n",
       "</style>\n",
       "<table border=\"1\" class=\"dataframe\">\n",
       "  <thead>\n",
       "    <tr style=\"text-align: right;\">\n",
       "      <th></th>\n",
       "      <th>countyFIPS_cdc</th>\n",
       "      <th>County Name_cdc</th>\n",
       "      <th>State_cdc</th>\n",
       "      <th>stateFIPS_cdc</th>\n",
       "      <th>Date_cdc</th>\n",
       "      <th>Confirmed_cdc</th>\n",
       "      <th>Deaths_cdc</th>\n",
       "      <th>population_cdc</th>\n",
       "    </tr>\n",
       "  </thead>\n",
       "  <tbody>\n",
       "    <tr>\n",
       "      <th>1862</th>\n",
       "      <td>00001</td>\n",
       "      <td>New York City Unallocated/Probable</td>\n",
       "      <td>NY</td>\n",
       "      <td>36</td>\n",
       "      <td>2020-01-22</td>\n",
       "      <td>0</td>\n",
       "      <td>0.0</td>\n",
       "      <td>NaN</td>\n",
       "    </tr>\n",
       "    <tr>\n",
       "      <th>5057</th>\n",
       "      <td>00001</td>\n",
       "      <td>New York City Unallocated/Probable</td>\n",
       "      <td>NY</td>\n",
       "      <td>36</td>\n",
       "      <td>2020-01-23</td>\n",
       "      <td>0</td>\n",
       "      <td>0.0</td>\n",
       "      <td>NaN</td>\n",
       "    </tr>\n",
       "  </tbody>\n",
       "</table>\n",
       "</div>"
      ],
      "text/plain": [
       "     countyFIPS_cdc                     County Name_cdc State_cdc  \\\n",
       "1862          00001  New York City Unallocated/Probable        NY   \n",
       "5057          00001  New York City Unallocated/Probable        NY   \n",
       "\n",
       "      stateFIPS_cdc   Date_cdc  Confirmed_cdc  Deaths_cdc  population_cdc  \n",
       "1862             36 2020-01-22              0         0.0             NaN  \n",
       "5057             36 2020-01-23              0         0.0             NaN  "
      ]
     },
     "execution_count": 106,
     "metadata": {},
     "output_type": "execute_result"
    }
   ],
   "source": [
    "usafacts_cdc_data[usafacts_cdc_data['countyFIPS_cdc']=='00001'].head(2)"
   ]
  },
  {
   "cell_type": "code",
   "execution_count": 107,
   "metadata": {},
   "outputs": [
    {
     "data": {
      "text/html": [
       "<div>\n",
       "<style scoped>\n",
       "    .dataframe tbody tr th:only-of-type {\n",
       "        vertical-align: middle;\n",
       "    }\n",
       "\n",
       "    .dataframe tbody tr th {\n",
       "        vertical-align: top;\n",
       "    }\n",
       "\n",
       "    .dataframe thead th {\n",
       "        text-align: right;\n",
       "    }\n",
       "</style>\n",
       "<table border=\"1\" class=\"dataframe\">\n",
       "  <thead>\n",
       "    <tr style=\"text-align: right;\">\n",
       "      <th></th>\n",
       "      <th>countyFIPS_cdc</th>\n",
       "      <th>County Name_cdc</th>\n",
       "      <th>State_cdc</th>\n",
       "      <th>stateFIPS_cdc</th>\n",
       "      <th>Date_cdc</th>\n",
       "      <th>Confirmed_cdc</th>\n",
       "      <th>Deaths_cdc</th>\n",
       "      <th>population_cdc</th>\n",
       "    </tr>\n",
       "  </thead>\n",
       "  <tbody>\n",
       "    <tr>\n",
       "      <th>350117</th>\n",
       "      <td>00001</td>\n",
       "      <td>New York City Unallocated/Probable</td>\n",
       "      <td>NY</td>\n",
       "      <td>36</td>\n",
       "      <td>2020-05-10</td>\n",
       "      <td>0</td>\n",
       "      <td>873.0</td>\n",
       "      <td>NaN</td>\n",
       "    </tr>\n",
       "    <tr>\n",
       "      <th>350118</th>\n",
       "      <td>36001</td>\n",
       "      <td>Albany County</td>\n",
       "      <td>NY</td>\n",
       "      <td>36</td>\n",
       "      <td>2020-05-10</td>\n",
       "      <td>1432</td>\n",
       "      <td>74.0</td>\n",
       "      <td>305506.0</td>\n",
       "    </tr>\n",
       "    <tr>\n",
       "      <th>350119</th>\n",
       "      <td>36003</td>\n",
       "      <td>Allegany County</td>\n",
       "      <td>NY</td>\n",
       "      <td>36</td>\n",
       "      <td>2020-05-10</td>\n",
       "      <td>36</td>\n",
       "      <td>2.0</td>\n",
       "      <td>46091.0</td>\n",
       "    </tr>\n",
       "    <tr>\n",
       "      <th>350120</th>\n",
       "      <td>36005</td>\n",
       "      <td>Bronx County</td>\n",
       "      <td>NY</td>\n",
       "      <td>36</td>\n",
       "      <td>2020-05-10</td>\n",
       "      <td>41059</td>\n",
       "      <td>3847.0</td>\n",
       "      <td>1418207.0</td>\n",
       "    </tr>\n",
       "    <tr>\n",
       "      <th>350121</th>\n",
       "      <td>36007</td>\n",
       "      <td>Broome County</td>\n",
       "      <td>NY</td>\n",
       "      <td>36</td>\n",
       "      <td>2020-05-10</td>\n",
       "      <td>373</td>\n",
       "      <td>27.0</td>\n",
       "      <td>190488.0</td>\n",
       "    </tr>\n",
       "  </tbody>\n",
       "</table>\n",
       "</div>"
      ],
      "text/plain": [
       "       countyFIPS_cdc                     County Name_cdc State_cdc  \\\n",
       "350117          00001  New York City Unallocated/Probable        NY   \n",
       "350118          36001                       Albany County        NY   \n",
       "350119          36003                     Allegany County        NY   \n",
       "350120          36005                        Bronx County        NY   \n",
       "350121          36007                       Broome County        NY   \n",
       "\n",
       "        stateFIPS_cdc   Date_cdc  Confirmed_cdc  Deaths_cdc  population_cdc  \n",
       "350117             36 2020-05-10              0       873.0             NaN  \n",
       "350118             36 2020-05-10           1432        74.0        305506.0  \n",
       "350119             36 2020-05-10             36         2.0         46091.0  \n",
       "350120             36 2020-05-10          41059      3847.0       1418207.0  \n",
       "350121             36 2020-05-10            373        27.0        190488.0  "
      ]
     },
     "execution_count": 107,
     "metadata": {},
     "output_type": "execute_result"
    }
   ],
   "source": [
    "usafacts_cdc_data[(usafacts_cdc_data['State_cdc']=='NY') & (usafacts_cdc_data['Date_cdc']=='2020-05-10')].head()"
   ]
  },
  {
   "cell_type": "code",
   "execution_count": 1254,
   "metadata": {},
   "outputs": [
    {
     "ename": "KeyError",
     "evalue": "'State_cdc'",
     "output_type": "error",
     "traceback": [
      "\u001b[0;31m---------------------------------------------------------------------------\u001b[0m",
      "\u001b[0;31mKeyError\u001b[0m                                  Traceback (most recent call last)",
      "\u001b[0;32m~/.local/share/virtualenvs/covid-0KkTrqeD/lib/python3.6/site-packages/pandas/core/indexes/base.py\u001b[0m in \u001b[0;36mget_loc\u001b[0;34m(self, key, method, tolerance)\u001b[0m\n\u001b[1;32m   2645\u001b[0m             \u001b[0;32mtry\u001b[0m\u001b[0;34m:\u001b[0m\u001b[0;34m\u001b[0m\u001b[0;34m\u001b[0m\u001b[0m\n\u001b[0;32m-> 2646\u001b[0;31m                 \u001b[0;32mreturn\u001b[0m \u001b[0mself\u001b[0m\u001b[0;34m.\u001b[0m\u001b[0m_engine\u001b[0m\u001b[0;34m.\u001b[0m\u001b[0mget_loc\u001b[0m\u001b[0;34m(\u001b[0m\u001b[0mkey\u001b[0m\u001b[0;34m)\u001b[0m\u001b[0;34m\u001b[0m\u001b[0;34m\u001b[0m\u001b[0m\n\u001b[0m\u001b[1;32m   2647\u001b[0m             \u001b[0;32mexcept\u001b[0m \u001b[0mKeyError\u001b[0m\u001b[0;34m:\u001b[0m\u001b[0;34m\u001b[0m\u001b[0;34m\u001b[0m\u001b[0m\n",
      "\u001b[0;32mpandas/_libs/index.pyx\u001b[0m in \u001b[0;36mpandas._libs.index.IndexEngine.get_loc\u001b[0;34m()\u001b[0m\n",
      "\u001b[0;32mpandas/_libs/index.pyx\u001b[0m in \u001b[0;36mpandas._libs.index.IndexEngine.get_loc\u001b[0;34m()\u001b[0m\n",
      "\u001b[0;32mpandas/_libs/hashtable_class_helper.pxi\u001b[0m in \u001b[0;36mpandas._libs.hashtable.PyObjectHashTable.get_item\u001b[0;34m()\u001b[0m\n",
      "\u001b[0;32mpandas/_libs/hashtable_class_helper.pxi\u001b[0m in \u001b[0;36mpandas._libs.hashtable.PyObjectHashTable.get_item\u001b[0;34m()\u001b[0m\n",
      "\u001b[0;31mKeyError\u001b[0m: 'State_cdc'",
      "\nDuring handling of the above exception, another exception occurred:\n",
      "\u001b[0;31mKeyError\u001b[0m                                  Traceback (most recent call last)",
      "\u001b[0;32m<ipython-input-1254-cdeba5387877>\u001b[0m in \u001b[0;36m<module>\u001b[0;34m\u001b[0m\n\u001b[0;32m----> 1\u001b[0;31m \u001b[0musafacts_cdc_data\u001b[0m\u001b[0;34m[\u001b[0m\u001b[0;34m(\u001b[0m\u001b[0musafacts_cdc_data\u001b[0m\u001b[0;34m[\u001b[0m\u001b[0;34m'State_cdc'\u001b[0m\u001b[0;34m]\u001b[0m\u001b[0;34m==\u001b[0m\u001b[0;34m'KS'\u001b[0m\u001b[0;34m)\u001b[0m \u001b[0;34m&\u001b[0m \u001b[0;34m(\u001b[0m\u001b[0musafacts_cdc_data\u001b[0m\u001b[0;34m[\u001b[0m\u001b[0;34m'Date_cdc'\u001b[0m\u001b[0;34m]\u001b[0m\u001b[0;34m==\u001b[0m\u001b[0;34m'2020-05-10'\u001b[0m\u001b[0;34m)\u001b[0m\u001b[0;34m]\u001b[0m\u001b[0;34m.\u001b[0m\u001b[0mtail\u001b[0m\u001b[0;34m(\u001b[0m\u001b[0;36m3\u001b[0m\u001b[0;34m)\u001b[0m\u001b[0;34m\u001b[0m\u001b[0;34m\u001b[0m\u001b[0m\n\u001b[0m",
      "\u001b[0;32m~/.local/share/virtualenvs/covid-0KkTrqeD/lib/python3.6/site-packages/pandas/core/frame.py\u001b[0m in \u001b[0;36m__getitem__\u001b[0;34m(self, key)\u001b[0m\n\u001b[1;32m   2798\u001b[0m             \u001b[0;32mif\u001b[0m \u001b[0mself\u001b[0m\u001b[0;34m.\u001b[0m\u001b[0mcolumns\u001b[0m\u001b[0;34m.\u001b[0m\u001b[0mnlevels\u001b[0m \u001b[0;34m>\u001b[0m \u001b[0;36m1\u001b[0m\u001b[0;34m:\u001b[0m\u001b[0;34m\u001b[0m\u001b[0;34m\u001b[0m\u001b[0m\n\u001b[1;32m   2799\u001b[0m                 \u001b[0;32mreturn\u001b[0m \u001b[0mself\u001b[0m\u001b[0;34m.\u001b[0m\u001b[0m_getitem_multilevel\u001b[0m\u001b[0;34m(\u001b[0m\u001b[0mkey\u001b[0m\u001b[0;34m)\u001b[0m\u001b[0;34m\u001b[0m\u001b[0;34m\u001b[0m\u001b[0m\n\u001b[0;32m-> 2800\u001b[0;31m             \u001b[0mindexer\u001b[0m \u001b[0;34m=\u001b[0m \u001b[0mself\u001b[0m\u001b[0;34m.\u001b[0m\u001b[0mcolumns\u001b[0m\u001b[0;34m.\u001b[0m\u001b[0mget_loc\u001b[0m\u001b[0;34m(\u001b[0m\u001b[0mkey\u001b[0m\u001b[0;34m)\u001b[0m\u001b[0;34m\u001b[0m\u001b[0;34m\u001b[0m\u001b[0m\n\u001b[0m\u001b[1;32m   2801\u001b[0m             \u001b[0;32mif\u001b[0m \u001b[0mis_integer\u001b[0m\u001b[0;34m(\u001b[0m\u001b[0mindexer\u001b[0m\u001b[0;34m)\u001b[0m\u001b[0;34m:\u001b[0m\u001b[0;34m\u001b[0m\u001b[0;34m\u001b[0m\u001b[0m\n\u001b[1;32m   2802\u001b[0m                 \u001b[0mindexer\u001b[0m \u001b[0;34m=\u001b[0m \u001b[0;34m[\u001b[0m\u001b[0mindexer\u001b[0m\u001b[0;34m]\u001b[0m\u001b[0;34m\u001b[0m\u001b[0;34m\u001b[0m\u001b[0m\n",
      "\u001b[0;32m~/.local/share/virtualenvs/covid-0KkTrqeD/lib/python3.6/site-packages/pandas/core/indexes/base.py\u001b[0m in \u001b[0;36mget_loc\u001b[0;34m(self, key, method, tolerance)\u001b[0m\n\u001b[1;32m   2646\u001b[0m                 \u001b[0;32mreturn\u001b[0m \u001b[0mself\u001b[0m\u001b[0;34m.\u001b[0m\u001b[0m_engine\u001b[0m\u001b[0;34m.\u001b[0m\u001b[0mget_loc\u001b[0m\u001b[0;34m(\u001b[0m\u001b[0mkey\u001b[0m\u001b[0;34m)\u001b[0m\u001b[0;34m\u001b[0m\u001b[0;34m\u001b[0m\u001b[0m\n\u001b[1;32m   2647\u001b[0m             \u001b[0;32mexcept\u001b[0m \u001b[0mKeyError\u001b[0m\u001b[0;34m:\u001b[0m\u001b[0;34m\u001b[0m\u001b[0;34m\u001b[0m\u001b[0m\n\u001b[0;32m-> 2648\u001b[0;31m                 \u001b[0;32mreturn\u001b[0m \u001b[0mself\u001b[0m\u001b[0;34m.\u001b[0m\u001b[0m_engine\u001b[0m\u001b[0;34m.\u001b[0m\u001b[0mget_loc\u001b[0m\u001b[0;34m(\u001b[0m\u001b[0mself\u001b[0m\u001b[0;34m.\u001b[0m\u001b[0m_maybe_cast_indexer\u001b[0m\u001b[0;34m(\u001b[0m\u001b[0mkey\u001b[0m\u001b[0;34m)\u001b[0m\u001b[0;34m)\u001b[0m\u001b[0;34m\u001b[0m\u001b[0;34m\u001b[0m\u001b[0m\n\u001b[0m\u001b[1;32m   2649\u001b[0m         \u001b[0mindexer\u001b[0m \u001b[0;34m=\u001b[0m \u001b[0mself\u001b[0m\u001b[0;34m.\u001b[0m\u001b[0mget_indexer\u001b[0m\u001b[0;34m(\u001b[0m\u001b[0;34m[\u001b[0m\u001b[0mkey\u001b[0m\u001b[0;34m]\u001b[0m\u001b[0;34m,\u001b[0m \u001b[0mmethod\u001b[0m\u001b[0;34m=\u001b[0m\u001b[0mmethod\u001b[0m\u001b[0;34m,\u001b[0m \u001b[0mtolerance\u001b[0m\u001b[0;34m=\u001b[0m\u001b[0mtolerance\u001b[0m\u001b[0;34m)\u001b[0m\u001b[0;34m\u001b[0m\u001b[0;34m\u001b[0m\u001b[0m\n\u001b[1;32m   2650\u001b[0m         \u001b[0;32mif\u001b[0m \u001b[0mindexer\u001b[0m\u001b[0;34m.\u001b[0m\u001b[0mndim\u001b[0m \u001b[0;34m>\u001b[0m \u001b[0;36m1\u001b[0m \u001b[0;32mor\u001b[0m \u001b[0mindexer\u001b[0m\u001b[0;34m.\u001b[0m\u001b[0msize\u001b[0m \u001b[0;34m>\u001b[0m \u001b[0;36m1\u001b[0m\u001b[0;34m:\u001b[0m\u001b[0;34m\u001b[0m\u001b[0;34m\u001b[0m\u001b[0m\n",
      "\u001b[0;32mpandas/_libs/index.pyx\u001b[0m in \u001b[0;36mpandas._libs.index.IndexEngine.get_loc\u001b[0;34m()\u001b[0m\n",
      "\u001b[0;32mpandas/_libs/index.pyx\u001b[0m in \u001b[0;36mpandas._libs.index.IndexEngine.get_loc\u001b[0;34m()\u001b[0m\n",
      "\u001b[0;32mpandas/_libs/hashtable_class_helper.pxi\u001b[0m in \u001b[0;36mpandas._libs.hashtable.PyObjectHashTable.get_item\u001b[0;34m()\u001b[0m\n",
      "\u001b[0;32mpandas/_libs/hashtable_class_helper.pxi\u001b[0m in \u001b[0;36mpandas._libs.hashtable.PyObjectHashTable.get_item\u001b[0;34m()\u001b[0m\n",
      "\u001b[0;31mKeyError\u001b[0m: 'State_cdc'"
     ]
    }
   ],
   "source": [
    "usafacts_cdc_data[(usafacts_cdc_data['State_cdc']=='KS') & (usafacts_cdc_data['Date_cdc']=='2020-05-10')].tail(3)"
   ]
  },
  {
   "cell_type": "markdown",
   "metadata": {},
   "source": [
    "## Combine Data Sources"
   ]
  },
  {
   "cell_type": "markdown",
   "metadata": {},
   "source": [
    "### Merge Data"
   ]
  },
  {
   "cell_type": "code",
   "execution_count": 109,
   "metadata": {},
   "outputs": [],
   "source": [
    "# Drop the not needed google mobility columns 'state name etc..'\n",
    "\n",
    "# Add JH data (which somehow became not available)\n",
    "\n",
    "# Look into why record counts change during the group bys\n",
    "#      investigate any duplicates and fix them\n",
    "\n",
    "# refactor code to be more like a pipeline\n",
    "\n",
    "# Decide census columns (education, income, race, land)\n",
    "# Aggregate safegraph census stuff since it is more granular than county\n",
    "# Join in census columns\n",
    "\n",
    "# calculated columns (population density, percentiles, distance from epicenters)\n",
    "\n",
    "# graphs\n",
    "\n",
    "# Decide how to deal with NaNs in numeric columns (do they graph?)\n",
    "\n",
    "# graph data comparison (counts)\n",
    "### Deaths, cases, etc..\n",
    "\n",
    "# graph death rates over time\n",
    "\n",
    "# correlations\n",
    "# graph epicenters, distance from epicenter, population density, income, education, race"
   ]
  },
  {
   "cell_type": "code",
   "execution_count": 1247,
   "metadata": {},
   "outputs": [],
   "source": [
    "# Build a list of tables to join\n",
    "raw_data_list = [\n",
    "    enigma_agg_data,\n",
    "    enigma_jh_data,\n",
    "    enigma_nyt_data,\n",
    "    rearc_nyt_data,\n",
    "    usafacts_cdc_data,\n",
    "]"
   ]
  },
  {
   "cell_type": "code",
   "execution_count": 1248,
   "metadata": {},
   "outputs": [],
   "source": [
    "# Since we want the sum columns to have different names, put them in a list\n",
    "sum_cols = [\n",
    "    ['cases_ea', 'deaths_ea'],\n",
    "    ['confirmed_ejhu', 'deaths_ejhu'],\n",
    "    ['cases_enyt', 'deaths_enyt'],\n",
    "    ['cases_rnyt', 'deaths_rnyt'],\n",
    "    ['confirmed_cdc', 'deaths_cdc']\n",
    "]"
   ]
  },
  {
   "cell_type": "code",
   "execution_count": 1249,
   "metadata": {},
   "outputs": [],
   "source": [
    "# Recursively group the tables and put that in a new list\n",
    "grouped_data_list = []\n",
    "for data, sum_col in zip(raw_data_list, sum_cols):\n",
    "    data = data.groupby(['state_code','fips_code', 'date'])[sum_col].agg('sum').reset_index()\n",
    "    grouped_data_list.append(data)"
   ]
  },
  {
   "cell_type": "code",
   "execution_count": 1250,
   "metadata": {},
   "outputs": [],
   "source": [
    "# Add google mobility data\n",
    "grouped_data_list.append(\n",
    "    google_county_data\n",
    ")"
   ]
  },
  {
   "cell_type": "code",
   "execution_count": 1251,
   "metadata": {},
   "outputs": [],
   "source": [
    "# Join all the tables together\n",
    "on_col = ['state_code', 'fips_code', 'date']\n",
    "covid_data = pd.DataFrame(columns=on_col)\n",
    "for data in grouped_data_list:\n",
    "    covid_data = pd.merge(\n",
    "        covid_data, data, how='outer', left_on=on_col, right_on=on_col\n",
    "    )"
   ]
  },
  {
   "cell_type": "code",
   "execution_count": 1253,
   "metadata": {},
   "outputs": [
    {
     "data": {
      "text/plain": [
       "Index(['state_code', 'fips_code', 'date', 'cases_ea', 'deaths_ea',\n",
       "       'confirmed_ejhu', 'deaths_ejhu', 'cases_enyt', 'deaths_enyt',\n",
       "       'cases_rnyt', 'deaths_rnyt', 'confirmed_cdc', 'deaths_cdc',\n",
       "       'country_region_code_goog_cnty', 'country_region_goog_cnty',\n",
       "       'sub_region_1_goog_cnty', 'sub_region_2_goog_cnty', 'date_goog_cnty',\n",
       "       'retail_and_recreation_percent_change_from_baseline_goog_cnty',\n",
       "       'grocery_and_pharmacy_percent_change_from_baseline_goog_cnty',\n",
       "       'parks_percent_change_from_baseline_goog_cnty',\n",
       "       'transit_stations_percent_change_from_baseline_goog_cnty',\n",
       "       'workplaces_percent_change_from_baseline_goog_cnty',\n",
       "       'residential_percent_change_from_baseline_goog_cnty', 'state_name',\n",
       "       'state_county', 'state', 'state_fips', 'county_fips', 'county',\n",
       "       'class_code', 'fips'],\n",
       "      dtype='object')"
      ]
     },
     "execution_count": 1253,
     "metadata": {},
     "output_type": "execute_result"
    }
   ],
   "source": [
    "covid_data.columns"
   ]
  }
 ],
 "metadata": {
  "kernelspec": {
   "display_name": "covid",
   "language": "python",
   "name": "covid"
  },
  "language_info": {
   "codemirror_mode": {
    "name": "ipython",
    "version": 3
   },
   "file_extension": ".py",
   "mimetype": "text/x-python",
   "name": "python",
   "nbconvert_exporter": "python",
   "pygments_lexer": "ipython3",
   "version": "3.6.9"
  }
 },
 "nbformat": 4,
 "nbformat_minor": 4
}
