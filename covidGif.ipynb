{
 "cells": [
  {
   "cell_type": "code",
   "execution_count": 31,
   "metadata": {},
   "outputs": [],
   "source": [
    "import imageio\n",
    "import os"
   ]
  },
  {
   "cell_type": "code",
   "execution_count": 32,
   "metadata": {},
   "outputs": [],
   "source": [
    "def createGif(infolder,outfolder):\n",
    "    filenames = os.listdir(infolder)\n",
    "    filenames = [file for file in filenames if '.jpg' in file]\n",
    "    filenames = [int(file.replace(\"_img.jpg\", \"\")) for file in filenames]\n",
    "    filenames.sort()\n",
    "    filenames = [str(file)+'_img.jpg' for file in filenames]\n",
    "    \n",
    "    images = []\n",
    "    for filename in filenames[::3]: #Skip every other\n",
    "        images.append(imageio.imread(infolder + '/' + filename))\n",
    "    imageio.mimsave(outfolder + '/movie.gif', images)"
   ]
  },
  {
   "cell_type": "code",
   "execution_count": 33,
   "metadata": {},
   "outputs": [],
   "source": [
    "#createGif('img1','gif1')"
   ]
  },
  {
   "cell_type": "code",
   "execution_count": 34,
   "metadata": {},
   "outputs": [],
   "source": [
    "#createGif('img2','gif2')"
   ]
  },
  {
   "cell_type": "code",
   "execution_count": 35,
   "metadata": {},
   "outputs": [],
   "source": [
    "#createGif('img3','gif3')"
   ]
  },
  {
   "cell_type": "code",
   "execution_count": 36,
   "metadata": {},
   "outputs": [],
   "source": [
    "createGif('img4','gif4')"
   ]
  }
 ],
 "metadata": {
  "kernelspec": {
   "display_name": "Python 3",
   "language": "python",
   "name": "python3"
  },
  "language_info": {
   "codemirror_mode": {
    "name": "ipython",
    "version": 3
   },
   "file_extension": ".py",
   "mimetype": "text/x-python",
   "name": "python",
   "nbconvert_exporter": "python",
   "pygments_lexer": "ipython3",
   "version": "3.7.9"
  }
 },
 "nbformat": 4,
 "nbformat_minor": 4
}
