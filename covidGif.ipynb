{
 "cells": [
  {
   "cell_type": "code",
   "execution_count": 1,
   "metadata": {},
   "outputs": [],
   "source": [
    "import imageio\n",
    "import os"
   ]
  },
  {
   "cell_type": "code",
   "execution_count": 2,
   "metadata": {},
   "outputs": [],
   "source": [
    "def createGif(infolder,outfolder):\n",
    "    filenames = os.listdir(infolder)\n",
    "    filenames = [file for file in filenames if '.jpg' in file]\n",
    "    filenames = [int(file.replace(\"_img.jpg\", \"\")) for file in filenames]\n",
    "    filenames.sort()\n",
    "    filenames = [str(file)+'_img.jpg' for file in filenames]\n",
    "    \n",
    "    images = []\n",
    "    for filename in filenames[::3]: #Skip every other\n",
    "        images.append(imageio.imread(infolder + '/' + filename))\n",
    "    imageio.mimsave(outfolder + '/movie.gif', images)"
   ]
  },
  {
   "cell_type": "code",
   "execution_count": 3,
   "metadata": {},
   "outputs": [],
   "source": [
    "createGif('img1','gif1')"
   ]
  },
  {
   "cell_type": "code",
   "execution_count": 4,
   "metadata": {},
   "outputs": [],
   "source": [
    "createGif('img2','gif2')"
   ]
  },
  {
   "cell_type": "code",
   "execution_count": 5,
   "metadata": {},
   "outputs": [],
   "source": [
    "createGif('img3','gif3')"
   ]
  },
  {
   "cell_type": "code",
   "execution_count": 6,
   "metadata": {},
   "outputs": [],
   "source": [
    "createGif('img4','gif4')"
   ]
  },
  {
   "cell_type": "code",
   "execution_count": 7,
   "metadata": {},
   "outputs": [],
   "source": [
    "createGif('img5','gif5')\n",
    "createGif('img6','gif6')\n",
    "createGif('img7','gif7')\n",
    "createGif('img8','gif8')\n",
    "createGif('img9','gif9')\n",
    "createGif('img10','gif10')\n",
    "createGif('img11','gif11')\n",
    "createGif('img12','gif12')\n",
    "createGif('img13','gif13')\n",
    "createGif('img14','gif14')"
   ]
  },
  {
   "cell_type": "code",
   "execution_count": 8,
   "metadata": {},
   "outputs": [],
   "source": [
    "## Need to remove the first month with huge negatives in each county, maybe just drop the first day?\n",
    "# Data dissapearing from the southeast in September?? wtf?"
   ]
  }
 ],
 "metadata": {
  "kernelspec": {
   "display_name": "Python 3",
   "language": "python",
   "name": "python3"
  },
  "language_info": {
   "codemirror_mode": {
    "name": "ipython",
    "version": 3
   },
   "file_extension": ".py",
   "mimetype": "text/x-python",
   "name": "python",
   "nbconvert_exporter": "python",
   "pygments_lexer": "ipython3",
   "version": "3.7.9"
  }
 },
 "nbformat": 4,
 "nbformat_minor": 4
}
