{
 "cells": [
  {
   "cell_type": "markdown",
   "metadata": {},
   "source": [
    "# Create the Master Data Table"
   ]
  },
  {
   "cell_type": "markdown",
   "metadata": {},
   "source": [
    "The following data sources were used:\n",
    "\n",
    "USA Facts (Affiliated with the CDC)\n",
    "* usafacts_cdc.p created with the notebook usafacts_cdc_data_explore.ipynb \n",
    "* has NYC county level time series data, that no other source has\n",
    "* has FIPS code already on\n",
    "* comes with its own population attached\n",
    "\n",
    "Census Data (ACS Survey)\n",
    "* census_master.p created with the notebook cencus_data_explore.ipynb\n",
    "* has a wealth of fields to attach to counties\n",
    "* comes from the 'covid' area of the census FTP site\n",
    "\n",
    "Google Mobility Data\n",
    "* Apple data is not automatically downloadable\n",
    "* simple and easy to use\n",
    "\n"
   ]
  },
  {
   "cell_type": "code",
   "execution_count": 83,
   "metadata": {},
   "outputs": [],
   "source": [
    "import pandas as pd, ftplib, io, pickle, boto3, numpy as np\n",
    "pd.set_option('display.max_rows', 500)\n",
    "pd.set_option('display.max_rows', 500)"
   ]
  },
  {
   "cell_type": "markdown",
   "metadata": {},
   "source": [
    "# Data Pipepline"
   ]
  },
  {
   "cell_type": "markdown",
   "metadata": {},
   "source": [
    "## Helper Functions\n",
    "* Be sure to set your aws credentials in the virtual environment using \n",
    "* pipenv shell\n",
    "* aws configure\n",
    "* enter your ID and secret key"
   ]
  },
  {
   "cell_type": "code",
   "execution_count": 84,
   "metadata": {},
   "outputs": [],
   "source": [
    "def getS3Data(bucket, file_loc, csv=True):\n",
    "    client = boto3.client('s3')\n",
    "    obj = client.get_object(Bucket=bucket, Key=file_loc)\n",
    "    if(csv):\n",
    "        data = pd.read_csv(obj['Body'] , dtype=str)\n",
    "    else:\n",
    "        data = pd.read_json(obj['Body'])\n",
    "    \n",
    "    return data"
   ]
  },
  {
   "cell_type": "code",
   "execution_count": 85,
   "metadata": {},
   "outputs": [],
   "source": [
    "def dataCleanUp(data, date_field, fips_field, case_field, death_field, suffix): \n",
    "    print(\"Shape: \", data.shape)\n",
    "    data[fips_field] = data[fips_field].astype('str').apply(lambda x: x.zfill(5))\n",
    "    data[date_field] = data[date_field].astype('datetime64')\n",
    "    data[case_field] = data[case_field].astype('float64')\n",
    "    print(\"Case control total: \", data[case_field].sum())\n",
    "    data[death_field] = data[death_field].astype('float64')\n",
    "    print(\"Death control total: \", data[death_field].sum())\n",
    "    data = data.add_suffix(suffix)\n",
    "    data['date'] = data[date_field + suffix]\n",
    "    data = data.rename(str.lower, axis='columns') \n",
    "    return data"
   ]
  },
  {
   "cell_type": "code",
   "execution_count": 86,
   "metadata": {},
   "outputs": [],
   "source": [
    "def getDataInfo(data, case_field, death_field):\n",
    "    print(\"Dataframe Shape: \", data.shape)\n",
    "    print(\"Number of States: \", len(data['state_code'].unique()))\n",
    "    print(\"Number of Counties: \", len(data['fips_code'].unique()))\n",
    "    print(\"Minimum Date: \", data['date'].min())\n",
    "    print(\"Maximum Date: \", data['date'].max())\n",
    "    print(\"Duplicate State-Fips-Date: \", \n",
    "          data.groupby(['state_code','fips_code', 'date']).size().reset_index().rename(columns={0:'count'})['count'].sum() \n",
    "          - data.shape[0])\n",
    "    print(\"Null State Code: \", data[data.state_code.isnull()].size)\n",
    "    print(\"Null County Code: \", data[data.fips_code.isnull()].size)\n",
    "    print(\"Null Dates: \", enigma_agg_data[enigma_agg_data.date.isnull()].size)\n",
    "    \n",
    "    print(\"Case Control Total: \", data[case_field].sum())\n",
    "    print(\"Death Control Total: \", data[death_field].sum())"
   ]
  },
  {
   "cell_type": "code",
   "execution_count": 87,
   "metadata": {},
   "outputs": [],
   "source": [
    "def sumDups(data, county_field, date_field, sum_field):\n",
    "    out = data[\n",
    "        data.duplicated([county_field, date_field]) & \n",
    "        (data[date_field] == data[date_field].max())\n",
    "    ][sum_field].sum()\n",
    "    return out"
   ]
  },
  {
   "cell_type": "markdown",
   "metadata": {},
   "source": [
    "## Static Data"
   ]
  },
  {
   "cell_type": "markdown",
   "metadata": {},
   "source": [
    "### County reference data"
   ]
  },
  {
   "cell_type": "code",
   "execution_count": 88,
   "metadata": {},
   "outputs": [],
   "source": [
    "# Get data\n",
    "county_ref_data = getS3Data('covid19-lake', 'static-datasets/csv/CountyPopulation/County_Population.csv')\n",
    "\n",
    "# Rename columns\n",
    "county_ref_data.columns = ['big_fips', 'fips', 'county', 'state', 'population_2018']\n",
    "\n",
    "# Fill leading zeros on fips code\n",
    "county_ref_data['fips'] = county_ref_data['fips'].astype('str').apply(lambda x: x.zfill(5))"
   ]
  },
  {
   "cell_type": "markdown",
   "metadata": {},
   "source": [
    "### State reference data"
   ]
  },
  {
   "cell_type": "code",
   "execution_count": 89,
   "metadata": {},
   "outputs": [],
   "source": [
    "# Get data\n",
    "state_ref_data = getS3Data('covid19-lake', 'static-datasets/csv/state-abv/states_abv.csv')\n",
    "\n",
    "# Rename columns\n",
    "state_ref_data.columns = ['state_name','state_code']"
   ]
  },
  {
   "cell_type": "markdown",
   "metadata": {},
   "source": [
    "### Safegraph Open Census Data\n",
    "* See notebook: safe_graph_census_data_explore.ipynb"
   ]
  },
  {
   "cell_type": "code",
   "execution_count": 90,
   "metadata": {},
   "outputs": [
    {
     "data": {
      "text/html": [
       "<div>\n",
       "<style scoped>\n",
       "    .dataframe tbody tr th:only-of-type {\n",
       "        vertical-align: middle;\n",
       "    }\n",
       "\n",
       "    .dataframe tbody tr th {\n",
       "        vertical-align: top;\n",
       "    }\n",
       "\n",
       "    .dataframe thead th {\n",
       "        text-align: right;\n",
       "    }\n",
       "</style>\n",
       "<table border=\"1\" class=\"dataframe\">\n",
       "  <thead>\n",
       "    <tr style=\"text-align: right;\">\n",
       "      <th></th>\n",
       "      <th>fips_code</th>\n",
       "      <th>pop_total</th>\n",
       "      <th>m_total</th>\n",
       "      <th>m_0_5</th>\n",
       "      <th>m_5_9</th>\n",
       "      <th>m_10_14</th>\n",
       "      <th>m_15_17</th>\n",
       "      <th>m_18_19</th>\n",
       "      <th>m_20_20</th>\n",
       "      <th>m_21_21</th>\n",
       "      <th>...</th>\n",
       "      <th>pir_100_124</th>\n",
       "      <th>pir_125_149</th>\n",
       "      <th>pir_150_184</th>\n",
       "      <th>pir_185_199</th>\n",
       "      <th>pir_200_plus</th>\n",
       "      <th>unins_total</th>\n",
       "      <th>unins_0_18</th>\n",
       "      <th>unins_18_34</th>\n",
       "      <th>unins_35_64</th>\n",
       "      <th>unins_65_plus</th>\n",
       "    </tr>\n",
       "  </thead>\n",
       "  <tbody>\n",
       "    <tr>\n",
       "      <th>0</th>\n",
       "      <td>10001</td>\n",
       "      <td>171474</td>\n",
       "      <td>82687</td>\n",
       "      <td>5678</td>\n",
       "      <td>5534</td>\n",
       "      <td>5951</td>\n",
       "      <td>3443</td>\n",
       "      <td>2578</td>\n",
       "      <td>1766</td>\n",
       "      <td>1402</td>\n",
       "      <td>...</td>\n",
       "      <td>8497</td>\n",
       "      <td>7747</td>\n",
       "      <td>12205</td>\n",
       "      <td>4637</td>\n",
       "      <td>111052</td>\n",
       "      <td>168146</td>\n",
       "      <td>2032</td>\n",
       "      <td>5260</td>\n",
       "      <td>5498</td>\n",
       "      <td>270</td>\n",
       "    </tr>\n",
       "    <tr>\n",
       "      <th>1</th>\n",
       "      <td>10003</td>\n",
       "      <td>551997</td>\n",
       "      <td>267276</td>\n",
       "      <td>16832</td>\n",
       "      <td>16455</td>\n",
       "      <td>17992</td>\n",
       "      <td>10852</td>\n",
       "      <td>8324</td>\n",
       "      <td>3766</td>\n",
       "      <td>4164</td>\n",
       "      <td>...</td>\n",
       "      <td>16301</td>\n",
       "      <td>19718</td>\n",
       "      <td>28021</td>\n",
       "      <td>10523</td>\n",
       "      <td>399898</td>\n",
       "      <td>543604</td>\n",
       "      <td>4448</td>\n",
       "      <td>15617</td>\n",
       "      <td>16662</td>\n",
       "      <td>971</td>\n",
       "    </tr>\n",
       "  </tbody>\n",
       "</table>\n",
       "<p>2 rows × 139 columns</p>\n",
       "</div>"
      ],
      "text/plain": [
       "  fips_code  pop_total  m_total  m_0_5  m_5_9  m_10_14  m_15_17  m_18_19  \\\n",
       "0     10001     171474    82687   5678   5534     5951     3443     2578   \n",
       "1     10003     551997   267276  16832  16455    17992    10852     8324   \n",
       "\n",
       "   m_20_20  m_21_21  ...  pir_100_124  pir_125_149  pir_150_184  pir_185_199  \\\n",
       "0     1766     1402  ...         8497         7747        12205         4637   \n",
       "1     3766     4164  ...        16301        19718        28021        10523   \n",
       "\n",
       "   pir_200_plus  unins_total  unins_0_18  unins_18_34  unins_35_64  \\\n",
       "0        111052       168146        2032         5260         5498   \n",
       "1        399898       543604        4448        15617        16662   \n",
       "\n",
       "   unins_65_plus  \n",
       "0            270  \n",
       "1            971  \n",
       "\n",
       "[2 rows x 139 columns]"
      ]
     },
     "execution_count": 90,
     "metadata": {},
     "output_type": "execute_result"
    }
   ],
   "source": [
    "with open('safegraph_census.p', 'rb') as f:\n",
    "    safegraph_census_data = pickle.load(f)\n",
    "\n",
    "safegraph_census_data.head(2)"
   ]
  },
  {
   "cell_type": "code",
   "execution_count": 91,
   "metadata": {},
   "outputs": [
    {
     "data": {
      "text/plain": [
       "0"
      ]
     },
     "execution_count": 91,
     "metadata": {},
     "output_type": "execute_result"
    }
   ],
   "source": [
    "# Check for duplicates\n",
    "safegraph_census_data.drop_duplicates(subset='fips_code', keep='first').shape[0]-safegraph_census_data.shape[0]"
   ]
  },
  {
   "cell_type": "markdown",
   "metadata": {},
   "source": [
    "#### FIPS Reference Data"
   ]
  },
  {
   "cell_type": "code",
   "execution_count": 92,
   "metadata": {},
   "outputs": [],
   "source": [
    "# Get data\n",
    "with open('safegraph_ref_data_fips.p', 'rb') as f:\n",
    "    safegraph_ref_data_fips = pickle.load(f)\n",
    "\n",
    "# Create state_county concatenation for lookup on google mobility data\n"
   ]
  },
  {
   "cell_type": "markdown",
   "metadata": {},
   "source": [
    "#### Land area"
   ]
  },
  {
   "cell_type": "code",
   "execution_count": 93,
   "metadata": {},
   "outputs": [],
   "source": [
    "# Get data\n",
    "with open('safegraph_land.p', 'rb') as f:\n",
    "    safegraph_land = pickle.load(f)"
   ]
  },
  {
   "cell_type": "code",
   "execution_count": 94,
   "metadata": {},
   "outputs": [
    {
     "data": {
      "text/html": [
       "<div>\n",
       "<style scoped>\n",
       "    .dataframe tbody tr th:only-of-type {\n",
       "        vertical-align: middle;\n",
       "    }\n",
       "\n",
       "    .dataframe tbody tr th {\n",
       "        vertical-align: top;\n",
       "    }\n",
       "\n",
       "    .dataframe thead th {\n",
       "        text-align: right;\n",
       "    }\n",
       "</style>\n",
       "<table border=\"1\" class=\"dataframe\">\n",
       "  <thead>\n",
       "    <tr style=\"text-align: right;\">\n",
       "      <th></th>\n",
       "      <th>fips_code</th>\n",
       "      <th>amount_land</th>\n",
       "      <th>amount_water</th>\n",
       "    </tr>\n",
       "  </thead>\n",
       "  <tbody>\n",
       "    <tr>\n",
       "      <th>0</th>\n",
       "      <td>01001</td>\n",
       "      <td>1539609015</td>\n",
       "      <td>25749942</td>\n",
       "    </tr>\n",
       "    <tr>\n",
       "      <th>1</th>\n",
       "      <td>01003</td>\n",
       "      <td>4117584019</td>\n",
       "      <td>1133130502</td>\n",
       "    </tr>\n",
       "  </tbody>\n",
       "</table>\n",
       "</div>"
      ],
      "text/plain": [
       "  fips_code  amount_land  amount_water\n",
       "0     01001   1539609015      25749942\n",
       "1     01003   4117584019    1133130502"
      ]
     },
     "execution_count": 94,
     "metadata": {},
     "output_type": "execute_result"
    }
   ],
   "source": [
    "safegraph_land = safegraph_land.rename(columns={\"fips\":\"fips_code\"})\n",
    "safegraph_land.head(2)"
   ]
  },
  {
   "cell_type": "markdown",
   "metadata": {},
   "source": [
    "## COVID Cases and Deaths Timeseries Data"
   ]
  },
  {
   "cell_type": "markdown",
   "metadata": {},
   "source": [
    "### Enigma Aggregation"
   ]
  },
  {
   "cell_type": "markdown",
   "metadata": {},
   "source": [
    "#### Download data and cleanup"
   ]
  },
  {
   "cell_type": "code",
   "execution_count": 95,
   "metadata": {},
   "outputs": [],
   "source": [
    "# Get data\n",
    "enigma_agg_data = getS3Data('covid19-lake', 'enigma-aggregation/csv/us_counties/enigma_covid_19_us_counties.csv')"
   ]
  },
  {
   "cell_type": "code",
   "execution_count": 96,
   "metadata": {},
   "outputs": [
    {
     "name": "stdout",
     "output_type": "stream",
     "text": [
      "Shape:  (197596, 10)\n",
      "Case control total:  67961951.0\n",
      "Death control total:  3809028.0\n"
     ]
    }
   ],
   "source": [
    "# Clean up\n",
    "enigma_agg_data = dataCleanUp(enigma_agg_data, 'date', 'county_fips', 'cases','deaths','_ea')"
   ]
  },
  {
   "cell_type": "code",
   "execution_count": 97,
   "metadata": {},
   "outputs": [],
   "source": [
    "# Change a few fips codes\n",
    "enigma_agg_data['fips_code'] = enigma_agg_data['county_fips_ea']\n",
    "enigma_agg_data.loc[enigma_agg_data['fips_code'] == '00nan', 'fips_code'] = '00000'"
   ]
  },
  {
   "cell_type": "code",
   "execution_count": 98,
   "metadata": {},
   "outputs": [],
   "source": [
    "# Attach 2 digit state code from state fips code\n",
    "tmp_state = safegraph_ref_data_fips.groupby(['state_fips','state']).size().reset_index().rename(columns={0:'count'})\n",
    "enigma_agg_data['state_fips_ea'] = enigma_agg_data['state_fips_ea'].astype('str').apply(lambda x: x.zfill(2))\n",
    "\n",
    "lefton = ['state_fips_ea']\n",
    "righton = ['state_fips']\n",
    "\n",
    "enigma_agg_data = pd.merge(enigma_agg_data, tmp_state[['state_fips','state']], how='left', left_on=lefton, right_on=righton)\n",
    "\n",
    "enigma_agg_data['state_code'] = enigma_agg_data['state']\n",
    "enigma_agg_data['state_name'] = enigma_agg_data['state_name_ea']\n",
    "\n",
    "enigma_agg_data = enigma_agg_data.drop(columns=['state', 'state_fips'])"
   ]
  },
  {
   "cell_type": "markdown",
   "metadata": {},
   "source": [
    "#### Checks"
   ]
  },
  {
   "cell_type": "code",
   "execution_count": 99,
   "metadata": {},
   "outputs": [
    {
     "name": "stdout",
     "output_type": "stream",
     "text": [
      "Dataframe Shape:  (197596, 14)\n",
      "Number of States:  55\n",
      "Number of Counties:  2967\n",
      "Minimum Date:  2020-01-21 00:00:00\n",
      "Maximum Date:  2020-06-01 00:00:00\n",
      "Duplicate State-Fips-Date:  0\n",
      "Null State Code:  0\n",
      "Null County Code:  0\n",
      "Null Dates:  0\n",
      "Case Control Total:  67961951.0\n",
      "Death Control Total:  3809028.0\n"
     ]
    }
   ],
   "source": [
    "getDataInfo(enigma_agg_data, 'cases_ea', 'deaths_ea')"
   ]
  },
  {
   "cell_type": "markdown",
   "metadata": {},
   "source": [
    "### Enigma Johns Hopkins University"
   ]
  },
  {
   "cell_type": "markdown",
   "metadata": {},
   "source": [
    "#### Download data and basic summary"
   ]
  },
  {
   "cell_type": "code",
   "execution_count": 100,
   "metadata": {},
   "outputs": [],
   "source": [
    "# NEED TO CHANGE FUNCTION TO , dtype=str and then add some typing logic\n",
    "### THIS SECTION NEEDS FIXING - they just removed the csv!\n",
    "#enigma_jh_data = getS3Data('covid19-lake', 'enigma-jhu-timeseries/csv/jhu_csse_covid_19_timeseries_merged.csv')"
   ]
  },
  {
   "cell_type": "code",
   "execution_count": 101,
   "metadata": {},
   "outputs": [],
   "source": [
    "# Filter to only US\n",
    "# enigma_jh_data = enigma_jh_data[enigma_jh_data['iso2']=='US']"
   ]
  },
  {
   "cell_type": "code",
   "execution_count": 102,
   "metadata": {},
   "outputs": [],
   "source": [
    "#enigma_jh_data = dataCleanUp(enigma_jh_data, 'date', 'fips', 'confirmed', 'deaths', '_ejhu')"
   ]
  },
  {
   "cell_type": "code",
   "execution_count": 103,
   "metadata": {},
   "outputs": [],
   "source": [
    "# Create clean fips_code\n",
    "#enigma_jh_data['fips_code'] = enigma_jh_data['fips_ejhu']\n",
    "#enigma_jh_data.loc[enigma_jh_data['admin2_ejhu'].isin(jh_unknown_fips_counties), 'fips_code'] = '00000'"
   ]
  },
  {
   "cell_type": "code",
   "execution_count": 104,
   "metadata": {},
   "outputs": [],
   "source": [
    "# Add \"Out of XX\" counties to \"Unknown\"\n",
    "#jh_unknown_fips_counties = ['Out of AL', 'Out of AK',\n",
    "#       'Out of AZ', 'Out of AR', 'Out of CA', 'Out of CO', 'Out of CT',\n",
    "#       'Out of DE', 'Out of DC', 'Out of FL', 'Out of GA', 'Out of HI',\n",
    "#       'Out of ID', 'Out of IL', 'Out of IN', 'Out of IA', 'Out of KS',\n",
    "#       'Out of KY', 'Out of LA', 'Out of ME', 'Out of MD', 'Out of MA',\n",
    "#       'Out of MI', 'Out of MN', 'Out of MS', 'Out of MO', 'Out of MT',\n",
    "#       'Out of NE', 'Out of NV', 'Out of NH', 'Out of NJ', 'Out of NM',\n",
    "#       'Out of NY', 'Out of NC', 'Out of ND', 'Out of OH', 'Out of OK',\n",
    "#       'Out of OR', 'Out of PA', 'Out of RI', 'Out of SC', 'Out of SD',\n",
    "#       'Out of TN', 'Out of TX', 'Out of UT', 'Out of VT', 'Out of VA',\n",
    "#       'Out of WA', 'Out of WV', 'Out of WI', 'Out of WY']\n",
    "#enigma_jh_data.loc[enigma_jh_data['admin2_ejhu'].isin(jh_unknown_fips_counties), 'fips_code'] = '00000'"
   ]
  },
  {
   "cell_type": "code",
   "execution_count": 105,
   "metadata": {},
   "outputs": [],
   "source": [
    "#enigma_jh_data.loc[enigma_jh_data['admin2_ejhu']=='Dukes and Nantucket', 'fips_code'] = 'n0001'\n",
    "#enigma_jh_data.loc[enigma_jh_data['admin2_ejhu']=='Kansas City', 'fips_code'] = 'n0002'\n",
    "#enigma_jh_data.loc[enigma_jh_data['admin2_ejhu']=='Michigan Department of Corrections (MDOC)', 'fips_code'] = 'n0003'\n",
    "#enigma_jh_data.loc[enigma_jh_data['admin2_ejhu']=='Federal Correctional Institution (FCI)','fips_code'] = 'n0004'\n",
    "#enigma_jh_data.loc[enigma_jh_data['admin2_ejhu']=='Bear River', 'fips_code'] = 'n0005'\n",
    "#enigma_jh_data.loc[enigma_jh_data['admin2_ejhu']=='Central Utah', 'fips_code'] = 'n0006'\n",
    "#enigma_jh_data.loc[enigma_jh_data['admin2_ejhu']=='Southeast Utah', 'fips_code'] = 'n0007'\n",
    "#enigma_jh_data.loc[enigma_jh_data['admin2_ejhu']=='Southwest Utah', 'fips_code'] = 'n0008'\n",
    "#enigma_jh_data.loc[enigma_jh_data['admin2_ejhu']=='TriCounty', 'fips_code'] = 'n0009'\n",
    "#enigma_jh_data.loc[enigma_jh_data['admin2_ejhu']=='Weber-Morgan', 'fips_code'] = 'n0010'"
   ]
  },
  {
   "cell_type": "code",
   "execution_count": 106,
   "metadata": {},
   "outputs": [],
   "source": [
    "#lefton = ['province_state_ejhu']\n",
    "#righton = ['state_name']\n",
    "\n",
    "#enigma_jh_data = pd.merge(\n",
    "#    enigma_jh_data, state_ref_data, \n",
    "#    how='left', left_on=lefton, right_on=righton)"
   ]
  },
  {
   "cell_type": "code",
   "execution_count": 107,
   "metadata": {},
   "outputs": [],
   "source": [
    "#enigma_jh_data.loc[enigma_jh_data['province_state_ejhu']=='Diamond Princess', 'state_code'] = 'CA'\n",
    "#enigma_jh_data.loc[enigma_jh_data['province_state_ejhu']=='Grand Princess', 'state_code'] = 'CA'\n",
    "\n",
    "#enigma_jh_data.loc[enigma_jh_data['province_state_ejhu']=='Diamond Princess', 'state_name'] = 'California'\n",
    "#enigma_jh_data.loc[enigma_jh_data['province_state_ejhu']=='Grand Princess', 'state_name'] = 'California'"
   ]
  },
  {
   "cell_type": "code",
   "execution_count": 108,
   "metadata": {},
   "outputs": [],
   "source": [
    "#enigma_jh_data['date'] = enigma_jh_data['date_ejhu']"
   ]
  },
  {
   "cell_type": "code",
   "execution_count": 109,
   "metadata": {},
   "outputs": [],
   "source": [
    "#enigma_jh_data.head(2)"
   ]
  },
  {
   "cell_type": "markdown",
   "metadata": {},
   "source": [
    "#### Checks"
   ]
  },
  {
   "cell_type": "code",
   "execution_count": 110,
   "metadata": {},
   "outputs": [],
   "source": [
    "#getDataInfo(enigma_jh_data, 'confirmed_ejhu', 'deaths_ejhu')"
   ]
  },
  {
   "cell_type": "markdown",
   "metadata": {},
   "source": [
    "### Enigma New York Times"
   ]
  },
  {
   "cell_type": "markdown",
   "metadata": {},
   "source": [
    "#### Download data and clean data"
   ]
  },
  {
   "cell_type": "code",
   "execution_count": 111,
   "metadata": {},
   "outputs": [],
   "source": [
    "# Get data\n",
    "enigma_nyt_data = getS3Data('covid19-lake', 'enigma-nytimes-data-in-usa/csv/us_county/us_county.csv')"
   ]
  },
  {
   "cell_type": "code",
   "execution_count": 112,
   "metadata": {},
   "outputs": [
    {
     "name": "stdout",
     "output_type": "stream",
     "text": [
      "Shape:  (129747, 6)\n",
      "Case control total:  31616769.0\n",
      "Death control total:  1652495.0\n"
     ]
    }
   ],
   "source": [
    "# Clean up\n",
    "enigma_nyt_data = dataCleanUp(enigma_nyt_data, 'date', 'fips', 'cases','deaths','_enyt')"
   ]
  },
  {
   "cell_type": "code",
   "execution_count": 113,
   "metadata": {},
   "outputs": [],
   "source": [
    "# Fix Fips codes\n",
    "enigma_nyt_data['fips_code'] = enigma_nyt_data['fips_enyt']\n",
    "enigma_nyt_data.loc[enigma_nyt_data['county_enyt']=='New York City', 'fips_code'] = 'NYC000'\n",
    "enigma_nyt_data.loc[enigma_nyt_data['county_enyt']=='New York City', 'fips_code'] = 'KC0000'\n",
    "enigma_nyt_data.loc[enigma_nyt_data['county_enyt']=='Unknown', 'fips_code'] = '00000'"
   ]
  },
  {
   "cell_type": "code",
   "execution_count": 114,
   "metadata": {},
   "outputs": [],
   "source": [
    "# Add state\n",
    "lefton = ['state_enyt']\n",
    "righton = ['state_name']\n",
    "\n",
    "enigma_nyt_data = pd.merge(\n",
    "    enigma_nyt_data, state_ref_data, \n",
    "    how='left', left_on=lefton, right_on=righton)"
   ]
  },
  {
   "cell_type": "code",
   "execution_count": 115,
   "metadata": {},
   "outputs": [],
   "source": [
    "# Fix for extra states\n",
    "enigma_nyt_data.loc[enigma_nyt_data['state_enyt']=='Puerto Rico', 'state_code'] = 'PR'\n",
    "enigma_nyt_data.loc[enigma_nyt_data['state_enyt']=='Virgin Islands', 'state_code'] = 'VI'\n",
    "enigma_nyt_data.loc[enigma_nyt_data['state_enyt']=='Guam', 'state_code'] = 'GU'\n",
    "enigma_nyt_data.loc[enigma_nyt_data['state_enyt']=='Northern Mariana Islands', 'state_code'] = 'MP'\n",
    "\n",
    "enigma_nyt_data.loc[enigma_nyt_data['state_enyt']=='Puerto Rico', 'state_name'] = 'Puerto Rico'\n",
    "enigma_nyt_data.loc[enigma_nyt_data['state_enyt']=='Virgin Islands', 'state_name'] = 'Virgin Islands'\n",
    "enigma_nyt_data.loc[enigma_nyt_data['state_enyt']=='Guam', 'state_name'] = 'Guam'\n",
    "enigma_nyt_data.loc[enigma_nyt_data['state_enyt']=='Northern Mariana Islands', 'state_name'] = 'Northern Mariana Islands'"
   ]
  },
  {
   "cell_type": "markdown",
   "metadata": {},
   "source": [
    "#### Checks"
   ]
  },
  {
   "cell_type": "code",
   "execution_count": 116,
   "metadata": {},
   "outputs": [
    {
     "name": "stdout",
     "output_type": "stream",
     "text": [
      "Dataframe Shape:  (129747, 10)\n",
      "Number of States:  55\n",
      "Number of Counties:  2885\n",
      "Minimum Date:  2020-01-21 00:00:00\n",
      "Maximum Date:  2020-05-09 00:00:00\n",
      "Duplicate State-Fips-Date:  0\n",
      "Null State Code:  0\n",
      "Null County Code:  0\n",
      "Null Dates:  0\n",
      "Case Control Total:  31616769.0\n",
      "Death Control Total:  1652495.0\n"
     ]
    }
   ],
   "source": [
    "getDataInfo(enigma_nyt_data, 'cases_enyt', 'deaths_enyt')"
   ]
  },
  {
   "cell_type": "markdown",
   "metadata": {},
   "source": [
    "### Rearc New York Times"
   ]
  },
  {
   "cell_type": "markdown",
   "metadata": {},
   "source": [
    "#### Download data and basic summary"
   ]
  },
  {
   "cell_type": "code",
   "execution_count": 117,
   "metadata": {},
   "outputs": [],
   "source": [
    "# Get data\n",
    "rearc_nyt_data = getS3Data('covid19-lake', 'rearc-covid-19-nyt-data-in-usa/csv/us-counties/us-counties.csv')"
   ]
  },
  {
   "cell_type": "code",
   "execution_count": 118,
   "metadata": {},
   "outputs": [
    {
     "name": "stdout",
     "output_type": "stream",
     "text": [
      "Shape:  (197596, 6)\n",
      "Case control total:  67961951.0\n",
      "Death control total:  3809028.0\n"
     ]
    }
   ],
   "source": [
    "# Clean up\n",
    "rearc_nyt_data = dataCleanUp(rearc_nyt_data, 'date', 'fips', 'cases','deaths','_rnyt')"
   ]
  },
  {
   "cell_type": "code",
   "execution_count": 119,
   "metadata": {},
   "outputs": [],
   "source": [
    "# Edit fips codes\n",
    "rearc_nyt_data['fips_code'] = rearc_nyt_data['fips_rnyt']\n",
    "rearc_nyt_data.loc[rearc_nyt_data['county_rnyt']=='New York City', 'fips_code'] = 'NYC000'\n",
    "rearc_nyt_data.loc[rearc_nyt_data['county_rnyt']=='New York City', 'fips_code'] = 'KC0000'\n",
    "rearc_nyt_data.loc[rearc_nyt_data['county_rnyt']=='Unknown', 'fips_code'] = '00000'"
   ]
  },
  {
   "cell_type": "code",
   "execution_count": 120,
   "metadata": {},
   "outputs": [],
   "source": [
    "# Attach state code\n",
    "lefton = ['state_rnyt']\n",
    "righton = ['state_name']\n",
    "\n",
    "rearc_nyt_data = pd.merge(\n",
    "    rearc_nyt_data, state_ref_data, \n",
    "    how='left', left_on=lefton, right_on=righton)"
   ]
  },
  {
   "cell_type": "code",
   "execution_count": 121,
   "metadata": {},
   "outputs": [],
   "source": [
    "# Add some states codes and names\n",
    "\n",
    "rearc_nyt_data.loc[rearc_nyt_data['state_rnyt']=='Puerto Rico', 'state_code'] = 'PR'\n",
    "rearc_nyt_data.loc[rearc_nyt_data['state_rnyt']=='Virgin Islands', 'state_code'] = 'VI'\n",
    "rearc_nyt_data.loc[rearc_nyt_data['state_rnyt']=='Guam', 'state_code'] = 'GU'\n",
    "rearc_nyt_data.loc[rearc_nyt_data['state_rnyt']=='Northern Mariana Islands', 'state_code'] = 'MP'\n",
    "\n",
    "rearc_nyt_data.loc[rearc_nyt_data['state_rnyt']=='Puerto Rico', 'state_name'] = 'Puerto Rico'\n",
    "rearc_nyt_data.loc[rearc_nyt_data['state_rnyt']=='Virgin Islands', 'state_name'] = 'Virgin Islands'\n",
    "rearc_nyt_data.loc[rearc_nyt_data['state_rnyt']=='Guam', 'state_name'] = 'Guam'\n",
    "rearc_nyt_data.loc[rearc_nyt_data['state_rnyt']=='Northern Mariana Islands', 'state_name'] = 'Northern Mariana Islands'"
   ]
  },
  {
   "cell_type": "markdown",
   "metadata": {},
   "source": [
    "#### Checks"
   ]
  },
  {
   "cell_type": "code",
   "execution_count": 122,
   "metadata": {},
   "outputs": [
    {
     "name": "stdout",
     "output_type": "stream",
     "text": [
      "Dataframe Shape:  (197596, 10)\n",
      "Number of States:  55\n",
      "Number of Counties:  2969\n",
      "Minimum Date:  2020-01-21 00:00:00\n",
      "Maximum Date:  2020-06-01 00:00:00\n",
      "Duplicate State-Fips-Date:  0\n",
      "Null State Code:  0\n",
      "Null County Code:  0\n",
      "Null Dates:  0\n",
      "Case Control Total:  67961951.0\n",
      "Death Control Total:  3809028.0\n"
     ]
    }
   ],
   "source": [
    "getDataInfo(rearc_nyt_data, 'cases_rnyt','deaths_rnyt')"
   ]
  },
  {
   "cell_type": "markdown",
   "metadata": {},
   "source": [
    "### USA Facts (CDC Affiliate)"
   ]
  },
  {
   "cell_type": "markdown",
   "metadata": {},
   "source": [
    "#### Download data and basic summary"
   ]
  },
  {
   "cell_type": "code",
   "execution_count": 123,
   "metadata": {},
   "outputs": [],
   "source": [
    "# Download the data\n",
    "url=\"https://usafactsstatic.blob.core.windows.net/public/data/covid-19/covid_confirmed_usafacts.csv\"\n",
    "data_confirmed = pd.read_csv(url)"
   ]
  },
  {
   "cell_type": "code",
   "execution_count": 124,
   "metadata": {},
   "outputs": [],
   "source": [
    "# Download the data\n",
    "url = \"https://usafactsstatic.blob.core.windows.net/public/data/covid-19/covid_deaths_usafacts.csv\"\n",
    "data_deaths = pd.read_csv(url)"
   ]
  },
  {
   "cell_type": "code",
   "execution_count": 125,
   "metadata": {},
   "outputs": [],
   "source": [
    "# Download the data\n",
    "url = \"https://usafactsstatic.blob.core.windows.net/public/data/covid-19/covid_county_population_usafacts.csv\"\n",
    "data_county_pop = pd.read_csv(url)"
   ]
  },
  {
   "cell_type": "code",
   "execution_count": 126,
   "metadata": {},
   "outputs": [],
   "source": [
    "# Move the date column headers into a single column as rows\n",
    "data_confirmed = data_confirmed.melt(\n",
    "    id_vars=['countyFIPS','County Name','State','stateFIPS'], \n",
    "    var_name='Date', value_name='Confirmed')\n",
    "\n",
    "data_deaths = data_deaths.melt(\n",
    "    id_vars=['countyFIPS','County Name','State','stateFIPS'], \n",
    "    var_name='Date', value_name='Deaths')"
   ]
  },
  {
   "cell_type": "code",
   "execution_count": 127,
   "metadata": {},
   "outputs": [],
   "source": [
    "# Join the raw tables together\n",
    "\n",
    "# Part 1\n",
    "lefton = ['countyFIPS', 'County Name', 'State', 'stateFIPS', 'Date']\n",
    "righton = ['countyFIPS', 'County Name', 'State', 'stateFIPS', 'Date']\n",
    "\n",
    "data = pd.merge(data_confirmed, data_deaths, how='left', left_on=lefton, right_on=righton)\n",
    "\n",
    "# Part 2\n",
    "lefton = ['countyFIPS', 'County Name', 'State']\n",
    "righton = ['countyFIPS', 'County Name', 'State']\n",
    "\n",
    "usafacts_cdc_data = pd.merge(data, data_county_pop, how='left', left_on=lefton, right_on=righton)"
   ]
  },
  {
   "cell_type": "code",
   "execution_count": 128,
   "metadata": {},
   "outputs": [
    {
     "name": "stdout",
     "output_type": "stream",
     "text": [
      "Shape:  (421740, 8)\n",
      "Case control total:  67241604.0\n",
      "Death control total:  3754779.0\n"
     ]
    }
   ],
   "source": [
    "# Clean up\n",
    "usafacts_cdc_data = dataCleanUp(usafacts_cdc_data, 'Date', 'countyFIPS', 'Confirmed','Deaths','_cdc')"
   ]
  },
  {
   "cell_type": "code",
   "execution_count": 129,
   "metadata": {},
   "outputs": [],
   "source": [
    "# Fips code clean up\n",
    "usafacts_cdc_data['fips_code'] = usafacts_cdc_data['countyfips_cdc']\n",
    "usafacts_cdc_data.loc[(usafacts_cdc_data['county name_cdc']=='Grand Princess Cruise Ship'), 'fips_code'] = '99999'"
   ]
  },
  {
   "cell_type": "code",
   "execution_count": 130,
   "metadata": {},
   "outputs": [],
   "source": [
    "# State code\n",
    "usafacts_cdc_data['state_code'] = usafacts_cdc_data['state_cdc']"
   ]
  },
  {
   "cell_type": "code",
   "execution_count": 131,
   "metadata": {},
   "outputs": [],
   "source": [
    "# Attach State Name\n",
    "lefton = ['state_code']\n",
    "righton = ['state_code']\n",
    "\n",
    "usafacts_cdc_data = pd.merge(\n",
    "    usafacts_cdc_data, state_ref_data, \n",
    "    how='left', left_on=lefton, right_on=righton)"
   ]
  },
  {
   "cell_type": "markdown",
   "metadata": {},
   "source": [
    "#### Checks"
   ]
  },
  {
   "cell_type": "code",
   "execution_count": 132,
   "metadata": {},
   "outputs": [
    {
     "name": "stdout",
     "output_type": "stream",
     "text": [
      "Dataframe Shape:  (421740, 12)\n",
      "Number of States:  51\n",
      "Number of Counties:  3146\n",
      "Minimum Date:  2020-01-22 00:00:00\n",
      "Maximum Date:  2020-06-01 00:00:00\n",
      "Duplicate State-Fips-Date:  0\n",
      "Null State Code:  0\n",
      "Null County Code:  0\n",
      "Null Dates:  0\n",
      "Case Control Total:  67241604.0\n",
      "Death Control Total:  3754779.0\n"
     ]
    }
   ],
   "source": [
    "getDataInfo(usafacts_cdc_data, 'confirmed_cdc','deaths_cdc')"
   ]
  },
  {
   "cell_type": "markdown",
   "metadata": {},
   "source": [
    "### Google Mobility Data"
   ]
  },
  {
   "cell_type": "markdown",
   "metadata": {},
   "source": [
    "#### Download data"
   ]
  },
  {
   "cell_type": "code",
   "execution_count": 133,
   "metadata": {},
   "outputs": [],
   "source": [
    "# Get data\n",
    "url = \"https://www.gstatic.com/covid19/mobility/Global_Mobility_Report.csv?cachebust=57b4ac4fc4052\"\n",
    "data = pd.read_csv(url, dtype=str)"
   ]
  },
  {
   "cell_type": "code",
   "execution_count": 134,
   "metadata": {},
   "outputs": [],
   "source": [
    "# Clean up\n",
    "data = data[data['country_region_code'] == 'US']\n",
    "data['date'] = data['date'].astype('datetime64')\n",
    "google_data = data"
   ]
  },
  {
   "cell_type": "markdown",
   "metadata": {},
   "source": [
    "#### State Level Table"
   ]
  },
  {
   "cell_type": "code",
   "execution_count": 135,
   "metadata": {},
   "outputs": [],
   "source": [
    "# Create state table\n",
    "google_state_data = google_data[\n",
    "    (google_data['sub_region_1'].notnull()) &\n",
    "    (~google_data['sub_region_2'].notnull())\n",
    "]\n",
    "google_state_data = google_state_data.add_suffix(\"_goog_st\")"
   ]
  },
  {
   "cell_type": "code",
   "execution_count": 136,
   "metadata": {},
   "outputs": [],
   "source": [
    "# Add state_code\n",
    "lefton = ['sub_region_1_goog_st']\n",
    "righton = ['state_name']\n",
    "\n",
    "google_state_data = pd.merge(\n",
    "    google_state_data, state_ref_data, \n",
    "    how='left', left_on=lefton, right_on=righton)"
   ]
  },
  {
   "cell_type": "code",
   "execution_count": 137,
   "metadata": {},
   "outputs": [],
   "source": [
    "# Drop columns not needed\n",
    "google_state_data['date'] = google_state_data['date_goog_st']\n",
    "google_state_data = google_state_data.drop(columns=\n",
    "                                             ['country_region_code_goog_st',\n",
    "                                              'country_region_goog_st', 'sub_region_1_goog_st','sub_region_2_goog_st',\n",
    "                                              'date_goog_st','state_name'])"
   ]
  },
  {
   "cell_type": "markdown",
   "metadata": {},
   "source": [
    "#### County Level Table"
   ]
  },
  {
   "cell_type": "code",
   "execution_count": 138,
   "metadata": {},
   "outputs": [],
   "source": [
    "# Create county table\n",
    "google_county_data = google_data[\n",
    "    (google_data['sub_region_1'].notnull()) &\n",
    "    (google_data['sub_region_2'].notnull())\n",
    "]\n",
    "google_county_data = google_county_data.add_suffix(\"_goog_cnty\")"
   ]
  },
  {
   "cell_type": "code",
   "execution_count": 139,
   "metadata": {},
   "outputs": [],
   "source": [
    "# Add state code\n",
    "lefton = ['sub_region_1_goog_cnty']\n",
    "righton = ['state_name']\n",
    "\n",
    "google_county_data = pd.merge(\n",
    "    google_county_data, state_ref_data, \n",
    "    how='left', left_on=lefton, right_on=righton)"
   ]
  },
  {
   "cell_type": "code",
   "execution_count": 140,
   "metadata": {},
   "outputs": [],
   "source": [
    "# Create state_county concatenation\n",
    "google_county_data['state_county'] = google_county_data['state_code'] + google_county_data['sub_region_2_goog_cnty']"
   ]
  },
  {
   "cell_type": "code",
   "execution_count": 141,
   "metadata": {},
   "outputs": [],
   "source": [
    "# Manual state-county name fixes\n",
    "google_county_data.loc[google_county_data['state_county']=='AKAnchorage', 'state_county'] = 'AKAnchorage Municipality'\n",
    "google_county_data.loc[google_county_data['state_county']=='AKBethel', 'state_county'] = 'AKBethel Census Area'\n",
    "google_county_data.loc[google_county_data['state_county']=='AKFairbanks North Star', 'state_county'] = 'AKFairbanks North Star Borough'\n",
    "google_county_data.loc[google_county_data['state_county']=='AKJuneau', 'state_county'] = 'AKJuneau City and Borough'\n",
    "google_county_data.loc[google_county_data['state_county']=='AKKetchikan Gateway', 'state_county'] = 'AKKetchikan Gateway Borough'\n",
    "google_county_data.loc[google_county_data['state_county']=='AKKodiak Island', 'state_county'] = 'AKKodiak Island Borough'\n",
    "google_county_data.loc[google_county_data['state_county']=='AKMatanuska-Susitna', 'state_county'] = 'AKMatanuska-Susitna Borough'\n",
    "google_county_data.loc[google_county_data['state_county']=='AKNorth Slope', 'state_county'] = 'AKNorth Slope Borough'\n",
    "google_county_data.loc[google_county_data['state_county']=='AKSitka', 'state_county'] = 'AKSitka City and Borough'\n",
    "google_county_data.loc[google_county_data['state_county']=='AKSoutheast Fairbanks', 'state_county'] = 'AKSoutheast Fairbanks Census Area'\n",
    "google_county_data.loc[google_county_data['state_county']=='AKValdez-Cordova', 'state_county'] = 'AKValdez-Cordova Census Area'\n",
    "google_county_data.loc[google_county_data['state_county']=='MDBaltimore', 'state_county'] = 'MDBaltimore city'\n",
    "\n",
    "google_county_data.loc[google_county_data['state_county']=='MOSt. Louis', 'state_county'] = 'MOSt. Louis city'\n",
    "google_county_data.loc[google_county_data['state_county']=='NMDoña Ana County', 'state_county'] = 'NMDona Ana County'\n",
    "google_county_data.loc[google_county_data['state_county']=='VAAlexandria', 'state_county'] = 'VAAlexandria city'\n",
    "google_county_data.loc[google_county_data['state_county']=='VABristol', 'state_county'] = 'VABristol city'\n",
    "google_county_data.loc[google_county_data['state_county']=='VABuena Vista', 'state_county'] = 'VABuena Vista city'\n",
    "google_county_data.loc[google_county_data['state_county']=='VACharlottesville', 'state_county'] = 'VACharlottesville city'\n",
    "google_county_data.loc[google_county_data['state_county']=='VAChesapeake', 'state_county'] = 'VAChesapeake city'\n",
    "google_county_data.loc[google_county_data['state_county']=='VAColonial Heights', 'state_county'] = 'VAColonial Heights city'\n",
    "google_county_data.loc[google_county_data['state_county']=='VACovington', 'state_county'] = 'VACovington city'\n",
    "\n",
    "google_county_data.loc[google_county_data['state_county']=='VADanville', 'state_county'] = 'VADanville city'\n",
    "google_county_data.loc[google_county_data['state_county']=='VAEmporia', 'state_county'] = 'VAEmporia city'\n",
    "google_county_data.loc[google_county_data['state_county']=='VAFairfax', 'state_county'] = 'VAFairfax city'\n",
    "google_county_data.loc[google_county_data['state_county']=='VAFalls Church', 'state_county'] = 'VAFalls Church city'\n",
    "google_county_data.loc[google_county_data['state_county']=='VAFranklin', 'state_county'] = 'VAFranklin city'\n",
    "google_county_data.loc[google_county_data['state_county']=='VAFredericksburg', 'state_county'] = 'VAFredericksburg city'\n",
    "google_county_data.loc[google_county_data['state_county']=='VAGalax', 'state_county'] = 'VAGalax city'\n",
    "google_county_data.loc[google_county_data['state_county']=='VAHampton', 'state_county'] = 'VAHampton city'\n",
    "google_county_data.loc[google_county_data['state_county']=='VAHarrisonburg', 'state_county'] = 'VAHarrisonburg city'\n",
    "google_county_data.loc[google_county_data['state_county']=='VAHopewell', 'state_county'] = 'VAHopewell city'\n",
    "\n",
    "google_county_data.loc[google_county_data['state_county']=='VALexington', 'state_county'] = 'VALexington city'\n",
    "google_county_data.loc[google_county_data['state_county']=='VALynchburg', 'state_county'] = 'VALynchburg city'\n",
    "google_county_data.loc[google_county_data['state_county']=='VAManassas', 'state_county'] = 'VAManassas city'\n",
    "google_county_data.loc[google_county_data['state_county']=='VAManassas Park', 'state_county'] = 'VAManassas Park city'\n",
    "google_county_data.loc[google_county_data['state_county']=='VAMartinsville', 'state_county'] = 'VAMartinsville city'\n",
    "google_county_data.loc[google_county_data['state_county']=='VANewport News', 'state_county'] = 'VANewport News city'\n",
    "google_county_data.loc[google_county_data['state_county']=='VANorfolk', 'state_county'] = 'VANorfolk city'\n",
    "google_county_data.loc[google_county_data['state_county']=='VANorton', 'state_county'] = 'VANorton city'\n",
    "google_county_data.loc[google_county_data['state_county']=='VAPetersburg', 'state_county'] = 'VAPetersburg city'\n",
    "google_county_data.loc[google_county_data['state_county']=='VAPoquoson', 'state_county'] = 'VAPoquoson city'\n",
    "google_county_data.loc[google_county_data['state_county']=='VAPortsmouth', 'state_county'] = 'VAPortsmouth city'\n",
    "google_county_data.loc[google_county_data['state_county']=='VARadford', 'state_county'] = 'VARadford city'\n",
    "google_county_data.loc[google_county_data['state_county']=='VARichmond', 'state_county'] = 'VARichmond city'\n",
    "google_county_data.loc[google_county_data['state_county']=='VARoanoke', 'state_county'] = 'VARoanoke city'\n",
    "\n",
    "google_county_data.loc[google_county_data['state_county']=='VASalem', 'state_county'] = 'VASalem city'\n",
    "google_county_data.loc[google_county_data['state_county']=='VAStaunton', 'state_county'] = 'VAStaunton city'\n",
    "google_county_data.loc[google_county_data['state_county']=='VASuffolk', 'state_county'] = 'VASuffolk city'\n",
    "google_county_data.loc[google_county_data['state_county']=='VAVirginia Beach', 'state_county'] = 'VAVirginia Beach city'\n",
    "google_county_data.loc[google_county_data['state_county']=='VAWaynesboro', 'state_county'] = 'VAWaynesboro city'\n",
    "google_county_data.loc[google_county_data['state_county']=='VAWilliamsburg', 'state_county'] = 'VAWilliamsburg city'\n",
    "google_county_data.loc[google_county_data['state_county']=='VAWinchester', 'state_county'] = 'VAWinchester city'"
   ]
  },
  {
   "cell_type": "code",
   "execution_count": 142,
   "metadata": {},
   "outputs": [],
   "source": [
    "# Attach FIPS code\n",
    "lefton = ['state_county']\n",
    "righton = ['state_county']\n",
    "\n",
    "google_county_data = pd.merge(\n",
    "    google_county_data, safegraph_ref_data_fips, \n",
    "    how='left', left_on=lefton, right_on=righton)"
   ]
  },
  {
   "cell_type": "code",
   "execution_count": 143,
   "metadata": {},
   "outputs": [],
   "source": [
    "# Create fips_code and data columns\n",
    "google_county_data['fips_code'] = google_county_data['fips']\n",
    "google_county_data['date'] = google_county_data['date_goog_cnty']"
   ]
  },
  {
   "cell_type": "code",
   "execution_count": 144,
   "metadata": {},
   "outputs": [
    {
     "data": {
      "text/plain": [
       "['SDOglala Lakota County']"
      ]
     },
     "execution_count": 144,
     "metadata": {},
     "output_type": "execute_result"
    }
   ],
   "source": [
    "# List counties which did not get a fips code\n",
    "list(google_county_data[google_county_data.fips.isnull()]['state_county'].unique())"
   ]
  },
  {
   "cell_type": "code",
   "execution_count": 145,
   "metadata": {},
   "outputs": [],
   "source": [
    "# Add missing county manually\n",
    "google_county_data.loc[google_county_data['state_county']=='SDOglala Lakota County', 'fips_code'] = 'SDOGL'"
   ]
  },
  {
   "cell_type": "code",
   "execution_count": 146,
   "metadata": {},
   "outputs": [],
   "source": [
    "# Drop columns not needed\n",
    "google_county_data = google_county_data.drop(columns=['country_region_code_goog_cnty',\n",
    "       'country_region_goog_cnty', 'sub_region_1_goog_cnty',\n",
    "      'date_goog_cnty','state_name',\n",
    "       'state_county', 'state', 'state_fips', 'county_fips', 'county',\n",
    "       'class_code', 'fips'])"
   ]
  },
  {
   "cell_type": "markdown",
   "metadata": {},
   "source": [
    "## Combine Data Sources"
   ]
  },
  {
   "cell_type": "markdown",
   "metadata": {},
   "source": [
    "### Merge Data"
   ]
  },
  {
   "cell_type": "code",
   "execution_count": 147,
   "metadata": {},
   "outputs": [],
   "source": [
    "# Build a list of tables to join\n",
    "raw_data_list = [\n",
    "    enigma_agg_data,\n",
    "    #enigma_jh_data,\n",
    "    enigma_nyt_data,\n",
    "    rearc_nyt_data,\n",
    "    usafacts_cdc_data\n",
    "]"
   ]
  },
  {
   "cell_type": "code",
   "execution_count": 148,
   "metadata": {},
   "outputs": [],
   "source": [
    "# Since we want the sum columns to have different names, put them in a list\n",
    "sum_cols = [\n",
    "    ['cases_ea', 'deaths_ea'],\n",
    "    #['confirmed_ejhu', 'deaths_ejhu'],\n",
    "    ['cases_enyt', 'deaths_enyt'],\n",
    "    ['cases_rnyt', 'deaths_rnyt'],\n",
    "    ['confirmed_cdc', 'deaths_cdc']\n",
    "]"
   ]
  },
  {
   "cell_type": "code",
   "execution_count": 149,
   "metadata": {},
   "outputs": [],
   "source": [
    "# Recursively group the tables and put that in a new list\n",
    "grouped_data_list = []\n",
    "for data, sum_col in zip(raw_data_list, sum_cols):\n",
    "    data = data.groupby(['state_code','fips_code', 'date'])[sum_col].agg('sum').reset_index()\n",
    "    grouped_data_list.append(data)"
   ]
  },
  {
   "cell_type": "code",
   "execution_count": 150,
   "metadata": {},
   "outputs": [],
   "source": [
    "# Add google mobility county data\n",
    "grouped_data_list.append(\n",
    "    google_county_data\n",
    ")"
   ]
  },
  {
   "cell_type": "code",
   "execution_count": 151,
   "metadata": {},
   "outputs": [],
   "source": [
    "# Join all the tables together\n",
    "on_col = ['state_code', 'fips_code', 'date']\n",
    "covid_data = pd.DataFrame(columns=on_col)\n",
    "for data in grouped_data_list:\n",
    "    covid_data = pd.merge(\n",
    "        covid_data, data, how='outer', left_on=on_col, right_on=on_col\n",
    "    )"
   ]
  },
  {
   "cell_type": "code",
   "execution_count": 152,
   "metadata": {},
   "outputs": [],
   "source": [
    "# Add google mobility state data\n",
    "on_col = ['state_code', 'date']\n",
    "covid_data = covid_data = pd.merge(covid_data, google_state_data, how='left', left_on=on_col, right_on=on_col)"
   ]
  },
  {
   "cell_type": "markdown",
   "metadata": {},
   "source": [
    "### Attach County Name"
   ]
  },
  {
   "cell_type": "code",
   "execution_count": 153,
   "metadata": {},
   "outputs": [],
   "source": [
    "# Create county name lookup table from all data used so far\n",
    "cols = [\n",
    "    ['county_name_ea'],\n",
    "    #['?'],\n",
    "    ['county_enyt'],\n",
    "    ['county_rnyt'],\n",
    "    ['county name_cdc'],\n",
    "    ['sub_region_2_goog_cnty']  \n",
    "]\n",
    "\n",
    "raw_data_list = [\n",
    "    enigma_agg_data,\n",
    "    #enigma_jh_data,\n",
    "    enigma_nyt_data,\n",
    "    rearc_nyt_data,\n",
    "    usafacts_cdc_data,\n",
    "    google_county_data\n",
    "]\n",
    "\n",
    "county_data_list = []\n",
    "for data, col in zip(raw_data_list, cols):\n",
    "    data = data.groupby(['state_code','fips_code','date']+col).size().reset_index().drop(columns=[0])\n",
    "    data = data.rename(columns={col[0]:\"county_name\"})\n",
    "    county_data_list.append(data)\n",
    "data = pd.concat(county_data_list).dropna(subset=['county_name']).drop(columns=['date'])\n",
    "data = data.drop_duplicates(subset=['state_code','fips_code'], keep=\"first\").reset_index(drop=True)\n",
    "county_names = data"
   ]
  },
  {
   "cell_type": "code",
   "execution_count": 154,
   "metadata": {},
   "outputs": [],
   "source": [
    "# Attach county name\n",
    "on_col = ['state_code', 'fips_code']\n",
    "covid_data = pd.merge(covid_data, county_names, how='left', left_on=on_col, right_on=on_col)"
   ]
  },
  {
   "cell_type": "code",
   "execution_count": 155,
   "metadata": {},
   "outputs": [],
   "source": [
    "# Attach land area\n",
    "on_col = ['fips_code']\n",
    "covid_data = pd.merge(covid_data, safegraph_land, how='left', left_on=on_col, right_on=on_col)"
   ]
  },
  {
   "cell_type": "code",
   "execution_count": 156,
   "metadata": {},
   "outputs": [],
   "source": [
    "# Drop extra google county name columns\n",
    "covid_data = covid_data.drop(columns=['sub_region_2_goog_cnty'])"
   ]
  },
  {
   "cell_type": "markdown",
   "metadata": {},
   "source": [
    "### Attach Lat and Long"
   ]
  },
  {
   "cell_type": "code",
   "execution_count": 157,
   "metadata": {},
   "outputs": [],
   "source": [
    "# Create lat long lookup table\n",
    "lat_long_data = enigma_agg_data.groupby(['state_code','fips_code','lat_ea','long_ea']).size().reset_index().drop(columns=[0])\n",
    "lat_long_data = lat_long_data.dropna(subset=['lat_ea','long_ea'])\n",
    "lat_long_data = lat_long_data.drop_duplicates(subset=['state_code','fips_code'], keep=\"first\").reset_index(drop=True)"
   ]
  },
  {
   "cell_type": "code",
   "execution_count": 158,
   "metadata": {},
   "outputs": [],
   "source": [
    "# Join lat long data\n",
    "on_col = ['state_code', 'fips_code']\n",
    "covid_data = pd.merge(covid_data, lat_long_data, how='left', left_on=on_col, right_on=on_col)"
   ]
  },
  {
   "cell_type": "markdown",
   "metadata": {},
   "source": [
    "### Attach Safegraph Census Data"
   ]
  },
  {
   "cell_type": "code",
   "execution_count": 159,
   "metadata": {},
   "outputs": [],
   "source": [
    "# Join safegraph census data\n",
    "covid_data = pd.merge(covid_data, safegraph_census_data, how='outer', left_on='fips_code', right_on='fips_code')"
   ]
  },
  {
   "cell_type": "markdown",
   "metadata": {},
   "source": [
    "### Save Master Table"
   ]
  },
  {
   "cell_type": "code",
   "execution_count": 160,
   "metadata": {},
   "outputs": [],
   "source": [
    "with open('covid_data.p', 'wb') as f:\n",
    "    pickle.dump(covid_data, f)"
   ]
  },
  {
   "cell_type": "markdown",
   "metadata": {},
   "source": [
    "### Control Totals"
   ]
  },
  {
   "cell_type": "code",
   "execution_count": 161,
   "metadata": {},
   "outputs": [
    {
     "data": {
      "text/plain": [
       "0.0"
      ]
     },
     "execution_count": 161,
     "metadata": {},
     "output_type": "execute_result"
    }
   ],
   "source": [
    "# Safegraph census data control\n",
    "covid_data[covid_data['date']=='2020-05-10'].pop_total.sum() + covid_data[covid_data['date'].isnull()].pop_total.sum() - safegraph_census_data.pop_total.sum()"
   ]
  },
  {
   "cell_type": "code",
   "execution_count": 162,
   "metadata": {},
   "outputs": [
    {
     "name": "stdout",
     "output_type": "stream",
     "text": [
      "0.0\n",
      "0.0\n",
      "0.0\n",
      "0.0\n"
     ]
    }
   ],
   "source": [
    "print(enigma_agg_data.cases_ea.sum() - covid_data.cases_ea.sum())\n",
    "#print(enigma_jh_data.cases_ejhu.sum() - covid_data.cases_ejhu.sum()\n",
    "print(enigma_nyt_data.cases_enyt.sum() - covid_data.cases_enyt.sum())\n",
    "print(rearc_nyt_data.cases_rnyt.sum() - covid_data.cases_rnyt.sum())\n",
    "print(usafacts_cdc_data.confirmed_cdc.sum() - covid_data.confirmed_cdc.sum())"
   ]
  },
  {
   "cell_type": "code",
   "execution_count": 163,
   "metadata": {},
   "outputs": [
    {
     "name": "stdout",
     "output_type": "stream",
     "text": [
      "0.0\n",
      "0.0\n",
      "0.0\n",
      "0.0\n"
     ]
    }
   ],
   "source": [
    "print(enigma_agg_data.deaths_ea.sum() - covid_data.deaths_ea.sum())\n",
    "#print(enigma_jh_data.deaths_ejhu.sum() - covid_data.deaths_ejhu.sum()\n",
    "print(enigma_nyt_data.deaths_enyt.sum() - covid_data.deaths_enyt.sum())\n",
    "print(rearc_nyt_data.deaths_rnyt.sum() - covid_data.deaths_rnyt.sum())\n",
    "print(usafacts_cdc_data.deaths_cdc.sum() - covid_data.deaths_cdc.sum())"
   ]
  }
 ],
 "metadata": {
  "kernelspec": {
   "display_name": "covid",
   "language": "python",
   "name": "covid"
  },
  "language_info": {
   "codemirror_mode": {
    "name": "ipython",
    "version": 3
   },
   "file_extension": ".py",
   "mimetype": "text/x-python",
   "name": "python",
   "nbconvert_exporter": "python",
   "pygments_lexer": "ipython3",
   "version": "3.6.9"
  }
 },
 "nbformat": 4,
 "nbformat_minor": 4
}
