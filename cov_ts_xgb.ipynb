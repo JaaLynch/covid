{
 "cells": [
  {
   "cell_type": "markdown",
   "id": "younger-drive",
   "metadata": {},
   "source": [
    "# Time Series with XGBoost - COVID"
   ]
  },
  {
   "cell_type": "markdown",
   "id": "soviet-favor",
   "metadata": {},
   "source": [
    "## Import Packages"
   ]
  },
  {
   "cell_type": "code",
   "execution_count": 94,
   "id": "disciplinary-interaction",
   "metadata": {},
   "outputs": [],
   "source": [
    "import numpy as np\n",
    "import pandas as pd\n",
    "import matplotlib.pyplot as plt\n",
    "import xgboost as xgb\n",
    "import pickle\n",
    "from datetime import timedelta, date\n",
    "from sklearn.metrics import mean_squared_error, mean_absolute_error"
   ]
  },
  {
   "cell_type": "markdown",
   "id": "worst-whale",
   "metadata": {},
   "source": [
    "## Import Data"
   ]
  },
  {
   "cell_type": "code",
   "execution_count": 95,
   "id": "addressed-beatles",
   "metadata": {},
   "outputs": [],
   "source": [
    "with open('covid_data.p', 'rb') as f:\n",
    "    data = pickle.load(f)"
   ]
  },
  {
   "cell_type": "code",
   "execution_count": 96,
   "id": "fifth-train",
   "metadata": {},
   "outputs": [
    {
     "data": {
      "text/html": [
       "<div>\n",
       "<style scoped>\n",
       "    .dataframe tbody tr th:only-of-type {\n",
       "        vertical-align: middle;\n",
       "    }\n",
       "\n",
       "    .dataframe tbody tr th {\n",
       "        vertical-align: top;\n",
       "    }\n",
       "\n",
       "    .dataframe thead th {\n",
       "        text-align: right;\n",
       "    }\n",
       "</style>\n",
       "<table border=\"1\" class=\"dataframe\">\n",
       "  <thead>\n",
       "    <tr style=\"text-align: right;\">\n",
       "      <th></th>\n",
       "      <th>deaths_cdc</th>\n",
       "      <th>confirmed_cdc</th>\n",
       "      <th>daily_deaths</th>\n",
       "      <th>daily_deaths_off1</th>\n",
       "      <th>daily_deaths_off2</th>\n",
       "      <th>daily_deaths_off3</th>\n",
       "      <th>daily_deaths_off4</th>\n",
       "      <th>pred_deaths</th>\n",
       "    </tr>\n",
       "    <tr>\n",
       "      <th>date</th>\n",
       "      <th></th>\n",
       "      <th></th>\n",
       "      <th></th>\n",
       "      <th></th>\n",
       "      <th></th>\n",
       "      <th></th>\n",
       "      <th></th>\n",
       "      <th></th>\n",
       "    </tr>\n",
       "  </thead>\n",
       "  <tbody>\n",
       "    <tr>\n",
       "      <th>2021-01-11</th>\n",
       "      <td>7914.0</td>\n",
       "      <td>137959.0</td>\n",
       "      <td>12.285714</td>\n",
       "      <td>11.857143</td>\n",
       "      <td>11.535714</td>\n",
       "      <td>11.107143</td>\n",
       "      <td>10.357143</td>\n",
       "      <td>12.285714</td>\n",
       "    </tr>\n",
       "    <tr>\n",
       "      <th>2021-01-12</th>\n",
       "      <td>7923.0</td>\n",
       "      <td>139672.0</td>\n",
       "      <td>12.428571</td>\n",
       "      <td>12.285714</td>\n",
       "      <td>11.857143</td>\n",
       "      <td>11.535714</td>\n",
       "      <td>11.107143</td>\n",
       "      <td>12.428571</td>\n",
       "    </tr>\n",
       "    <tr>\n",
       "      <th>2021-01-13</th>\n",
       "      <td>7941.0</td>\n",
       "      <td>141535.0</td>\n",
       "      <td>12.785714</td>\n",
       "      <td>12.428571</td>\n",
       "      <td>12.285714</td>\n",
       "      <td>11.857143</td>\n",
       "      <td>11.535714</td>\n",
       "      <td>12.785714</td>\n",
       "    </tr>\n",
       "    <tr>\n",
       "      <th>2021-01-14</th>\n",
       "      <td>7970.0</td>\n",
       "      <td>143078.0</td>\n",
       "      <td>13.678571</td>\n",
       "      <td>12.785714</td>\n",
       "      <td>12.428571</td>\n",
       "      <td>12.285714</td>\n",
       "      <td>11.857143</td>\n",
       "      <td>13.678571</td>\n",
       "    </tr>\n",
       "    <tr>\n",
       "      <th>2021-01-15</th>\n",
       "      <td>7994.0</td>\n",
       "      <td>145424.0</td>\n",
       "      <td>14.178571</td>\n",
       "      <td>13.678571</td>\n",
       "      <td>12.785714</td>\n",
       "      <td>12.428571</td>\n",
       "      <td>12.285714</td>\n",
       "      <td>14.178571</td>\n",
       "    </tr>\n",
       "  </tbody>\n",
       "</table>\n",
       "</div>"
      ],
      "text/plain": [
       "            deaths_cdc  confirmed_cdc  daily_deaths  daily_deaths_off1  \\\n",
       "date                                                                     \n",
       "2021-01-11      7914.0       137959.0     12.285714          11.857143   \n",
       "2021-01-12      7923.0       139672.0     12.428571          12.285714   \n",
       "2021-01-13      7941.0       141535.0     12.785714          12.428571   \n",
       "2021-01-14      7970.0       143078.0     13.678571          12.785714   \n",
       "2021-01-15      7994.0       145424.0     14.178571          13.678571   \n",
       "\n",
       "            daily_deaths_off2  daily_deaths_off3  daily_deaths_off4  \\\n",
       "date                                                                  \n",
       "2021-01-11          11.535714          11.107143          10.357143   \n",
       "2021-01-12          11.857143          11.535714          11.107143   \n",
       "2021-01-13          12.285714          11.857143          11.535714   \n",
       "2021-01-14          12.428571          12.285714          11.857143   \n",
       "2021-01-15          12.785714          12.428571          12.285714   \n",
       "\n",
       "            pred_deaths  \n",
       "date                     \n",
       "2021-01-11    12.285714  \n",
       "2021-01-12    12.428571  \n",
       "2021-01-13    12.785714  \n",
       "2021-01-14    13.678571  \n",
       "2021-01-15    14.178571  "
      ]
     },
     "execution_count": 96,
     "metadata": {},
     "output_type": "execute_result"
    }
   ],
   "source": [
    "# Basic data cleanup\n",
    "data = data[data.fips_code == '36047'] #36047\n",
    "data = data.set_index('date')\n",
    "\n",
    "data = data[['deaths_cdc','confirmed_cdc']]\n",
    "\n",
    "max_date = data.index[-1].date().strftime('%Y-%m-%d')\n",
    "\n",
    "data['daily_deaths'] = data.deaths_cdc.diff().rolling(window=28).mean()\n",
    "#data['daily_deaths'] = data.deaths_cdc.rolling(window=7).mean()\n",
    "data['daily_deaths_off1'] =  data.daily_deaths.shift(periods=1)\n",
    "data['daily_deaths_off2'] =  data.daily_deaths.shift(periods=2)\n",
    "data['daily_deaths_off3'] =  data.daily_deaths.shift(periods=3)\n",
    "data['daily_deaths_off4'] =  data.daily_deaths.shift(periods=4)\n",
    "\n",
    "#data['daily_cases'] = data.confirmed_cdc.diff().rolling(window=28).mean()\n",
    "#data['daily_cases_off1'] =  data.daily_cases.shift(periods=1)\n",
    "#data['daily_cases_off2'] =  data.daily_cases.shift(periods=2)\n",
    "#data['daily_cases_off3'] =  data.daily_cases.shift(periods=3)\n",
    "#data['daily_cases_off4'] =  data.daily_cases.shift(periods=4)\n",
    "\n",
    "data['pred_deaths'] = data.daily_deaths\n",
    "\n",
    "data.sort_index(inplace=True)\n",
    "data = data.dropna()\n",
    "\n",
    "# For debugging\n",
    "df = pd.DataFrame(data)\n",
    "\n",
    "data.tail()"
   ]
  },
  {
   "cell_type": "markdown",
   "id": "atmospheric-dispute",
   "metadata": {},
   "source": [
    "## Split the data"
   ]
  },
  {
   "cell_type": "code",
   "execution_count": 97,
   "id": "domestic-aggregate",
   "metadata": {},
   "outputs": [],
   "source": [
    "def split_data(data, split_date):\n",
    "    return data[data.index <= split_date].copy(), \\\n",
    "           data[data.index >  split_date].copy()"
   ]
  },
  {
   "cell_type": "code",
   "execution_count": 98,
   "id": "thousand-tobacco",
   "metadata": {},
   "outputs": [],
   "source": [
    "#train, test = split_data(data, (data.index[-1].date() - timedelta(days=90)).strftime('%Y-%m-%d'))\n",
    "train, test = split_data(data, \"2020-10-01\")"
   ]
  },
  {
   "cell_type": "code",
   "execution_count": 99,
   "id": "adolescent-transcript",
   "metadata": {},
   "outputs": [
    {
     "data": {
      "image/png": "[encoded data removed]",
      "text/plain": [
       "<Figure size 1080x360 with 1 Axes>"
      ]
     },
     "metadata": {
      "needs_background": "light"
     },
     "output_type": "display_data"
    }
   ],
   "source": [
    "# Plot the train & test data\n",
    "plt.figure(figsize=(15,5))\n",
    "plt.xlabel('time')\n",
    "plt.ylabel('pred_deaths')\n",
    "plt.plot(train.index,train[\"pred_deaths\"])\n",
    "plt.plot(test.index,test[\"pred_deaths\"])\n",
    "plt.show()"
   ]
  },
  {
   "cell_type": "markdown",
   "id": "usual-touch",
   "metadata": {},
   "source": [
    "## Feature Engineering"
   ]
  },
  {
   "cell_type": "code",
   "execution_count": 100,
   "id": "fifty-commitment",
   "metadata": {},
   "outputs": [],
   "source": [
    "def create_features(df):\n",
    "    \"\"\"\n",
    "    Creates time series features from datetime index\n",
    "    \"\"\"\n",
    "    df['date'] = df.index\n",
    "    df['dayofweek'] = df['date'].dt.dayofweek\n",
    "    df['quarter'] = df['date'].dt.quarter\n",
    "    df['month'] = df['date'].dt.month\n",
    "    df['year'] = df['date'].dt.year\n",
    "    #df['dayofyear'] = df['date'].dt.dayofyear\n",
    "    df['dayofmonth'] = df['date'].dt.day\n",
    "    df['weekofyear'] = df['date'].dt.weekofyear\n",
    "    \n",
    "    # Time from 1/1/2020\n",
    "    df[\"origin\"] = pd.to_datetime(date(2020,1,1))\n",
    "    df[\"t-t0\"] = (df[\"date\"] - df[\"origin\"]).dt.days\n",
    "    \n",
    "    X = df[[\n",
    "            't-t0',\n",
    "            'dayofweek',\n",
    "            #'quarter','month','year',\n",
    "            #'dayofyear',\n",
    "            #'dayofmonth','weekofyear',\n",
    "            #'3_day_ave', '5_day_ave', #'7_day_ave','14_day_ave',\n",
    "            #'deaths_cdc', \n",
    "            #'confirmed_cdc',\n",
    "            #'3_day_case_ave', '5_day_case_ave','7_day_case_ave','14_day_case_ave',\n",
    "            #'daily_deaths'\n",
    "            'daily_deaths_off1', 'daily_deaths_off2', 'daily_deaths_off3', 'daily_deaths_off4',\n",
    "            #'daily_cases_off1', #'daily_cases_off2', 'daily_cases_off3','daily_cases_off4',\n",
    "            \n",
    "           ]]\n",
    "    return X"
   ]
  },
  {
   "cell_type": "code",
   "execution_count": 101,
   "id": "agreed-archives",
   "metadata": {},
   "outputs": [
    {
     "name": "stderr",
     "output_type": "stream",
     "text": [
      "/home/james/.conda/envs/moby/lib/python3.7/site-packages/ipykernel_launcher.py:12: FutureWarning: Series.dt.weekofyear and Series.dt.week have been deprecated.  Please use Series.dt.isocalendar().week instead.\n",
      "  if sys.path[0] == '':\n"
     ]
    },
    {
     "data": {
      "text/plain": [
       "((222, 6), (222,))"
      ]
     },
     "execution_count": 101,
     "metadata": {},
     "output_type": "execute_result"
    }
   ],
   "source": [
    "X_train, y_train = create_features(train), train['pred_deaths']\n",
    "X_test, y_test   = create_features(test), test['pred_deaths'] \n",
    "\n",
    "X_train.shape, y_train.shape"
   ]
  },
  {
   "cell_type": "markdown",
   "id": "assigned-peninsula",
   "metadata": {},
   "source": [
    "## Train the Model"
   ]
  },
  {
   "cell_type": "code",
   "execution_count": 102,
   "id": "split-embassy",
   "metadata": {},
   "outputs": [
    {
     "name": "stdout",
     "output_type": "stream",
     "text": [
      "[0]\tvalidation_0-rmse:57.32583\tvalidation_1-rmse:4.63606\n",
      "Multiple eval metrics have been passed: 'validation_1-rmse' will be used for early stopping.\n",
      "\n",
      "Will train until validation_1-rmse hasn't improved in 50 rounds.\n",
      "[10]\tvalidation_0-rmse:35.51092\tvalidation_1-rmse:3.26744\n",
      "[20]\tvalidation_0-rmse:22.10776\tvalidation_1-rmse:2.44668\n",
      "[30]\tvalidation_0-rmse:13.84007\tvalidation_1-rmse:2.02601\n",
      "[40]\tvalidation_0-rmse:8.73300\tvalidation_1-rmse:1.76060\n",
      "[50]\tvalidation_0-rmse:5.55542\tvalidation_1-rmse:1.65749\n",
      "[60]\tvalidation_0-rmse:3.58699\tvalidation_1-rmse:1.59856\n",
      "[70]\tvalidation_0-rmse:2.35106\tvalidation_1-rmse:1.54862\n",
      "[80]\tvalidation_0-rmse:1.57512\tvalidation_1-rmse:1.51612\n",
      "[90]\tvalidation_0-rmse:1.09037\tvalidation_1-rmse:1.49547\n",
      "[100]\tvalidation_0-rmse:0.77163\tvalidation_1-rmse:1.47539\n",
      "[110]\tvalidation_0-rmse:0.56193\tvalidation_1-rmse:1.46379\n",
      "[120]\tvalidation_0-rmse:0.41841\tvalidation_1-rmse:1.45435\n",
      "[130]\tvalidation_0-rmse:0.31426\tvalidation_1-rmse:1.44792\n",
      "[140]\tvalidation_0-rmse:0.24234\tvalidation_1-rmse:1.44505\n",
      "[150]\tvalidation_0-rmse:0.19159\tvalidation_1-rmse:1.44376\n",
      "[160]\tvalidation_0-rmse:0.15587\tvalidation_1-rmse:1.44253\n",
      "[170]\tvalidation_0-rmse:0.12996\tvalidation_1-rmse:1.44146\n",
      "[180]\tvalidation_0-rmse:0.10920\tvalidation_1-rmse:1.44084\n",
      "[190]\tvalidation_0-rmse:0.09453\tvalidation_1-rmse:1.44146\n",
      "[200]\tvalidation_0-rmse:0.08549\tvalidation_1-rmse:1.44072\n",
      "[210]\tvalidation_0-rmse:0.07922\tvalidation_1-rmse:1.43968\n",
      "[220]\tvalidation_0-rmse:0.07446\tvalidation_1-rmse:1.43925\n",
      "[230]\tvalidation_0-rmse:0.06858\tvalidation_1-rmse:1.43910\n",
      "[240]\tvalidation_0-rmse:0.06517\tvalidation_1-rmse:1.43825\n",
      "[250]\tvalidation_0-rmse:0.06293\tvalidation_1-rmse:1.43805\n",
      "[260]\tvalidation_0-rmse:0.06095\tvalidation_1-rmse:1.43779\n",
      "[270]\tvalidation_0-rmse:0.05880\tvalidation_1-rmse:1.43769\n",
      "[280]\tvalidation_0-rmse:0.05679\tvalidation_1-rmse:1.43877\n",
      "[290]\tvalidation_0-rmse:0.05375\tvalidation_1-rmse:1.43869\n",
      "[300]\tvalidation_0-rmse:0.05146\tvalidation_1-rmse:1.43853\n",
      "[310]\tvalidation_0-rmse:0.04966\tvalidation_1-rmse:1.43945\n",
      "Stopping. Best iteration:\n",
      "[268]\tvalidation_0-rmse:0.05955\tvalidation_1-rmse:1.43746\n",
      "\n"
     ]
    },
    {
     "data": {
      "text/plain": [
       "XGBRegressor(base_score=0.5, booster='gbtree', colsample_bylevel=1,\n",
       "             colsample_bynode=1, colsample_bytree=1, gamma=0, gpu_id=-1,\n",
       "             importance_type='gain', interaction_constraints='',\n",
       "             learning_rate=0.05, max_delta_step=0, max_depth=6,\n",
       "             min_child_weight=1, missing=nan, monotone_constraints='()',\n",
       "             n_estimators=10000, n_jobs=0, num_parallel_tree=1, random_state=0,\n",
       "             reg_alpha=0, reg_lambda=1, scale_pos_weight=1, subsample=1,\n",
       "             tree_method='exact', validate_parameters=1, verbosity=None)"
      ]
     },
     "execution_count": 102,
     "metadata": {},
     "output_type": "execute_result"
    }
   ],
   "source": [
    "reg = xgb.XGBRegressor(\n",
    "    n_estimators=10000,\n",
    "    learning_rate=0.05,\n",
    "    max_depth=6\n",
    ")\n",
    "reg.fit(X_train, y_train,\n",
    "        eval_set=[(X_train, y_train), (X_test, y_test)],\n",
    "        early_stopping_rounds=50,\n",
    "        verbose=10)"
   ]
  },
  {
   "cell_type": "markdown",
   "id": "vocal-right",
   "metadata": {},
   "source": [
    "## Performance Metrics"
   ]
  },
  {
   "cell_type": "code",
   "execution_count": 103,
   "id": "jewish-closure",
   "metadata": {},
   "outputs": [],
   "source": [
    "X_test_pred = reg.predict(X_test)"
   ]
  },
  {
   "cell_type": "code",
   "execution_count": 104,
   "id": "favorite-science",
   "metadata": {},
   "outputs": [
    {
     "data": {
      "text/plain": [
       "2.066283734061215"
      ]
     },
     "execution_count": 104,
     "metadata": {},
     "output_type": "execute_result"
    }
   ],
   "source": [
    "# Mean Squared Error\n",
    "mean_squared_error(y_true=y_test,\n",
    "                   y_pred=X_test_pred)"
   ]
  },
  {
   "cell_type": "code",
   "execution_count": 105,
   "id": "scientific-harris",
   "metadata": {},
   "outputs": [
    {
     "data": {
      "text/plain": [
       "0.9689256889479502"
      ]
     },
     "execution_count": 105,
     "metadata": {},
     "output_type": "execute_result"
    }
   ],
   "source": [
    "# Mean Absolute Error\n",
    "mean_absolute_error(y_true=y_test,\n",
    "                   y_pred=X_test_pred)"
   ]
  },
  {
   "cell_type": "markdown",
   "id": "heard-duplicate",
   "metadata": {},
   "source": [
    "## Feature Importance"
   ]
  },
  {
   "cell_type": "code",
   "execution_count": 106,
   "id": "american-ecuador",
   "metadata": {},
   "outputs": [
    {
     "data": {
      "text/plain": [
       "<AxesSubplot:title={'center':'Feature importance'}, xlabel='F score', ylabel='Features'>"
      ]
     },
     "execution_count": 106,
     "metadata": {},
     "output_type": "execute_result"
    },
    {
     "data": {
      "image/png": "[encoded data removed]",
      "text/plain": [
       "<Figure size 432x288 with 1 Axes>"
      ]
     },
     "metadata": {
      "needs_background": "light"
     },
     "output_type": "display_data"
    }
   ],
   "source": [
    "xgb.plot_importance(reg, height=0.9)"
   ]
  },
  {
   "cell_type": "markdown",
   "id": "ranking-appearance",
   "metadata": {},
   "source": [
    "## Forecast on Test Data"
   ]
  },
  {
   "cell_type": "code",
   "execution_count": 107,
   "id": "promising-melissa",
   "metadata": {},
   "outputs": [],
   "source": [
    "def plot_performance(base_data, date_from, date_to, title=None):\n",
    "    plt.figure(figsize=(15,3))\n",
    "    if title == None:\n",
    "        plt.title('From {0} To {1}'.format(date_from, date_to))\n",
    "    else:\n",
    "        plt.title(title)\n",
    "    plt.xlabel('time')\n",
    "    plt.ylabel('average daily deaths')\n",
    "    plt.plot(base_data.index, base_data, label='data')\n",
    "    plt.plot(X_test.index, X_test_pred, label='prediction')\n",
    "    plt.legend()\n",
    "    plt.xlim(left=date_from, right=date_to)"
   ]
  },
  {
   "cell_type": "code",
   "execution_count": 108,
   "id": "certified-burlington",
   "metadata": {},
   "outputs": [
    {
     "data": {
      "image/png": "[encoded data removed]",
      "text/plain": [
       "<Figure size 1080x216 with 1 Axes>"
      ]
     },
     "metadata": {
      "needs_background": "light"
     },
     "output_type": "display_data"
    },
    {
     "data": {
      "image/png": "[encoded data removed]",
      "text/plain": [
       "<Figure size 1080x216 with 1 Axes>"
      ]
     },
     "metadata": {
      "needs_background": "light"
     },
     "output_type": "display_data"
    }
   ],
   "source": [
    "plot_performance(\n",
    "    data[\"pred_deaths\"], \n",
    "    data.index[0].date(), \n",
    "    data.index[-1].date(),\n",
    "    'Original and Predicted Data'\n",
    ")\n",
    "\n",
    "plot_performance(\n",
    "    y_test, \n",
    "    y_test.index[0].date(), \n",
    "    y_test.index[-1].date(),\n",
    "    'Test and Predicted Data')\n",
    "\n",
    "plt.legend()\n",
    "plt.show()"
   ]
  },
  {
   "cell_type": "code",
   "execution_count": 109,
   "id": "quality-yorkshire",
   "metadata": {},
   "outputs": [],
   "source": [
    "# Peformance for 10 random weeks \n",
    "#random_weeks = X_test[['year', 'weekofyear']].sample(10)\n",
    "#for week in random_weeks.iterrows():\n",
    "#    index = (X_test.year == week[1].year) & \\\n",
    "#            (X_test.weekofyear == week[1].weekofyear)\n",
    "#    tmp = y_test[index]\n",
    "#    plot_performance(tmp, tmp.index[0].date(), tmp.index[-1].date())"
   ]
  },
  {
   "cell_type": "markdown",
   "id": "breathing-booking",
   "metadata": {},
   "source": [
    "## Forecast the unknown"
   ]
  },
  {
   "cell_type": "code",
   "execution_count": 110,
   "id": "ancient-oriental",
   "metadata": {},
   "outputs": [],
   "source": [
    "def create_features2(df):\n",
    "    \"\"\"\n",
    "    Creates time series features from datetime index\n",
    "    \"\"\"\n",
    "    df['date'] = df.index\n",
    "    df['dayofweek'] = df['date'].dt.dayofweek\n",
    "    #df['quarter'] = df['date'].dt.quarter\n",
    "    #df['month'] = df['date'].dt.month\n",
    "    #df['year'] = df['date'].dt.year\n",
    "    #df['dayofyear'] = df['date'].dt.dayofyear\n",
    "    #df['dayofmonth'] = df['date'].dt.day\n",
    "    #df['weekofyear'] = df['date'].dt.weekofyear\n",
    "\n",
    "    return df.drop(['date'], axis=1)"
   ]
  },
  {
   "cell_type": "code",
   "execution_count": 111,
   "id": "stable-flower",
   "metadata": {},
   "outputs": [],
   "source": [
    "# Initialize loop\n",
    "X_future = pd.DataFrame({ \"date\": [X_test.index.max() + timedelta(days=1)]})\n",
    "# Time from 1/1/2020\n",
    "X_future[\"origin\"] = pd.to_datetime(date(2020,1,1))\n",
    "X_future[\"t-t0\"] = (X_future[\"date\"] - X_future[\"origin\"]).dt.days\n",
    "X_future = X_future.drop(columns=['origin'])\n",
    "X_future = X_future.set_index('date')\n",
    "X_future = create_features2(X_future) \n",
    "X_future = X_test.tail(4).append(X_future)\n",
    "y_forecast = y_test[-4:].to_list()\n",
    "\n",
    "# Add rows from prior data\n",
    "X_future.iloc[-1, X_future.columns.get_loc(\"daily_deaths_off1\")] = y_test[-1]\n",
    "X_future.iloc[-1, X_future.columns.get_loc(\"daily_deaths_off2\")] = y_test[-2]\n",
    "X_future.iloc[-1, X_future.columns.get_loc(\"daily_deaths_off3\")] = y_test[-3]\n",
    "X_future.iloc[-1, X_future.columns.get_loc(\"daily_deaths_off4\")] = y_test[-4]\n",
    "\n",
    "X_forecast = X_future\n",
    "y_forecast.append(reg.predict(X_future)[0])"
   ]
  },
  {
   "cell_type": "code",
   "execution_count": 112,
   "id": "alpha-honey",
   "metadata": {},
   "outputs": [],
   "source": [
    "# Forcast the next n days\n",
    "forecast_days = 100\n",
    "for i in range(forecast_days):\n",
    "    X_future = pd.DataFrame({ \"date\": [X_future.index.max() + timedelta(days=1)]  })\n",
    "    \n",
    "     # Time from 1/1/2020\n",
    "    X_future[\"origin\"] = pd.to_datetime(date(2020,1,1))\n",
    "    X_future[\"t-t0\"] = (X_future[\"date\"] - X_future[\"origin\"]).dt.days\n",
    "    X_future = X_future.drop(columns=['origin'])\n",
    "    \n",
    "    X_future = X_future.set_index('date')\n",
    "    X_future = create_features2(X_future) \n",
    "    \n",
    "    # Add rows from prior forecast\n",
    "    X_future['daily_deaths_off1'] = y_forecast[-1]\n",
    "    X_future['daily_deaths_off2'] = y_forecast[-2]\n",
    "    X_future['daily_deaths_off3'] = y_forecast[-3]\n",
    "    X_future['daily_deaths_off4'] = y_forecast[-4]\n",
    "    \n",
    "   \n",
    "\n",
    "    X_forecast = X_forecast.append(X_future)\n",
    "    y_forecast.append(reg.predict(X_future)[0])"
   ]
  },
  {
   "cell_type": "code",
   "execution_count": 113,
   "id": "indirect-proposal",
   "metadata": {},
   "outputs": [
    {
     "data": {
      "image/png": "[encoded data removed]",
      "text/plain": [
       "<Figure size 1080x216 with 1 Axes>"
      ]
     },
     "metadata": {
      "needs_background": "light"
     },
     "output_type": "display_data"
    }
   ],
   "source": [
    "plot_performance(\n",
    "    data[\"pred_deaths\"], \n",
    "    data.index[-1].date() - timedelta(days=forecast_days), \n",
    "    data.index[-1].date() + timedelta(days=forecast_days),\n",
    "    'Projection'\n",
    ")\n",
    "\n",
    "plt.plot(X_forecast.index, y_forecast, label='forecast')\n",
    "plt.axvline(x=data.index[-1].date(), color='grey', linestyle='--')\n",
    "plt.legend()\n",
    "plt.show()"
   ]
  },
  {
   "cell_type": "code",
   "execution_count": 114,
   "id": "assisted-shield",
   "metadata": {},
   "outputs": [],
   "source": [
    "# Need to seed some earlier dates so longer projection periods do not truncate early data\n",
    "# Add holidays\n",
    "# Add predicting a given county using another counties rates\n",
    "# Try predicting cumulative, or cumulative per 100k"
   ]
  }
 ],
 "metadata": {
  "kernelspec": {
   "display_name": "Python 3",
   "language": "python",
   "name": "python3"
  },
  "language_info": {
   "codemirror_mode": {
    "name": "ipython",
    "version": 3
   },
   "file_extension": ".py",
   "mimetype": "text/x-python",
   "name": "python",
   "nbconvert_exporter": "python",
   "pygments_lexer": "ipython3",
   "version": "3.7.9"
  }
 },
 "nbformat": 4,
 "nbformat_minor": 5
}
