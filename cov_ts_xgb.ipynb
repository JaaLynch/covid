{
 "cells": [
  {
   "cell_type": "markdown",
   "id": "lyric-charger",
   "metadata": {},
   "source": [
    "# Time Series with XGBoost - COVID"
   ]
  },
  {
   "cell_type": "markdown",
   "id": "individual-roads",
   "metadata": {},
   "source": [
    "## Import Packages"
   ]
  },
  {
   "cell_type": "code",
   "execution_count": 84,
   "id": "false-supplement",
   "metadata": {},
   "outputs": [],
   "source": [
    "import numpy as np\n",
    "import pandas as pd\n",
    "import matplotlib.pyplot as plt\n",
    "import xgboost as xgb\n",
    "import pickle\n",
    "from datetime import timedelta, date\n",
    "from sklearn.metrics import mean_squared_error, mean_absolute_error"
   ]
  },
  {
   "cell_type": "markdown",
   "id": "extreme-sunglasses",
   "metadata": {},
   "source": [
    "## Import Data"
   ]
  },
  {
   "cell_type": "code",
   "execution_count": 85,
   "id": "noticed-second",
   "metadata": {},
   "outputs": [],
   "source": [
    "with open('covid_data.p', 'rb') as f:\n",
    "    data = pickle.load(f)"
   ]
  },
  {
   "cell_type": "code",
   "execution_count": 86,
   "id": "fallen-certificate",
   "metadata": {},
   "outputs": [],
   "source": [
    "data = data[data.state_code == 'NY']\n",
    "agg_function = {\n",
    "    'deaths_cdc': ['sum'],\n",
    "    'confirmed_cdc': ['sum']\n",
    "}\n",
    "data = data.groupby(['date']).agg(agg_function)"
   ]
  },
  {
   "cell_type": "code",
   "execution_count": 87,
   "id": "straight-template",
   "metadata": {},
   "outputs": [
    {
     "data": {
      "text/html": [
       "<div>\n",
       "<style scoped>\n",
       "    .dataframe tbody tr th:only-of-type {\n",
       "        vertical-align: middle;\n",
       "    }\n",
       "\n",
       "    .dataframe tbody tr th {\n",
       "        vertical-align: top;\n",
       "    }\n",
       "\n",
       "    .dataframe thead tr th {\n",
       "        text-align: left;\n",
       "    }\n",
       "\n",
       "    .dataframe thead tr:last-of-type th {\n",
       "        text-align: right;\n",
       "    }\n",
       "</style>\n",
       "<table border=\"1\" class=\"dataframe\">\n",
       "  <thead>\n",
       "    <tr>\n",
       "      <th></th>\n",
       "      <th>deaths_cdc</th>\n",
       "      <th>confirmed_cdc</th>\n",
       "      <th>daily_deaths</th>\n",
       "      <th>daily_deaths_off1</th>\n",
       "      <th>daily_deaths_off2</th>\n",
       "      <th>daily_deaths_off3</th>\n",
       "      <th>daily_deaths_off4</th>\n",
       "      <th>pred_deaths</th>\n",
       "    </tr>\n",
       "    <tr>\n",
       "      <th></th>\n",
       "      <th>sum</th>\n",
       "      <th>sum</th>\n",
       "      <th></th>\n",
       "      <th></th>\n",
       "      <th></th>\n",
       "      <th></th>\n",
       "      <th></th>\n",
       "      <th></th>\n",
       "    </tr>\n",
       "    <tr>\n",
       "      <th>date</th>\n",
       "      <th></th>\n",
       "      <th></th>\n",
       "      <th></th>\n",
       "      <th></th>\n",
       "      <th></th>\n",
       "      <th></th>\n",
       "      <th></th>\n",
       "      <th></th>\n",
       "    </tr>\n",
       "  </thead>\n",
       "  <tbody>\n",
       "    <tr>\n",
       "      <th>2021-01-11</th>\n",
       "      <td>39563.0</td>\n",
       "      <td>1140225.0</td>\n",
       "      <td>147.750000</td>\n",
       "      <td>144.000000</td>\n",
       "      <td>142.464286</td>\n",
       "      <td>138.750000</td>\n",
       "      <td>136.428571</td>\n",
       "      <td>147.750000</td>\n",
       "    </tr>\n",
       "    <tr>\n",
       "      <th>2021-01-12</th>\n",
       "      <td>39748.0</td>\n",
       "      <td>1155439.0</td>\n",
       "      <td>149.392857</td>\n",
       "      <td>147.750000</td>\n",
       "      <td>144.000000</td>\n",
       "      <td>142.464286</td>\n",
       "      <td>138.750000</td>\n",
       "      <td>149.392857</td>\n",
       "    </tr>\n",
       "    <tr>\n",
       "      <th>2021-01-13</th>\n",
       "      <td>39921.0</td>\n",
       "      <td>1170016.0</td>\n",
       "      <td>152.071429</td>\n",
       "      <td>149.392857</td>\n",
       "      <td>147.750000</td>\n",
       "      <td>144.000000</td>\n",
       "      <td>142.464286</td>\n",
       "      <td>152.071429</td>\n",
       "    </tr>\n",
       "    <tr>\n",
       "      <th>2021-01-14</th>\n",
       "      <td>40159.0</td>\n",
       "      <td>1183677.0</td>\n",
       "      <td>156.071429</td>\n",
       "      <td>152.071429</td>\n",
       "      <td>149.392857</td>\n",
       "      <td>147.750000</td>\n",
       "      <td>144.000000</td>\n",
       "      <td>156.071429</td>\n",
       "    </tr>\n",
       "    <tr>\n",
       "      <th>2021-01-15</th>\n",
       "      <td>40366.0</td>\n",
       "      <td>1203619.0</td>\n",
       "      <td>159.000000</td>\n",
       "      <td>156.071429</td>\n",
       "      <td>152.071429</td>\n",
       "      <td>149.392857</td>\n",
       "      <td>147.750000</td>\n",
       "      <td>159.000000</td>\n",
       "    </tr>\n",
       "  </tbody>\n",
       "</table>\n",
       "</div>"
      ],
      "text/plain": [
       "           deaths_cdc confirmed_cdc daily_deaths daily_deaths_off1  \\\n",
       "                  sum           sum                                  \n",
       "date                                                                 \n",
       "2021-01-11    39563.0     1140225.0   147.750000        144.000000   \n",
       "2021-01-12    39748.0     1155439.0   149.392857        147.750000   \n",
       "2021-01-13    39921.0     1170016.0   152.071429        149.392857   \n",
       "2021-01-14    40159.0     1183677.0   156.071429        152.071429   \n",
       "2021-01-15    40366.0     1203619.0   159.000000        156.071429   \n",
       "\n",
       "           daily_deaths_off2 daily_deaths_off3 daily_deaths_off4 pred_deaths  \n",
       "                                                                              \n",
       "date                                                                          \n",
       "2021-01-11        142.464286        138.750000        136.428571  147.750000  \n",
       "2021-01-12        144.000000        142.464286        138.750000  149.392857  \n",
       "2021-01-13        147.750000        144.000000        142.464286  152.071429  \n",
       "2021-01-14        149.392857        147.750000        144.000000  156.071429  \n",
       "2021-01-15        152.071429        149.392857        147.750000  159.000000  "
      ]
     },
     "execution_count": 87,
     "metadata": {},
     "output_type": "execute_result"
    }
   ],
   "source": [
    "# Basic data cleanup\n",
    "#data = data[data.fips_code == '36047'] #36047\n",
    "#data = data.set_index('date')\n",
    "\n",
    "data = data[['deaths_cdc','confirmed_cdc']]\n",
    "\n",
    "#max_date = data.index[-1].date().strftime('%Y-%m-%d')\n",
    "\n",
    "data['daily_deaths'] = data.deaths_cdc.diff().rolling(window=28).mean()\n",
    "#data['daily_deaths'] = data.deaths_cdc.rolling(window=7).mean()\n",
    "data['daily_deaths_off1'] =  data.daily_deaths.shift(periods=1)\n",
    "data['daily_deaths_off2'] =  data.daily_deaths.shift(periods=2)\n",
    "data['daily_deaths_off3'] =  data.daily_deaths.shift(periods=3)\n",
    "data['daily_deaths_off4'] =  data.daily_deaths.shift(periods=4)\n",
    "\n",
    "#data['daily_cases'] = data.confirmed_cdc.diff().rolling(window=28).mean()\n",
    "#data['daily_cases_off1'] =  data.daily_cases.shift(periods=1)\n",
    "#data['daily_cases_off2'] =  data.daily_cases.shift(periods=2)\n",
    "#data['daily_cases_off3'] =  data.daily_cases.shift(periods=3)\n",
    "#data['daily_cases_off4'] =  data.daily_cases.shift(periods=4)\n",
    "\n",
    "data['pred_deaths'] = data.daily_deaths\n",
    "\n",
    "data.sort_index(inplace=True)\n",
    "data = data.dropna()\n",
    "\n",
    "# For debugging\n",
    "df = pd.DataFrame(data)\n",
    "\n",
    "data.tail()"
   ]
  },
  {
   "cell_type": "markdown",
   "id": "weighted-glossary",
   "metadata": {},
   "source": [
    "## Split the data"
   ]
  },
  {
   "cell_type": "code",
   "execution_count": 88,
   "id": "supposed-carnival",
   "metadata": {},
   "outputs": [],
   "source": [
    "def split_data(data, split_date):\n",
    "    return data[data.index <= split_date].copy(), \\\n",
    "           data[data.index >  split_date].copy()"
   ]
  },
  {
   "cell_type": "code",
   "execution_count": 89,
   "id": "maritime-acquisition",
   "metadata": {},
   "outputs": [],
   "source": [
    "#train, test = split_data(data, (data.index[-1].date() - timedelta(days=90)).strftime('%Y-%m-%d'))\n",
    "train, test = split_data(data, \"2020-10-01\")"
   ]
  },
  {
   "cell_type": "code",
   "execution_count": 90,
   "id": "bigger-converter",
   "metadata": {},
   "outputs": [
    {
     "data": {
      "image/png": "[encoded data removed]",
      "text/plain": [
       "<Figure size 1080x360 with 1 Axes>"
      ]
     },
     "metadata": {
      "needs_background": "light"
     },
     "output_type": "display_data"
    }
   ],
   "source": [
    "# Plot the train & test data\n",
    "plt.figure(figsize=(15,5))\n",
    "plt.xlabel('time')\n",
    "plt.ylabel('pred_deaths')\n",
    "plt.plot(train.index,train[\"pred_deaths\"])\n",
    "plt.plot(test.index,test[\"pred_deaths\"])\n",
    "plt.show()"
   ]
  },
  {
   "cell_type": "markdown",
   "id": "activated-crisis",
   "metadata": {},
   "source": [
    "## Feature Engineering"
   ]
  },
  {
   "cell_type": "code",
   "execution_count": 91,
   "id": "parallel-interstate",
   "metadata": {},
   "outputs": [],
   "source": [
    "def create_features(df):\n",
    "    \"\"\"\n",
    "    Creates time series features from datetime index\n",
    "    \"\"\"\n",
    "    df['date'] = df.index\n",
    "    df['dayofweek'] = df['date'].dt.dayofweek\n",
    "    df['quarter'] = df['date'].dt.quarter\n",
    "    df['month'] = df['date'].dt.month\n",
    "    df['year'] = df['date'].dt.year\n",
    "    #df['dayofyear'] = df['date'].dt.dayofyear\n",
    "    df['dayofmonth'] = df['date'].dt.day\n",
    "    df['weekofyear'] = df['date'].dt.weekofyear\n",
    "    \n",
    "    # Time from 1/1/2020\n",
    "    df[\"origin\"] = pd.to_datetime(date(2020,1,1))\n",
    "    df[\"t-t0\"] = (df[\"date\"] - df[\"origin\"]).dt.days\n",
    "    \n",
    "    X = df[[\n",
    "            't-t0',\n",
    "            'dayofweek',\n",
    "            #'quarter','month','year',\n",
    "            #'dayofyear',\n",
    "            #'dayofmonth','weekofyear',\n",
    "            #'3_day_ave', '5_day_ave', #'7_day_ave','14_day_ave',\n",
    "            #'deaths_cdc', \n",
    "            #'confirmed_cdc',\n",
    "            #'3_day_case_ave', '5_day_case_ave','7_day_case_ave','14_day_case_ave',\n",
    "            #'daily_deaths'\n",
    "            'daily_deaths_off1', 'daily_deaths_off2', 'daily_deaths_off3', 'daily_deaths_off4',\n",
    "            #'daily_cases_off1', #'daily_cases_off2', 'daily_cases_off3','daily_cases_off4',\n",
    "            \n",
    "           ]]\n",
    "    return X"
   ]
  },
  {
   "cell_type": "code",
   "execution_count": 92,
   "id": "manual-accused",
   "metadata": {},
   "outputs": [
    {
     "name": "stderr",
     "output_type": "stream",
     "text": [
      "/home/james/.conda/envs/moby/lib/python3.7/site-packages/ipykernel_launcher.py:12: FutureWarning: Series.dt.weekofyear and Series.dt.week have been deprecated.  Please use Series.dt.isocalendar().week instead.\n",
      "  if sys.path[0] == '':\n"
     ]
    },
    {
     "data": {
      "text/plain": [
       "((222, 6), (222,))"
      ]
     },
     "execution_count": 92,
     "metadata": {},
     "output_type": "execute_result"
    }
   ],
   "source": [
    "X_train, y_train = create_features(train), train['pred_deaths']\n",
    "X_test, y_test   = create_features(test), test['pred_deaths'] \n",
    "\n",
    "X_train.shape, y_train.shape"
   ]
  },
  {
   "cell_type": "markdown",
   "id": "south-latex",
   "metadata": {},
   "source": [
    "## Train the Model"
   ]
  },
  {
   "cell_type": "code",
   "execution_count": 93,
   "id": "golden-louisiana",
   "metadata": {},
   "outputs": [
    {
     "name": "stdout",
     "output_type": "stream",
     "text": [
      "[0]\tvalidation_0-rmse:249.86560\tvalidation_1-rmse:63.98876\n",
      "Multiple eval metrics have been passed: 'validation_1-rmse' will be used for early stopping.\n",
      "\n",
      "Will train until validation_1-rmse hasn't improved in 50 rounds.\n",
      "[10]\tvalidation_0-rmse:154.66739\tvalidation_1-rmse:42.28275\n",
      "[20]\tvalidation_0-rmse:96.17899\tvalidation_1-rmse:30.51563\n",
      "[30]\tvalidation_0-rmse:60.06876\tvalidation_1-rmse:23.43441\n",
      "[40]\tvalidation_0-rmse:37.78075\tvalidation_1-rmse:19.14246\n",
      "[50]\tvalidation_0-rmse:23.93120\tvalidation_1-rmse:17.12162\n",
      "[60]\tvalidation_0-rmse:15.29003\tvalidation_1-rmse:15.95811\n",
      "[70]\tvalidation_0-rmse:9.89343\tvalidation_1-rmse:15.19998\n",
      "[80]\tvalidation_0-rmse:6.52327\tvalidation_1-rmse:14.74275\n",
      "[90]\tvalidation_0-rmse:4.40775\tvalidation_1-rmse:14.42085\n",
      "[100]\tvalidation_0-rmse:3.04338\tvalidation_1-rmse:14.19208\n",
      "[110]\tvalidation_0-rmse:2.15378\tvalidation_1-rmse:14.02946\n",
      "[120]\tvalidation_0-rmse:1.58085\tvalidation_1-rmse:13.93393\n",
      "[130]\tvalidation_0-rmse:1.18540\tvalidation_1-rmse:13.86623\n",
      "[140]\tvalidation_0-rmse:0.93470\tvalidation_1-rmse:13.83793\n",
      "[150]\tvalidation_0-rmse:0.75365\tvalidation_1-rmse:13.83774\n",
      "[160]\tvalidation_0-rmse:0.62763\tvalidation_1-rmse:13.83324\n",
      "[170]\tvalidation_0-rmse:0.53694\tvalidation_1-rmse:13.83952\n",
      "[180]\tvalidation_0-rmse:0.47643\tvalidation_1-rmse:13.84317\n",
      "[190]\tvalidation_0-rmse:0.43102\tvalidation_1-rmse:13.85682\n",
      "[200]\tvalidation_0-rmse:0.39630\tvalidation_1-rmse:13.85927\n",
      "[210]\tvalidation_0-rmse:0.37137\tvalidation_1-rmse:13.85516\n",
      "Stopping. Best iteration:\n",
      "[164]\tvalidation_0-rmse:0.59006\tvalidation_1-rmse:13.83015\n",
      "\n"
     ]
    },
    {
     "data": {
      "text/plain": [
       "XGBRegressor(base_score=0.5, booster='gbtree', colsample_bylevel=1,\n",
       "             colsample_bynode=1, colsample_bytree=1, gamma=0, gpu_id=-1,\n",
       "             importance_type='gain', interaction_constraints='',\n",
       "             learning_rate=0.05, max_delta_step=0, max_depth=6,\n",
       "             min_child_weight=1, missing=nan, monotone_constraints='()',\n",
       "             n_estimators=10000, n_jobs=0, num_parallel_tree=1, random_state=0,\n",
       "             reg_alpha=0, reg_lambda=1, scale_pos_weight=1, subsample=1,\n",
       "             tree_method='exact', validate_parameters=1, verbosity=None)"
      ]
     },
     "execution_count": 93,
     "metadata": {},
     "output_type": "execute_result"
    }
   ],
   "source": [
    "reg = xgb.XGBRegressor(\n",
    "    n_estimators=10000,\n",
    "    learning_rate=0.05,\n",
    "    max_depth=6\n",
    ")\n",
    "reg.fit(X_train, y_train,\n",
    "        eval_set=[(X_train, y_train), (X_test, y_test)],\n",
    "        early_stopping_rounds=50,\n",
    "        verbose=10)"
   ]
  },
  {
   "cell_type": "markdown",
   "id": "final-ranch",
   "metadata": {},
   "source": [
    "## Performance Metrics"
   ]
  },
  {
   "cell_type": "code",
   "execution_count": 94,
   "id": "going-breeding",
   "metadata": {},
   "outputs": [],
   "source": [
    "X_test_pred = reg.predict(X_test)"
   ]
  },
  {
   "cell_type": "code",
   "execution_count": 95,
   "id": "complimentary-melissa",
   "metadata": {},
   "outputs": [
    {
     "data": {
      "text/plain": [
       "191.27299077427418"
      ]
     },
     "execution_count": 95,
     "metadata": {},
     "output_type": "execute_result"
    }
   ],
   "source": [
    "# Mean Squared Error\n",
    "mean_squared_error(y_true=y_test,\n",
    "                   y_pred=X_test_pred)"
   ]
  },
  {
   "cell_type": "code",
   "execution_count": 96,
   "id": "outer-missouri",
   "metadata": {},
   "outputs": [
    {
     "data": {
      "text/plain": [
       "10.518090008404057"
      ]
     },
     "execution_count": 96,
     "metadata": {},
     "output_type": "execute_result"
    }
   ],
   "source": [
    "# Mean Absolute Error\n",
    "mean_absolute_error(y_true=y_test,\n",
    "                   y_pred=X_test_pred)"
   ]
  },
  {
   "cell_type": "markdown",
   "id": "dedicated-improvement",
   "metadata": {},
   "source": [
    "## Feature Importance"
   ]
  },
  {
   "cell_type": "code",
   "execution_count": 97,
   "id": "casual-coverage",
   "metadata": {},
   "outputs": [
    {
     "data": {
      "text/plain": [
       "<AxesSubplot:title={'center':'Feature importance'}, xlabel='F score', ylabel='Features'>"
      ]
     },
     "execution_count": 97,
     "metadata": {},
     "output_type": "execute_result"
    },
    {
     "data": {
      "image/png": "[encoded data removed]",
      "text/plain": [
       "<Figure size 432x288 with 1 Axes>"
      ]
     },
     "metadata": {
      "needs_background": "light"
     },
     "output_type": "display_data"
    }
   ],
   "source": [
    "xgb.plot_importance(reg, height=0.9)"
   ]
  },
  {
   "cell_type": "markdown",
   "id": "simplified-effect",
   "metadata": {},
   "source": [
    "## Forecast on Test Data"
   ]
  },
  {
   "cell_type": "code",
   "execution_count": 98,
   "id": "occupational-portal",
   "metadata": {},
   "outputs": [],
   "source": [
    "def plot_performance(base_data, date_from, date_to, title=None):\n",
    "    plt.figure(figsize=(15,3))\n",
    "    if title == None:\n",
    "        plt.title('From {0} To {1}'.format(date_from, date_to))\n",
    "    else:\n",
    "        plt.title(title)\n",
    "    plt.xlabel('time')\n",
    "    plt.ylabel('average daily deaths')\n",
    "    plt.plot(base_data.index, base_data, label='data')\n",
    "    plt.plot(X_test.index, X_test_pred, label='prediction')\n",
    "    plt.legend()\n",
    "    plt.xlim(left=date_from, right=date_to)"
   ]
  },
  {
   "cell_type": "code",
   "execution_count": 99,
   "id": "impressed-adjustment",
   "metadata": {},
   "outputs": [
    {
     "data": {
      "image/png": "[encoded data removed]",
      "text/plain": [
       "<Figure size 1080x216 with 1 Axes>"
      ]
     },
     "metadata": {
      "needs_background": "light"
     },
     "output_type": "display_data"
    },
    {
     "data": {
      "image/png": "[encoded data removed]",
      "text/plain": [
       "<Figure size 1080x216 with 1 Axes>"
      ]
     },
     "metadata": {
      "needs_background": "light"
     },
     "output_type": "display_data"
    }
   ],
   "source": [
    "plot_performance(\n",
    "    data[\"pred_deaths\"], \n",
    "    data.index[0].date(), \n",
    "    data.index[-1].date(),\n",
    "    'Original and Predicted Data'\n",
    ")\n",
    "\n",
    "plot_performance(\n",
    "    y_test, \n",
    "    y_test.index[0].date(), \n",
    "    y_test.index[-1].date(),\n",
    "    'Test and Predicted Data')\n",
    "\n",
    "plt.legend()\n",
    "plt.show()"
   ]
  },
  {
   "cell_type": "code",
   "execution_count": 100,
   "id": "antique-puppy",
   "metadata": {},
   "outputs": [],
   "source": [
    "# Peformance for 10 random weeks \n",
    "#random_weeks = X_test[['year', 'weekofyear']].sample(10)\n",
    "#for week in random_weeks.iterrows():\n",
    "#    index = (X_test.year == week[1].year) & \\\n",
    "#            (X_test.weekofyear == week[1].weekofyear)\n",
    "#    tmp = y_test[index]\n",
    "#    plot_performance(tmp, tmp.index[0].date(), tmp.index[-1].date())"
   ]
  },
  {
   "cell_type": "markdown",
   "id": "graduate-madrid",
   "metadata": {},
   "source": [
    "## Forecast the unknown"
   ]
  },
  {
   "cell_type": "code",
   "execution_count": 121,
   "id": "damaged-trailer",
   "metadata": {},
   "outputs": [],
   "source": [
    "def create_features2(df):\n",
    "    \"\"\"\n",
    "    Creates time series features from datetime index\n",
    "    \"\"\"\n",
    "    df['date'] = df.index\n",
    "    df['dayofweek'] = df['date'].dt.dayofweek\n",
    "    #df['quarter'] = df['date'].dt.quarter\n",
    "    #df['month'] = df['date'].dt.month\n",
    "    #df['year'] = df['date'].dt.year\n",
    "    #df['dayofyear'] = df['date'].dt.dayofyear\n",
    "    #df['dayofmonth'] = df['date'].dt.day\n",
    "    #df['weekofyear'] = df['date'].dt.weekofyear\n",
    "\n",
    "    return df.drop(['date'], axis=1)"
   ]
  },
  {
   "cell_type": "code",
   "execution_count": 130,
   "id": "facial-dallas",
   "metadata": {},
   "outputs": [
    {
     "data": {
      "text/html": [
       "<div>\n",
       "<style scoped>\n",
       "    .dataframe tbody tr th:only-of-type {\n",
       "        vertical-align: middle;\n",
       "    }\n",
       "\n",
       "    .dataframe tbody tr th {\n",
       "        vertical-align: top;\n",
       "    }\n",
       "\n",
       "    .dataframe thead th {\n",
       "        text-align: right;\n",
       "    }\n",
       "</style>\n",
       "<table border=\"1\" class=\"dataframe\">\n",
       "  <thead>\n",
       "    <tr style=\"text-align: right;\">\n",
       "      <th></th>\n",
       "      <th>t-t0</th>\n",
       "      <th>dayofweek</th>\n",
       "      <th>daily_deaths_off1</th>\n",
       "      <th>daily_deaths_off2</th>\n",
       "      <th>daily_deaths_off3</th>\n",
       "      <th>daily_deaths_off4</th>\n",
       "    </tr>\n",
       "    <tr>\n",
       "      <th>date</th>\n",
       "      <th></th>\n",
       "      <th></th>\n",
       "      <th></th>\n",
       "      <th></th>\n",
       "      <th></th>\n",
       "      <th></th>\n",
       "    </tr>\n",
       "  </thead>\n",
       "  <tbody>\n",
       "    <tr>\n",
       "      <th>2021-01-16</th>\n",
       "      <td>381</td>\n",
       "      <td>5</td>\n",
       "      <td>0.0</td>\n",
       "      <td>0.0</td>\n",
       "      <td>0.0</td>\n",
       "      <td>0.0</td>\n",
       "    </tr>\n",
       "  </tbody>\n",
       "</table>\n",
       "</div>"
      ],
      "text/plain": [
       "            t-t0  dayofweek  daily_deaths_off1  daily_deaths_off2  \\\n",
       "date                                                                \n",
       "2021-01-16   381          5                0.0                0.0   \n",
       "\n",
       "            daily_deaths_off3  daily_deaths_off4  \n",
       "date                                              \n",
       "2021-01-16                0.0                0.0  "
      ]
     },
     "execution_count": 130,
     "metadata": {},
     "output_type": "execute_result"
    }
   ],
   "source": [
    "X_future = pd.DataFrame({ \"date\": [X_test.index.max() + timedelta(days=1)]})\n",
    "X_future[\"origin\"] = pd.to_datetime(date(2020,1,1))\n",
    "X_future[\"t-t0\"] = (X_future[\"date\"] - X_future[\"origin\"]).dt.days\n",
    "X_future = X_future.drop(columns=['origin'])\n",
    "X_future = X_future.set_index('date')\n",
    "X_future = create_features2(X_future) \n",
    "\n",
    "X_future[\"daily_deaths_off1\"] = 0.00\n",
    "X_future[\"daily_deaths_off2\"] = 0.00\n",
    "X_future[\"daily_deaths_off3\"] = 0.00\n",
    "X_future[\"daily_deaths_off4\"] = 0.00\n",
    "\n",
    "\n",
    "X_future"
   ]
  },
  {
   "cell_type": "code",
   "execution_count": 123,
   "id": "aggregate-insured",
   "metadata": {},
   "outputs": [
    {
     "data": {
      "text/html": [
       "<div>\n",
       "<style scoped>\n",
       "    .dataframe tbody tr th:only-of-type {\n",
       "        vertical-align: middle;\n",
       "    }\n",
       "\n",
       "    .dataframe tbody tr th {\n",
       "        vertical-align: top;\n",
       "    }\n",
       "\n",
       "    .dataframe thead tr th {\n",
       "        text-align: left;\n",
       "    }\n",
       "\n",
       "    .dataframe thead tr:last-of-type th {\n",
       "        text-align: right;\n",
       "    }\n",
       "</style>\n",
       "<table border=\"1\" class=\"dataframe\">\n",
       "  <thead>\n",
       "    <tr>\n",
       "      <th></th>\n",
       "      <th>t-t0</th>\n",
       "      <th>dayofweek</th>\n",
       "      <th>daily_deaths_off1</th>\n",
       "      <th>daily_deaths_off2</th>\n",
       "      <th>daily_deaths_off3</th>\n",
       "      <th>daily_deaths_off4</th>\n",
       "    </tr>\n",
       "    <tr>\n",
       "      <th></th>\n",
       "      <th></th>\n",
       "      <th></th>\n",
       "      <th></th>\n",
       "      <th></th>\n",
       "      <th></th>\n",
       "      <th></th>\n",
       "    </tr>\n",
       "    <tr>\n",
       "      <th>date</th>\n",
       "      <th></th>\n",
       "      <th></th>\n",
       "      <th></th>\n",
       "      <th></th>\n",
       "      <th></th>\n",
       "      <th></th>\n",
       "    </tr>\n",
       "  </thead>\n",
       "  <tbody>\n",
       "    <tr>\n",
       "      <th>2021-01-12</th>\n",
       "      <td>377</td>\n",
       "      <td>1</td>\n",
       "      <td>147.750000</td>\n",
       "      <td>144.000000</td>\n",
       "      <td>142.464286</td>\n",
       "      <td>138.750000</td>\n",
       "    </tr>\n",
       "    <tr>\n",
       "      <th>2021-01-13</th>\n",
       "      <td>378</td>\n",
       "      <td>2</td>\n",
       "      <td>149.392857</td>\n",
       "      <td>147.750000</td>\n",
       "      <td>144.000000</td>\n",
       "      <td>142.464286</td>\n",
       "    </tr>\n",
       "    <tr>\n",
       "      <th>2021-01-14</th>\n",
       "      <td>379</td>\n",
       "      <td>3</td>\n",
       "      <td>152.071429</td>\n",
       "      <td>149.392857</td>\n",
       "      <td>147.750000</td>\n",
       "      <td>144.000000</td>\n",
       "    </tr>\n",
       "    <tr>\n",
       "      <th>2021-01-15</th>\n",
       "      <td>380</td>\n",
       "      <td>4</td>\n",
       "      <td>156.071429</td>\n",
       "      <td>152.071429</td>\n",
       "      <td>149.392857</td>\n",
       "      <td>147.750000</td>\n",
       "    </tr>\n",
       "  </tbody>\n",
       "</table>\n",
       "</div>"
      ],
      "text/plain": [
       "           t-t0 dayofweek daily_deaths_off1 daily_deaths_off2  \\\n",
       "                                                                \n",
       "date                                                            \n",
       "2021-01-12  377         1        147.750000        144.000000   \n",
       "2021-01-13  378         2        149.392857        147.750000   \n",
       "2021-01-14  379         3        152.071429        149.392857   \n",
       "2021-01-15  380         4        156.071429        152.071429   \n",
       "\n",
       "           daily_deaths_off3 daily_deaths_off4  \n",
       "                                                \n",
       "date                                            \n",
       "2021-01-12        142.464286        138.750000  \n",
       "2021-01-13        144.000000        142.464286  \n",
       "2021-01-14        147.750000        144.000000  \n",
       "2021-01-15        149.392857        147.750000  "
      ]
     },
     "execution_count": 123,
     "metadata": {},
     "output_type": "execute_result"
    }
   ],
   "source": [
    "X_test.tail(4)"
   ]
  },
  {
   "cell_type": "code",
   "execution_count": 140,
   "id": "instant-german",
   "metadata": {},
   "outputs": [
    {
     "ename": "AttributeError",
     "evalue": "'NoneType' object has no attribute 'is_extension'",
     "output_type": "error",
     "traceback": [
      "\u001b[0;31m---------------------------------------------------------------------------\u001b[0m",
      "\u001b[0;31mAttributeError\u001b[0m                            Traceback (most recent call last)",
      "\u001b[0;32m<ipython-input-140-a44564f0ca76>\u001b[0m in \u001b[0;36m<module>\u001b[0;34m\u001b[0m\n\u001b[0;32m----> 1\u001b[0;31m \u001b[0mpd\u001b[0m\u001b[0;34m.\u001b[0m\u001b[0mconcat\u001b[0m\u001b[0;34m(\u001b[0m\u001b[0;34m[\u001b[0m\u001b[0mX_test\u001b[0m\u001b[0;34m,\u001b[0m \u001b[0mX_future\u001b[0m\u001b[0;34m]\u001b[0m\u001b[0;34m)\u001b[0m\u001b[0;34m\u001b[0m\u001b[0;34m\u001b[0m\u001b[0m\n\u001b[0m",
      "\u001b[0;32m~/.conda/envs/moby/lib/python3.7/site-packages/pandas/core/reshape/concat.py\u001b[0m in \u001b[0;36mconcat\u001b[0;34m(objs, axis, join, ignore_index, keys, levels, names, verify_integrity, sort, copy)\u001b[0m\n\u001b[1;32m    285\u001b[0m     )\n\u001b[1;32m    286\u001b[0m \u001b[0;34m\u001b[0m\u001b[0m\n\u001b[0;32m--> 287\u001b[0;31m     \u001b[0;32mreturn\u001b[0m \u001b[0mop\u001b[0m\u001b[0;34m.\u001b[0m\u001b[0mget_result\u001b[0m\u001b[0;34m(\u001b[0m\u001b[0;34m)\u001b[0m\u001b[0;34m\u001b[0m\u001b[0;34m\u001b[0m\u001b[0m\n\u001b[0m\u001b[1;32m    288\u001b[0m \u001b[0;34m\u001b[0m\u001b[0m\n\u001b[1;32m    289\u001b[0m \u001b[0;34m\u001b[0m\u001b[0m\n",
      "\u001b[0;32m~/.conda/envs/moby/lib/python3.7/site-packages/pandas/core/reshape/concat.py\u001b[0m in \u001b[0;36mget_result\u001b[0;34m(self)\u001b[0m\n\u001b[1;32m    501\u001b[0m \u001b[0;34m\u001b[0m\u001b[0m\n\u001b[1;32m    502\u001b[0m             new_data = concatenate_block_managers(\n\u001b[0;32m--> 503\u001b[0;31m                 \u001b[0mmgrs_indexers\u001b[0m\u001b[0;34m,\u001b[0m \u001b[0mself\u001b[0m\u001b[0;34m.\u001b[0m\u001b[0mnew_axes\u001b[0m\u001b[0;34m,\u001b[0m \u001b[0mconcat_axis\u001b[0m\u001b[0;34m=\u001b[0m\u001b[0mself\u001b[0m\u001b[0;34m.\u001b[0m\u001b[0mbm_axis\u001b[0m\u001b[0;34m,\u001b[0m \u001b[0mcopy\u001b[0m\u001b[0;34m=\u001b[0m\u001b[0mself\u001b[0m\u001b[0;34m.\u001b[0m\u001b[0mcopy\u001b[0m\u001b[0;34m,\u001b[0m\u001b[0;34m\u001b[0m\u001b[0;34m\u001b[0m\u001b[0m\n\u001b[0m\u001b[1;32m    504\u001b[0m             )\n\u001b[1;32m    505\u001b[0m             \u001b[0;32mif\u001b[0m \u001b[0;32mnot\u001b[0m \u001b[0mself\u001b[0m\u001b[0;34m.\u001b[0m\u001b[0mcopy\u001b[0m\u001b[0;34m:\u001b[0m\u001b[0;34m\u001b[0m\u001b[0;34m\u001b[0m\u001b[0m\n",
      "\u001b[0;32m~/.conda/envs/moby/lib/python3.7/site-packages/pandas/core/internals/concat.py\u001b[0m in \u001b[0;36mconcatenate_block_managers\u001b[0;34m(mgrs_indexers, axes, concat_axis, copy)\u001b[0m\n\u001b[1;32m     62\u001b[0m                 \u001b[0mvalues\u001b[0m \u001b[0;34m=\u001b[0m \u001b[0mvalues\u001b[0m\u001b[0;34m.\u001b[0m\u001b[0mview\u001b[0m\u001b[0;34m(\u001b[0m\u001b[0;34m)\u001b[0m\u001b[0;34m\u001b[0m\u001b[0;34m\u001b[0m\u001b[0m\n\u001b[1;32m     63\u001b[0m             \u001b[0mb\u001b[0m \u001b[0;34m=\u001b[0m \u001b[0mb\u001b[0m\u001b[0;34m.\u001b[0m\u001b[0mmake_block_same_class\u001b[0m\u001b[0;34m(\u001b[0m\u001b[0mvalues\u001b[0m\u001b[0;34m,\u001b[0m \u001b[0mplacement\u001b[0m\u001b[0;34m=\u001b[0m\u001b[0mplacement\u001b[0m\u001b[0;34m)\u001b[0m\u001b[0;34m\u001b[0m\u001b[0;34m\u001b[0m\u001b[0m\n\u001b[0;32m---> 64\u001b[0;31m         \u001b[0;32melif\u001b[0m \u001b[0m_is_uniform_join_units\u001b[0m\u001b[0;34m(\u001b[0m\u001b[0mjoin_units\u001b[0m\u001b[0;34m)\u001b[0m\u001b[0;34m:\u001b[0m\u001b[0;34m\u001b[0m\u001b[0;34m\u001b[0m\u001b[0m\n\u001b[0m\u001b[1;32m     65\u001b[0m             \u001b[0mblk\u001b[0m \u001b[0;34m=\u001b[0m \u001b[0mjoin_units\u001b[0m\u001b[0;34m[\u001b[0m\u001b[0;36m0\u001b[0m\u001b[0;34m]\u001b[0m\u001b[0;34m.\u001b[0m\u001b[0mblock\u001b[0m\u001b[0;34m\u001b[0m\u001b[0;34m\u001b[0m\u001b[0m\n\u001b[1;32m     66\u001b[0m             \u001b[0mvals\u001b[0m \u001b[0;34m=\u001b[0m \u001b[0;34m[\u001b[0m\u001b[0mju\u001b[0m\u001b[0;34m.\u001b[0m\u001b[0mblock\u001b[0m\u001b[0;34m.\u001b[0m\u001b[0mvalues\u001b[0m \u001b[0;32mfor\u001b[0m \u001b[0mju\u001b[0m \u001b[0;32min\u001b[0m \u001b[0mjoin_units\u001b[0m\u001b[0;34m]\u001b[0m\u001b[0;34m\u001b[0m\u001b[0;34m\u001b[0m\u001b[0m\n",
      "\u001b[0;32m~/.conda/envs/moby/lib/python3.7/site-packages/pandas/core/internals/concat.py\u001b[0m in \u001b[0;36m_is_uniform_join_units\u001b[0;34m(join_units)\u001b[0m\n\u001b[1;32m    478\u001b[0m         \u001b[0;31m# no blocks that would get missing values (can lead to type upcasts)\u001b[0m\u001b[0;34m\u001b[0m\u001b[0;34m\u001b[0m\u001b[0;34m\u001b[0m\u001b[0m\n\u001b[1;32m    479\u001b[0m         \u001b[0;31m# unless we're an extension dtype.\u001b[0m\u001b[0;34m\u001b[0m\u001b[0;34m\u001b[0m\u001b[0;34m\u001b[0m\u001b[0m\n\u001b[0;32m--> 480\u001b[0;31m         \u001b[0mall\u001b[0m\u001b[0;34m(\u001b[0m\u001b[0;32mnot\u001b[0m \u001b[0mju\u001b[0m\u001b[0;34m.\u001b[0m\u001b[0mis_na\u001b[0m \u001b[0;32mor\u001b[0m \u001b[0mju\u001b[0m\u001b[0;34m.\u001b[0m\u001b[0mblock\u001b[0m\u001b[0;34m.\u001b[0m\u001b[0mis_extension\u001b[0m \u001b[0;32mfor\u001b[0m \u001b[0mju\u001b[0m \u001b[0;32min\u001b[0m \u001b[0mjoin_units\u001b[0m\u001b[0;34m)\u001b[0m\u001b[0;34m\u001b[0m\u001b[0;34m\u001b[0m\u001b[0m\n\u001b[0m\u001b[1;32m    481\u001b[0m         \u001b[0;32mand\u001b[0m\u001b[0;34m\u001b[0m\u001b[0;34m\u001b[0m\u001b[0m\n\u001b[1;32m    482\u001b[0m         \u001b[0;31m# no blocks with indexers (as then the dimensions do not fit)\u001b[0m\u001b[0;34m\u001b[0m\u001b[0;34m\u001b[0m\u001b[0;34m\u001b[0m\u001b[0m\n",
      "\u001b[0;32m~/.conda/envs/moby/lib/python3.7/site-packages/pandas/core/internals/concat.py\u001b[0m in \u001b[0;36m<genexpr>\u001b[0;34m(.0)\u001b[0m\n\u001b[1;32m    478\u001b[0m         \u001b[0;31m# no blocks that would get missing values (can lead to type upcasts)\u001b[0m\u001b[0;34m\u001b[0m\u001b[0;34m\u001b[0m\u001b[0;34m\u001b[0m\u001b[0m\n\u001b[1;32m    479\u001b[0m         \u001b[0;31m# unless we're an extension dtype.\u001b[0m\u001b[0;34m\u001b[0m\u001b[0;34m\u001b[0m\u001b[0;34m\u001b[0m\u001b[0m\n\u001b[0;32m--> 480\u001b[0;31m         \u001b[0mall\u001b[0m\u001b[0;34m(\u001b[0m\u001b[0;32mnot\u001b[0m \u001b[0mju\u001b[0m\u001b[0;34m.\u001b[0m\u001b[0mis_na\u001b[0m \u001b[0;32mor\u001b[0m \u001b[0mju\u001b[0m\u001b[0;34m.\u001b[0m\u001b[0mblock\u001b[0m\u001b[0;34m.\u001b[0m\u001b[0mis_extension\u001b[0m \u001b[0;32mfor\u001b[0m \u001b[0mju\u001b[0m \u001b[0;32min\u001b[0m \u001b[0mjoin_units\u001b[0m\u001b[0;34m)\u001b[0m\u001b[0;34m\u001b[0m\u001b[0;34m\u001b[0m\u001b[0m\n\u001b[0m\u001b[1;32m    481\u001b[0m         \u001b[0;32mand\u001b[0m\u001b[0;34m\u001b[0m\u001b[0;34m\u001b[0m\u001b[0m\n\u001b[1;32m    482\u001b[0m         \u001b[0;31m# no blocks with indexers (as then the dimensions do not fit)\u001b[0m\u001b[0;34m\u001b[0m\u001b[0;34m\u001b[0m\u001b[0;34m\u001b[0m\u001b[0m\n",
      "\u001b[0;31mAttributeError\u001b[0m: 'NoneType' object has no attribute 'is_extension'"
     ]
    }
   ],
   "source": [
    "pd.concat([X_test, X_future])"
   ]
  },
  {
   "cell_type": "code",
   "execution_count": 126,
   "id": "together-member",
   "metadata": {},
   "outputs": [
    {
     "name": "stderr",
     "output_type": "stream",
     "text": [
      "/home/james/.conda/envs/moby/lib/python3.7/site-packages/pandas/core/indexes/multi.py:3366: RuntimeWarning: The values in the array are unorderable. Pass `sort=False` to suppress this warning.\n",
      "  uniq_tuples = lib.fast_unique_multiple([self._values, other._values], sort=sort)\n"
     ]
    },
    {
     "ename": "AttributeError",
     "evalue": "'NoneType' object has no attribute 'is_extension'",
     "output_type": "error",
     "traceback": [
      "\u001b[0;31m---------------------------------------------------------------------------\u001b[0m",
      "\u001b[0;31mAttributeError\u001b[0m                            Traceback (most recent call last)",
      "\u001b[0;32m<ipython-input-126-1aeaaed1bcd4>\u001b[0m in \u001b[0;36m<module>\u001b[0;34m\u001b[0m\n\u001b[1;32m      7\u001b[0m \u001b[0mX_future\u001b[0m \u001b[0;34m=\u001b[0m \u001b[0mX_future\u001b[0m\u001b[0;34m.\u001b[0m\u001b[0mset_index\u001b[0m\u001b[0;34m(\u001b[0m\u001b[0;34m'date'\u001b[0m\u001b[0;34m)\u001b[0m\u001b[0;34m\u001b[0m\u001b[0;34m\u001b[0m\u001b[0m\n\u001b[1;32m      8\u001b[0m \u001b[0mX_future\u001b[0m \u001b[0;34m=\u001b[0m \u001b[0mcreate_features2\u001b[0m\u001b[0;34m(\u001b[0m\u001b[0mX_future\u001b[0m\u001b[0;34m)\u001b[0m\u001b[0;34m\u001b[0m\u001b[0;34m\u001b[0m\u001b[0m\n\u001b[0;32m----> 9\u001b[0;31m \u001b[0mX_future\u001b[0m \u001b[0;34m=\u001b[0m \u001b[0mX_test\u001b[0m\u001b[0;34m.\u001b[0m\u001b[0mtail\u001b[0m\u001b[0;34m(\u001b[0m\u001b[0;36m4\u001b[0m\u001b[0;34m)\u001b[0m\u001b[0;34m.\u001b[0m\u001b[0mappend\u001b[0m\u001b[0;34m(\u001b[0m\u001b[0mX_future\u001b[0m\u001b[0;34m)\u001b[0m\u001b[0;34m\u001b[0m\u001b[0;34m\u001b[0m\u001b[0m\n\u001b[0m\u001b[1;32m     10\u001b[0m \u001b[0my_forecast\u001b[0m \u001b[0;34m=\u001b[0m \u001b[0my_test\u001b[0m\u001b[0;34m[\u001b[0m\u001b[0;34m-\u001b[0m\u001b[0;36m4\u001b[0m\u001b[0;34m:\u001b[0m\u001b[0;34m]\u001b[0m\u001b[0;34m.\u001b[0m\u001b[0mto_list\u001b[0m\u001b[0;34m(\u001b[0m\u001b[0;34m)\u001b[0m\u001b[0;34m\u001b[0m\u001b[0;34m\u001b[0m\u001b[0m\n\u001b[1;32m     11\u001b[0m \u001b[0;34m\u001b[0m\u001b[0m\n",
      "\u001b[0;32m~/.conda/envs/moby/lib/python3.7/site-packages/pandas/core/frame.py\u001b[0m in \u001b[0;36mappend\u001b[0;34m(self, other, ignore_index, verify_integrity, sort)\u001b[0m\n\u001b[1;32m   7745\u001b[0m             \u001b[0mignore_index\u001b[0m\u001b[0;34m=\u001b[0m\u001b[0mignore_index\u001b[0m\u001b[0;34m,\u001b[0m\u001b[0;34m\u001b[0m\u001b[0;34m\u001b[0m\u001b[0m\n\u001b[1;32m   7746\u001b[0m             \u001b[0mverify_integrity\u001b[0m\u001b[0;34m=\u001b[0m\u001b[0mverify_integrity\u001b[0m\u001b[0;34m,\u001b[0m\u001b[0;34m\u001b[0m\u001b[0;34m\u001b[0m\u001b[0m\n\u001b[0;32m-> 7747\u001b[0;31m             \u001b[0msort\u001b[0m\u001b[0;34m=\u001b[0m\u001b[0msort\u001b[0m\u001b[0;34m,\u001b[0m\u001b[0;34m\u001b[0m\u001b[0;34m\u001b[0m\u001b[0m\n\u001b[0m\u001b[1;32m   7748\u001b[0m         )\n\u001b[1;32m   7749\u001b[0m \u001b[0;34m\u001b[0m\u001b[0m\n",
      "\u001b[0;32m~/.conda/envs/moby/lib/python3.7/site-packages/pandas/core/reshape/concat.py\u001b[0m in \u001b[0;36mconcat\u001b[0;34m(objs, axis, join, ignore_index, keys, levels, names, verify_integrity, sort, copy)\u001b[0m\n\u001b[1;32m    285\u001b[0m     )\n\u001b[1;32m    286\u001b[0m \u001b[0;34m\u001b[0m\u001b[0m\n\u001b[0;32m--> 287\u001b[0;31m     \u001b[0;32mreturn\u001b[0m \u001b[0mop\u001b[0m\u001b[0;34m.\u001b[0m\u001b[0mget_result\u001b[0m\u001b[0;34m(\u001b[0m\u001b[0;34m)\u001b[0m\u001b[0;34m\u001b[0m\u001b[0;34m\u001b[0m\u001b[0m\n\u001b[0m\u001b[1;32m    288\u001b[0m \u001b[0;34m\u001b[0m\u001b[0m\n\u001b[1;32m    289\u001b[0m \u001b[0;34m\u001b[0m\u001b[0m\n",
      "\u001b[0;32m~/.conda/envs/moby/lib/python3.7/site-packages/pandas/core/reshape/concat.py\u001b[0m in \u001b[0;36mget_result\u001b[0;34m(self)\u001b[0m\n\u001b[1;32m    501\u001b[0m \u001b[0;34m\u001b[0m\u001b[0m\n\u001b[1;32m    502\u001b[0m             new_data = concatenate_block_managers(\n\u001b[0;32m--> 503\u001b[0;31m                 \u001b[0mmgrs_indexers\u001b[0m\u001b[0;34m,\u001b[0m \u001b[0mself\u001b[0m\u001b[0;34m.\u001b[0m\u001b[0mnew_axes\u001b[0m\u001b[0;34m,\u001b[0m \u001b[0mconcat_axis\u001b[0m\u001b[0;34m=\u001b[0m\u001b[0mself\u001b[0m\u001b[0;34m.\u001b[0m\u001b[0mbm_axis\u001b[0m\u001b[0;34m,\u001b[0m \u001b[0mcopy\u001b[0m\u001b[0;34m=\u001b[0m\u001b[0mself\u001b[0m\u001b[0;34m.\u001b[0m\u001b[0mcopy\u001b[0m\u001b[0;34m,\u001b[0m\u001b[0;34m\u001b[0m\u001b[0;34m\u001b[0m\u001b[0m\n\u001b[0m\u001b[1;32m    504\u001b[0m             )\n\u001b[1;32m    505\u001b[0m             \u001b[0;32mif\u001b[0m \u001b[0;32mnot\u001b[0m \u001b[0mself\u001b[0m\u001b[0;34m.\u001b[0m\u001b[0mcopy\u001b[0m\u001b[0;34m:\u001b[0m\u001b[0;34m\u001b[0m\u001b[0;34m\u001b[0m\u001b[0m\n",
      "\u001b[0;32m~/.conda/envs/moby/lib/python3.7/site-packages/pandas/core/internals/concat.py\u001b[0m in \u001b[0;36mconcatenate_block_managers\u001b[0;34m(mgrs_indexers, axes, concat_axis, copy)\u001b[0m\n\u001b[1;32m     62\u001b[0m                 \u001b[0mvalues\u001b[0m \u001b[0;34m=\u001b[0m \u001b[0mvalues\u001b[0m\u001b[0;34m.\u001b[0m\u001b[0mview\u001b[0m\u001b[0;34m(\u001b[0m\u001b[0;34m)\u001b[0m\u001b[0;34m\u001b[0m\u001b[0;34m\u001b[0m\u001b[0m\n\u001b[1;32m     63\u001b[0m             \u001b[0mb\u001b[0m \u001b[0;34m=\u001b[0m \u001b[0mb\u001b[0m\u001b[0;34m.\u001b[0m\u001b[0mmake_block_same_class\u001b[0m\u001b[0;34m(\u001b[0m\u001b[0mvalues\u001b[0m\u001b[0;34m,\u001b[0m \u001b[0mplacement\u001b[0m\u001b[0;34m=\u001b[0m\u001b[0mplacement\u001b[0m\u001b[0;34m)\u001b[0m\u001b[0;34m\u001b[0m\u001b[0;34m\u001b[0m\u001b[0m\n\u001b[0;32m---> 64\u001b[0;31m         \u001b[0;32melif\u001b[0m \u001b[0m_is_uniform_join_units\u001b[0m\u001b[0;34m(\u001b[0m\u001b[0mjoin_units\u001b[0m\u001b[0;34m)\u001b[0m\u001b[0;34m:\u001b[0m\u001b[0;34m\u001b[0m\u001b[0;34m\u001b[0m\u001b[0m\n\u001b[0m\u001b[1;32m     65\u001b[0m             \u001b[0mblk\u001b[0m \u001b[0;34m=\u001b[0m \u001b[0mjoin_units\u001b[0m\u001b[0;34m[\u001b[0m\u001b[0;36m0\u001b[0m\u001b[0;34m]\u001b[0m\u001b[0;34m.\u001b[0m\u001b[0mblock\u001b[0m\u001b[0;34m\u001b[0m\u001b[0;34m\u001b[0m\u001b[0m\n\u001b[1;32m     66\u001b[0m             \u001b[0mvals\u001b[0m \u001b[0;34m=\u001b[0m \u001b[0;34m[\u001b[0m\u001b[0mju\u001b[0m\u001b[0;34m.\u001b[0m\u001b[0mblock\u001b[0m\u001b[0;34m.\u001b[0m\u001b[0mvalues\u001b[0m \u001b[0;32mfor\u001b[0m \u001b[0mju\u001b[0m \u001b[0;32min\u001b[0m \u001b[0mjoin_units\u001b[0m\u001b[0;34m]\u001b[0m\u001b[0;34m\u001b[0m\u001b[0;34m\u001b[0m\u001b[0m\n",
      "\u001b[0;32m~/.conda/envs/moby/lib/python3.7/site-packages/pandas/core/internals/concat.py\u001b[0m in \u001b[0;36m_is_uniform_join_units\u001b[0;34m(join_units)\u001b[0m\n\u001b[1;32m    478\u001b[0m         \u001b[0;31m# no blocks that would get missing values (can lead to type upcasts)\u001b[0m\u001b[0;34m\u001b[0m\u001b[0;34m\u001b[0m\u001b[0;34m\u001b[0m\u001b[0m\n\u001b[1;32m    479\u001b[0m         \u001b[0;31m# unless we're an extension dtype.\u001b[0m\u001b[0;34m\u001b[0m\u001b[0;34m\u001b[0m\u001b[0;34m\u001b[0m\u001b[0m\n\u001b[0;32m--> 480\u001b[0;31m         \u001b[0mall\u001b[0m\u001b[0;34m(\u001b[0m\u001b[0;32mnot\u001b[0m \u001b[0mju\u001b[0m\u001b[0;34m.\u001b[0m\u001b[0mis_na\u001b[0m \u001b[0;32mor\u001b[0m \u001b[0mju\u001b[0m\u001b[0;34m.\u001b[0m\u001b[0mblock\u001b[0m\u001b[0;34m.\u001b[0m\u001b[0mis_extension\u001b[0m \u001b[0;32mfor\u001b[0m \u001b[0mju\u001b[0m \u001b[0;32min\u001b[0m \u001b[0mjoin_units\u001b[0m\u001b[0;34m)\u001b[0m\u001b[0;34m\u001b[0m\u001b[0;34m\u001b[0m\u001b[0m\n\u001b[0m\u001b[1;32m    481\u001b[0m         \u001b[0;32mand\u001b[0m\u001b[0;34m\u001b[0m\u001b[0;34m\u001b[0m\u001b[0m\n\u001b[1;32m    482\u001b[0m         \u001b[0;31m# no blocks with indexers (as then the dimensions do not fit)\u001b[0m\u001b[0;34m\u001b[0m\u001b[0;34m\u001b[0m\u001b[0;34m\u001b[0m\u001b[0m\n",
      "\u001b[0;32m~/.conda/envs/moby/lib/python3.7/site-packages/pandas/core/internals/concat.py\u001b[0m in \u001b[0;36m<genexpr>\u001b[0;34m(.0)\u001b[0m\n\u001b[1;32m    478\u001b[0m         \u001b[0;31m# no blocks that would get missing values (can lead to type upcasts)\u001b[0m\u001b[0;34m\u001b[0m\u001b[0;34m\u001b[0m\u001b[0;34m\u001b[0m\u001b[0m\n\u001b[1;32m    479\u001b[0m         \u001b[0;31m# unless we're an extension dtype.\u001b[0m\u001b[0;34m\u001b[0m\u001b[0;34m\u001b[0m\u001b[0;34m\u001b[0m\u001b[0m\n\u001b[0;32m--> 480\u001b[0;31m         \u001b[0mall\u001b[0m\u001b[0;34m(\u001b[0m\u001b[0;32mnot\u001b[0m \u001b[0mju\u001b[0m\u001b[0;34m.\u001b[0m\u001b[0mis_na\u001b[0m \u001b[0;32mor\u001b[0m \u001b[0mju\u001b[0m\u001b[0;34m.\u001b[0m\u001b[0mblock\u001b[0m\u001b[0;34m.\u001b[0m\u001b[0mis_extension\u001b[0m \u001b[0;32mfor\u001b[0m \u001b[0mju\u001b[0m \u001b[0;32min\u001b[0m \u001b[0mjoin_units\u001b[0m\u001b[0;34m)\u001b[0m\u001b[0;34m\u001b[0m\u001b[0;34m\u001b[0m\u001b[0m\n\u001b[0m\u001b[1;32m    481\u001b[0m         \u001b[0;32mand\u001b[0m\u001b[0;34m\u001b[0m\u001b[0;34m\u001b[0m\u001b[0m\n\u001b[1;32m    482\u001b[0m         \u001b[0;31m# no blocks with indexers (as then the dimensions do not fit)\u001b[0m\u001b[0;34m\u001b[0m\u001b[0;34m\u001b[0m\u001b[0;34m\u001b[0m\u001b[0m\n",
      "\u001b[0;31mAttributeError\u001b[0m: 'NoneType' object has no attribute 'is_extension'"
     ]
    }
   ],
   "source": [
    "# Initialize loop\n",
    "X_future = pd.DataFrame({ \"date\": [X_test.index.max() + timedelta(days=1)]})\n",
    "# Time from 1/1/2020\n",
    "X_future[\"origin\"] = pd.to_datetime(date(2020,1,1))\n",
    "X_future[\"t-t0\"] = (X_future[\"date\"] - X_future[\"origin\"]).dt.days\n",
    "X_future = X_future.drop(columns=['origin'])\n",
    "X_future = X_future.set_index('date')\n",
    "X_future = create_features2(X_future) \n",
    "X_future = X_test.tail(4).append(X_future)\n",
    "y_forecast = y_test[-4:].to_list()\n",
    "\n",
    "# Add rows from prior data\n",
    "X_future.iloc[-1, X_future.columns.get_loc(\"daily_deaths_off1\")] = y_test[-1]\n",
    "X_future.iloc[-1, X_future.columns.get_loc(\"daily_deaths_off2\")] = y_test[-2]\n",
    "X_future.iloc[-1, X_future.columns.get_loc(\"daily_deaths_off3\")] = y_test[-3]\n",
    "X_future.iloc[-1, X_future.columns.get_loc(\"daily_deaths_off4\")] = y_test[-4]\n",
    "\n",
    "X_forecast = X_future\n",
    "y_forecast.append(reg.predict(X_future)[0])"
   ]
  },
  {
   "cell_type": "code",
   "execution_count": null,
   "id": "dutch-wireless",
   "metadata": {},
   "outputs": [],
   "source": [
    "# Forcast the next n days\n",
    "forecast_days = 100\n",
    "for i in range(forecast_days):\n",
    "    X_future = pd.DataFrame({ \"date\": [X_future.index.max() + timedelta(days=1)]  })\n",
    "    \n",
    "     # Time from 1/1/2020\n",
    "    X_future[\"origin\"] = pd.to_datetime(date(2020,1,1))\n",
    "    X_future[\"t-t0\"] = (X_future[\"date\"] - X_future[\"origin\"]).dt.days\n",
    "    X_future = X_future.drop(columns=['origin'])\n",
    "    \n",
    "    X_future = X_future.set_index('date')\n",
    "    X_future = create_features2(X_future) \n",
    "    \n",
    "    # Add rows from prior forecast\n",
    "    X_future['daily_deaths_off1'] = y_forecast[-1]\n",
    "    X_future['daily_deaths_off2'] = y_forecast[-2]\n",
    "    X_future['daily_deaths_off3'] = y_forecast[-3]\n",
    "    X_future['daily_deaths_off4'] = y_forecast[-4]\n",
    "    \n",
    "   \n",
    "\n",
    "    X_forecast = X_forecast.append(X_future)\n",
    "    y_forecast.append(reg.predict(X_future)[0])"
   ]
  },
  {
   "cell_type": "code",
   "execution_count": null,
   "id": "removed-development",
   "metadata": {},
   "outputs": [],
   "source": [
    "plot_performance(\n",
    "    data[\"pred_deaths\"], \n",
    "    data.index[-1].date() - timedelta(days=forecast_days), \n",
    "    data.index[-1].date() + timedelta(days=forecast_days),\n",
    "    'Projection'\n",
    ")\n",
    "\n",
    "plt.plot(X_forecast.index, y_forecast, label='forecast')\n",
    "plt.axvline(x=data.index[-1].date(), color='grey', linestyle='--')\n",
    "plt.legend()\n",
    "plt.show()"
   ]
  },
  {
   "cell_type": "code",
   "execution_count": null,
   "id": "undefined-oxygen",
   "metadata": {},
   "outputs": [],
   "source": [
    "# Need to seed some earlier dates so longer projection periods do not truncate early data\n",
    "# Add holidays\n",
    "# Add predicting a given county using another counties rates\n",
    "# Try predicting cumulative, or cumulative per 100k"
   ]
  }
 ],
 "metadata": {
  "kernelspec": {
   "display_name": "Python 3",
   "language": "python",
   "name": "python3"
  },
  "language_info": {
   "codemirror_mode": {
    "name": "ipython",
    "version": 3
   },
   "file_extension": ".py",
   "mimetype": "text/x-python",
   "name": "python",
   "nbconvert_exporter": "python",
   "pygments_lexer": "ipython3",
   "version": "3.7.9"
  }
 },
 "nbformat": 4,
 "nbformat_minor": 5
}
