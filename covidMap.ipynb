{
 "cells": [
  {
   "cell_type": "markdown",
   "metadata": {},
   "source": [
    "# Covid Geographic Visualizations"
   ]
  },
  {
   "cell_type": "code",
   "execution_count": 1,
   "metadata": {},
   "outputs": [],
   "source": [
    "import pandas as pd\n",
    "import pickle\n",
    "import cartopy.crs as ccrs\n",
    "import cartopy.feature as cfeature\n",
    "import cartopy.io.shapereader as shpreader\n",
    "import matplotlib.pyplot as plt\n",
    "from datetime import datetime"
   ]
  },
  {
   "cell_type": "markdown",
   "metadata": {},
   "source": [
    "#### Import Data"
   ]
  },
  {
   "cell_type": "code",
   "execution_count": 2,
   "metadata": {},
   "outputs": [],
   "source": [
    "with open('covid_data.p', 'rb') as f:\n",
    "    data = pickle.load(f)"
   ]
  },
  {
   "cell_type": "markdown",
   "metadata": {},
   "source": [
    "#### Feature Engineering"
   ]
  },
  {
   "cell_type": "code",
   "execution_count": 3,
   "metadata": {},
   "outputs": [],
   "source": [
    "def engineerFeatures(df):\n",
    "    df = df[df.deaths_cdc > 0]\n",
    "    df = df.dropna(subset=['lat_ea','long_ea'])\n",
    "    df.lat_ea = pd.to_numeric(df.lat_ea)\n",
    "    df.long_ea = pd.to_numeric(df.long_ea)\n",
    "    \n",
    "    df[\"deaths_per_100k_ave7\"]=df.deaths_per_100k.rolling(window=7).mean()\n",
    "    df[\"deaths_per_100k_ave14\"]=df.deaths_per_100k.rolling(window=14).mean()\n",
    "    df[\"deaths_per_100k_ave21\"]=df.deaths_per_100k.rolling(window=21).mean()\n",
    "    \n",
    "    df[\"daily_deaths_per_100k\"]=df.deaths_per_100k.diff()\n",
    "    df[\"daily_deaths_per_100k_ave7\"]=df.deaths_per_100k.diff().rolling(window=7).mean()\n",
    "    df[\"daily_deaths_per_100k_ave14\"]=df.deaths_per_100k.diff().rolling(window=14).mean()\n",
    "    df[\"daily_deaths_per_100k_ave30\"]=df.deaths_per_100k.diff().rolling(window=30).mean()\n",
    "    \n",
    "    col = df[[\"retail_and_recreation_percent_change_from_baseline_goog_cnty\",\n",
    "                    \"workplaces_percent_change_from_baseline_goog_cnty\"]].apply(pd.to_numeric)\n",
    "    df['mobility_change'] = col.mean(axis=1)\n",
    "    \n",
    "    df['mobility_change_ave7'] = df['mobility_change'].rolling(window=7).mean()\n",
    "    df['mobility_change_ave14'] = df['mobility_change'].rolling(window=14).mean()\n",
    "    df['mobility_change_ave30'] = df['mobility_change'].rolling(window=30).mean()+100\n",
    "    \n",
    "    df=df.dropna(subset=[\n",
    "        #'deaths_per_100k',\n",
    "        #'deaths_per_100k_ave7',\n",
    "        'deaths_per_100k_ave14',\n",
    "        #'deaths_per_100k_ave21',\n",
    "        #'daily_deaths_per_100k',\n",
    "        #'daily_deaths_per_100k_ave7',\n",
    "        #'daily_deaths_per_100k_ave14',\n",
    "        'daily_deaths_per_100k_ave30',\n",
    "        #'mobility_change','mobility_change_ave7','mobility_change_ave14','mobility_change_ave30'\n",
    "    ])\n",
    "    \n",
    "    return df"
   ]
  },
  {
   "cell_type": "code",
   "execution_count": 4,
   "metadata": {},
   "outputs": [],
   "source": [
    "data = engineerFeatures(data)"
   ]
  },
  {
   "cell_type": "code",
   "execution_count": 5,
   "metadata": {},
   "outputs": [],
   "source": [
    "def plotMap(df, metric, dt, cmap='Reds', min_death_count = 50, scale_factor=100, outfile=\"img/test.jpg\",\n",
    "           area = [-125, -65, 25, 47], dpi=40):\n",
    "    \n",
    "    df = df[df.date == dt]\n",
    "    df = df[df.deaths_cdc >= min_death_count]\n",
    "    df = df[df[metric] > 0]\n",
    "    \n",
    "    fig = plt.figure(figsize=(20, 10))\n",
    "   \n",
    "    ax = plt.axes(projection=ccrs.PlateCarree())\n",
    "    ax.set_title(\"Date: \" + str(dt) + \"  -  \" + datetime.strptime(dt, \"%Y-%m-%d\").strftime(\"%B\"))\n",
    "\n",
    "    ax.add_feature(cfeature.LAND.with_scale('50m'), color=\"black\", alpha=0.8)\n",
    "    ax.add_feature(cfeature.OCEAN.with_scale('50m'), color=\"black\", alpha=0.9)\n",
    "    ax.add_feature(cfeature.LAKES.with_scale('50m'), color=\"black\", alpha=0.1)\n",
    "    ax.add_feature(cfeature.STATES.with_scale('50m'))\n",
    "\n",
    "    plt.scatter(x=df.long_ea, y=df.lat_ea, \n",
    "                c=df[metric]*scale_factor,\n",
    "                cmap=cmap,\n",
    "                s=df[metric]*scale_factor,\n",
    "                alpha=0.5)\n",
    "\n",
    "    ax.coastlines('50m')\n",
    "\n",
    "    ax.set_extent(area)\n",
    "    \n",
    "    fig.savefig(outfile, bbox_inches='tight', dpi=dpi)\n",
    "    plt.close(fig)"
   ]
  },
  {
   "cell_type": "code",
   "execution_count": 6,
   "metadata": {},
   "outputs": [],
   "source": [
    "def createImages(folder, metric, scale_factor, testmode=False, area = [-125, -65, 25, 47], dpi=40, min_death_count=15):\n",
    "    i=0\n",
    "    dates = pd.to_datetime(data['date'].sort_values()).dt.date.unique()\n",
    "    for d in dates:\n",
    "        outfile = folder +'/'+ str(i) + '_img.jpg'\n",
    "        plotMap(data, \n",
    "                metric=metric, \n",
    "                dt=d.strftime(\"%Y-%m-%d\"), \n",
    "                cmap='Reds', \n",
    "                min_death_count=min_death_count, \n",
    "                scale_factor=scale_factor, \n",
    "                outfile=outfile,\n",
    "                area=area,\n",
    "                dpi=dpi)\n",
    "        i+=1\n",
    "        if testmode:\n",
    "            break\n",
    "    return"
   ]
  },
  {
   "cell_type": "code",
   "execution_count": 7,
   "metadata": {},
   "outputs": [],
   "source": [
    "createImages('img1','deaths_cdc', 3)"
   ]
  },
  {
   "cell_type": "code",
   "execution_count": 8,
   "metadata": {},
   "outputs": [],
   "source": [
    "createImages('img2','deaths_per_100k_ave14', 7)"
   ]
  },
  {
   "cell_type": "code",
   "execution_count": 9,
   "metadata": {},
   "outputs": [],
   "source": [
    "createImages('img3','mobility_change_ave30', 3, min_death_count=0)"
   ]
  },
  {
   "cell_type": "code",
   "execution_count": 10,
   "metadata": {},
   "outputs": [],
   "source": [
    "createImages('img4','daily_deaths_per_100k_ave30', 350)"
   ]
  },
  {
   "cell_type": "code",
   "execution_count": null,
   "metadata": {},
   "outputs": [],
   "source": []
  },
  {
   "cell_type": "code",
   "execution_count": 11,
   "metadata": {},
   "outputs": [],
   "source": [
    "# Northeast\n",
    "createImages('img5','deaths_per_100k_ave14', 10, area = [-81, -67, 38, 48], dpi = 70)"
   ]
  },
  {
   "cell_type": "code",
   "execution_count": 12,
   "metadata": {},
   "outputs": [],
   "source": [
    "# Northeast\n",
    "createImages('img6','daily_deaths_per_100k_ave30', 150, area = [-81, -67, 38, 48], dpi = 70)"
   ]
  },
  {
   "cell_type": "code",
   "execution_count": null,
   "metadata": {},
   "outputs": [],
   "source": []
  },
  {
   "cell_type": "code",
   "execution_count": 13,
   "metadata": {},
   "outputs": [],
   "source": [
    "# Southeast\n",
    "createImages('img7','deaths_per_100k_ave14', 10, area = [-95, -75, 25, 38], dpi = 70)"
   ]
  },
  {
   "cell_type": "code",
   "execution_count": 14,
   "metadata": {},
   "outputs": [],
   "source": [
    "# Southeast\n",
    "createImages('img8','daily_deaths_per_100k_ave30', 150, area = [-95, -75, 25, 38], dpi = 70)"
   ]
  },
  {
   "cell_type": "code",
   "execution_count": null,
   "metadata": {},
   "outputs": [],
   "source": []
  },
  {
   "cell_type": "code",
   "execution_count": 15,
   "metadata": {},
   "outputs": [],
   "source": [
    "# Mid West\n",
    "createImages('img9','deaths_per_100k_ave14', 10, area = [-105, -80, 36, 48], dpi = 70)"
   ]
  },
  {
   "cell_type": "code",
   "execution_count": 16,
   "metadata": {},
   "outputs": [],
   "source": [
    "# Mid West\n",
    "createImages('img10','daily_deaths_per_100k_ave30', 150, area = [-105, -80, 36, 48], dpi = 70)"
   ]
  },
  {
   "cell_type": "code",
   "execution_count": null,
   "metadata": {},
   "outputs": [],
   "source": []
  },
  {
   "cell_type": "code",
   "execution_count": 17,
   "metadata": {},
   "outputs": [],
   "source": [
    "# West\n",
    "createImages('img11','deaths_per_100k_ave14', 10, area = [-125, -104, 30, 50], dpi = 70)"
   ]
  },
  {
   "cell_type": "code",
   "execution_count": 18,
   "metadata": {},
   "outputs": [],
   "source": [
    "# West\n",
    "createImages('img12','daily_deaths_per_100k_ave30', 150, area = [-125, -104, 30, 50], dpi = 70)"
   ]
  },
  {
   "cell_type": "code",
   "execution_count": null,
   "metadata": {},
   "outputs": [],
   "source": []
  },
  {
   "cell_type": "code",
   "execution_count": 19,
   "metadata": {},
   "outputs": [],
   "source": [
    "# Texas\n",
    "createImages('img13','deaths_per_100k_ave14', 10, area = [-107, -89, 25.7, 41], dpi = 70)"
   ]
  },
  {
   "cell_type": "code",
   "execution_count": 20,
   "metadata": {},
   "outputs": [],
   "source": [
    "# Texas\n",
    "createImages('img14','daily_deaths_per_100k_ave30', 150, area = [-107, -89, 25.7, 41], dpi = 70)"
   ]
  }
 ],
 "metadata": {
  "kernelspec": {
   "display_name": "Python 3",
   "language": "python",
   "name": "python3"
  },
  "language_info": {
   "codemirror_mode": {
    "name": "ipython",
    "version": 3
   },
   "file_extension": ".py",
   "mimetype": "text/x-python",
   "name": "python",
   "nbconvert_exporter": "python",
   "pygments_lexer": "ipython3",
   "version": "3.7.9"
  }
 },
 "nbformat": 4,
 "nbformat_minor": 4
}
